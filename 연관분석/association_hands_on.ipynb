{
 "cells": [
  {
   "cell_type": "markdown",
   "metadata": {
    "id": "afI-PVV2gzDD"
   },
   "source": [
    "# [셀프 1] grocery 장바구니 분석"
   ]
  },
  {
   "cell_type": "markdown",
   "metadata": {
    "id": "Tsk3B1s5gzDE"
   },
   "source": [
    "## 1.1 grocery 데이터 적재"
   ]
  },
  {
   "cell_type": "code",
   "execution_count": 2,
   "metadata": {
    "colab": {
     "base_uri": "https://localhost:8080/",
     "height": 403
    },
    "executionInfo": {
     "elapsed": 633,
     "status": "ok",
     "timestamp": 1656976231087,
     "user": {
      "displayName": "김정은(디지털애널리틱스융합협동과정)",
      "userId": "11793644014487376315"
     },
     "user_tz": -540
    },
    "id": "dzZy8d8sgzDF",
    "outputId": "1cac1776-35dd-43ec-aeff-65afb99344e7"
   },
   "outputs": [
    {
     "data": {
      "text/html": [
       "<div>\n",
       "<style scoped>\n",
       "    .dataframe tbody tr th:only-of-type {\n",
       "        vertical-align: middle;\n",
       "    }\n",
       "\n",
       "    .dataframe tbody tr th {\n",
       "        vertical-align: top;\n",
       "    }\n",
       "\n",
       "    .dataframe thead th {\n",
       "        text-align: right;\n",
       "    }\n",
       "</style>\n",
       "<table border=\"1\" class=\"dataframe\">\n",
       "  <thead>\n",
       "    <tr style=\"text-align: right;\">\n",
       "      <th></th>\n",
       "      <th>0</th>\n",
       "      <th>1</th>\n",
       "      <th>2</th>\n",
       "      <th>3</th>\n",
       "      <th>4</th>\n",
       "      <th>5</th>\n",
       "      <th>6</th>\n",
       "      <th>7</th>\n",
       "      <th>8</th>\n",
       "      <th>9</th>\n",
       "      <th>...</th>\n",
       "      <th>22</th>\n",
       "      <th>23</th>\n",
       "      <th>24</th>\n",
       "      <th>25</th>\n",
       "      <th>26</th>\n",
       "      <th>27</th>\n",
       "      <th>28</th>\n",
       "      <th>29</th>\n",
       "      <th>30</th>\n",
       "      <th>31</th>\n",
       "    </tr>\n",
       "  </thead>\n",
       "  <tbody>\n",
       "    <tr>\n",
       "      <th>9830</th>\n",
       "      <td>sausage</td>\n",
       "      <td>chicken</td>\n",
       "      <td>beef</td>\n",
       "      <td>hamburger meat</td>\n",
       "      <td>citrus fruit</td>\n",
       "      <td>grapes</td>\n",
       "      <td>root vegetables</td>\n",
       "      <td>whole milk</td>\n",
       "      <td>butter</td>\n",
       "      <td>whipped/sour cream</td>\n",
       "      <td>...</td>\n",
       "      <td>NaN</td>\n",
       "      <td>NaN</td>\n",
       "      <td>NaN</td>\n",
       "      <td>NaN</td>\n",
       "      <td>NaN</td>\n",
       "      <td>NaN</td>\n",
       "      <td>NaN</td>\n",
       "      <td>NaN</td>\n",
       "      <td>NaN</td>\n",
       "      <td>NaN</td>\n",
       "    </tr>\n",
       "    <tr>\n",
       "      <th>9831</th>\n",
       "      <td>cooking chocolate</td>\n",
       "      <td>NaN</td>\n",
       "      <td>NaN</td>\n",
       "      <td>NaN</td>\n",
       "      <td>NaN</td>\n",
       "      <td>NaN</td>\n",
       "      <td>NaN</td>\n",
       "      <td>NaN</td>\n",
       "      <td>NaN</td>\n",
       "      <td>NaN</td>\n",
       "      <td>...</td>\n",
       "      <td>NaN</td>\n",
       "      <td>NaN</td>\n",
       "      <td>NaN</td>\n",
       "      <td>NaN</td>\n",
       "      <td>NaN</td>\n",
       "      <td>NaN</td>\n",
       "      <td>NaN</td>\n",
       "      <td>NaN</td>\n",
       "      <td>NaN</td>\n",
       "      <td>NaN</td>\n",
       "    </tr>\n",
       "    <tr>\n",
       "      <th>9832</th>\n",
       "      <td>chicken</td>\n",
       "      <td>citrus fruit</td>\n",
       "      <td>other vegetables</td>\n",
       "      <td>butter</td>\n",
       "      <td>yogurt</td>\n",
       "      <td>frozen dessert</td>\n",
       "      <td>domestic eggs</td>\n",
       "      <td>rolls/buns</td>\n",
       "      <td>rum</td>\n",
       "      <td>cling film/bags</td>\n",
       "      <td>...</td>\n",
       "      <td>NaN</td>\n",
       "      <td>NaN</td>\n",
       "      <td>NaN</td>\n",
       "      <td>NaN</td>\n",
       "      <td>NaN</td>\n",
       "      <td>NaN</td>\n",
       "      <td>NaN</td>\n",
       "      <td>NaN</td>\n",
       "      <td>NaN</td>\n",
       "      <td>NaN</td>\n",
       "    </tr>\n",
       "    <tr>\n",
       "      <th>9833</th>\n",
       "      <td>semi-finished bread</td>\n",
       "      <td>bottled water</td>\n",
       "      <td>soda</td>\n",
       "      <td>bottled beer</td>\n",
       "      <td>NaN</td>\n",
       "      <td>NaN</td>\n",
       "      <td>NaN</td>\n",
       "      <td>NaN</td>\n",
       "      <td>NaN</td>\n",
       "      <td>NaN</td>\n",
       "      <td>...</td>\n",
       "      <td>NaN</td>\n",
       "      <td>NaN</td>\n",
       "      <td>NaN</td>\n",
       "      <td>NaN</td>\n",
       "      <td>NaN</td>\n",
       "      <td>NaN</td>\n",
       "      <td>NaN</td>\n",
       "      <td>NaN</td>\n",
       "      <td>NaN</td>\n",
       "      <td>NaN</td>\n",
       "    </tr>\n",
       "    <tr>\n",
       "      <th>9834</th>\n",
       "      <td>chicken</td>\n",
       "      <td>tropical fruit</td>\n",
       "      <td>other vegetables</td>\n",
       "      <td>vinegar</td>\n",
       "      <td>shopping bags</td>\n",
       "      <td>NaN</td>\n",
       "      <td>NaN</td>\n",
       "      <td>NaN</td>\n",
       "      <td>NaN</td>\n",
       "      <td>NaN</td>\n",
       "      <td>...</td>\n",
       "      <td>NaN</td>\n",
       "      <td>NaN</td>\n",
       "      <td>NaN</td>\n",
       "      <td>NaN</td>\n",
       "      <td>NaN</td>\n",
       "      <td>NaN</td>\n",
       "      <td>NaN</td>\n",
       "      <td>NaN</td>\n",
       "      <td>NaN</td>\n",
       "      <td>NaN</td>\n",
       "    </tr>\n",
       "  </tbody>\n",
       "</table>\n",
       "<p>5 rows × 32 columns</p>\n",
       "</div>"
      ],
      "text/plain": [
       "                       0               1                 2               3   \\\n",
       "9830              sausage         chicken              beef  hamburger meat   \n",
       "9831    cooking chocolate             NaN               NaN             NaN   \n",
       "9832              chicken    citrus fruit  other vegetables          butter   \n",
       "9833  semi-finished bread   bottled water              soda    bottled beer   \n",
       "9834              chicken  tropical fruit  other vegetables         vinegar   \n",
       "\n",
       "                 4               5                6           7       8   \\\n",
       "9830   citrus fruit          grapes  root vegetables  whole milk  butter   \n",
       "9831            NaN             NaN              NaN         NaN     NaN   \n",
       "9832         yogurt  frozen dessert    domestic eggs  rolls/buns     rum   \n",
       "9833            NaN             NaN              NaN         NaN     NaN   \n",
       "9834  shopping bags             NaN              NaN         NaN     NaN   \n",
       "\n",
       "                      9   ...   22   23   24   25   26   27   28   29   30  \\\n",
       "9830  whipped/sour cream  ...  NaN  NaN  NaN  NaN  NaN  NaN  NaN  NaN  NaN   \n",
       "9831                 NaN  ...  NaN  NaN  NaN  NaN  NaN  NaN  NaN  NaN  NaN   \n",
       "9832     cling film/bags  ...  NaN  NaN  NaN  NaN  NaN  NaN  NaN  NaN  NaN   \n",
       "9833                 NaN  ...  NaN  NaN  NaN  NaN  NaN  NaN  NaN  NaN  NaN   \n",
       "9834                 NaN  ...  NaN  NaN  NaN  NaN  NaN  NaN  NaN  NaN  NaN   \n",
       "\n",
       "       31  \n",
       "9830  NaN  \n",
       "9831  NaN  \n",
       "9832  NaN  \n",
       "9833  NaN  \n",
       "9834  NaN  \n",
       "\n",
       "[5 rows x 32 columns]"
      ]
     },
     "execution_count": 2,
     "metadata": {},
     "output_type": "execute_result"
    }
   ],
   "source": [
    "# 1.1 grocery 데이터 적재\n",
    "# grocery 데이터를 github로 부터 읽어 들이고 내용물을 확인한다. \n",
    "# pandas의 read_csv 함수를 사용한다. \n",
    "\n",
    "import pandas as pd\n",
    "\n",
    "path = 'https://github.com/sagelab4data/kdata_yonsei/blob/main/groceries.csv?raw=true'\n",
    "grocery_csv = pd.read_csv(path, header = None)\n",
    "grocery_csv.tail() "
   ]
  },
  {
   "cell_type": "markdown",
   "metadata": {
    "id": "V6WgzYvpgzDI"
   },
   "source": [
    "## 1.2 grocery 데이터 가공\n",
    "* apyori에서 분석 가능한 리스트 형태로 변환"
   ]
  },
  {
   "cell_type": "code",
   "execution_count": 5,
   "metadata": {
    "colab": {
     "base_uri": "https://localhost:8080/"
    },
    "executionInfo": {
     "elapsed": 3046,
     "status": "ok",
     "timestamp": 1656976234130,
     "user": {
      "displayName": "김정은(디지털애널리틱스융합협동과정)",
      "userId": "11793644014487376315"
     },
     "user_tz": -540
    },
    "id": "J1q0CQwCgzDI",
    "outputId": "9ef8204a-6adc-4975-965c-3f48767407e8"
   },
   "outputs": [
    {
     "data": {
      "text/plain": [
       "[['chicken',\n",
       "  'citrus fruit',\n",
       "  'other vegetables',\n",
       "  'butter',\n",
       "  'yogurt',\n",
       "  'frozen dessert',\n",
       "  'domestic eggs',\n",
       "  'rolls/buns',\n",
       "  'rum',\n",
       "  'cling film/bags'],\n",
       " ['semi-finished bread', 'bottled water', 'soda', 'bottled beer'],\n",
       " ['chicken', 'tropical fruit', 'other vegetables', 'vinegar', 'shopping bags']]"
      ]
     },
     "execution_count": 5,
     "metadata": {},
     "output_type": "execute_result"
    }
   ],
   "source": [
    "# 1.2 grocery 데이터 가공\n",
    "# grocery 데이터를 apyori 라이브러리에서 사용 할 수 있는 형태인 \n",
    "# 리스트 형태로 변환한다. \n",
    "# DataFramd의 행단위 순회 메소드 .iterrows()--> idx, row_series \n",
    "\n",
    "grocery_list = [  list(row_series.dropna())  for  idx,row_series in grocery_csv.iterrows() ]\n",
    "\n",
    "# 마지막 3개 리스트 출력\n",
    "grocery_list[-3:]"
   ]
  },
  {
   "cell_type": "markdown",
   "metadata": {
    "id": "Tpz1cni6gzDK"
   },
   "source": [
    "## 1.3 트랜잭션과 항목수 확인"
   ]
  },
  {
   "cell_type": "code",
   "execution_count": 7,
   "metadata": {
    "id": "KGsd7R0PgzDK"
   },
   "outputs": [
    {
     "data": {
      "text/plain": [
       "9835"
      ]
     },
     "execution_count": 7,
     "metadata": {},
     "output_type": "execute_result"
    }
   ],
   "source": [
    "# 1.3 전체 거래건수와  항목수를 확인해보자.\n",
    "# 1.3.1 트랜젝션수\n",
    "\n",
    "N = len(grocery_list)\n",
    "N\n"
   ]
  },
  {
   "cell_type": "code",
   "execution_count": 9,
   "metadata": {
    "id": "KI7F4ETNgzDL"
   },
   "outputs": [],
   "source": [
    "# 1.3.2 항목수 \n",
    "k = len( set([ item for tr in grocery_list for item in tr]))"
   ]
  },
  {
   "cell_type": "code",
   "execution_count": 10,
   "metadata": {
    "colab": {
     "base_uri": "https://localhost:8080/"
    },
    "executionInfo": {
     "elapsed": 15,
     "status": "ok",
     "timestamp": 1656976234132,
     "user": {
      "displayName": "김정은(디지털애널리틱스융합협동과정)",
      "userId": "11793644014487376315"
     },
     "user_tz": -540
    },
    "id": "d__dlATpgzDL",
    "outputId": "5b312f8d-0786-4af4-b724-7a9da75d124e"
   },
   "outputs": [
    {
     "name": "stdout",
     "output_type": "stream",
     "text": [
      "거래 건수 N :9835, 항목 개수 k: 169\n"
     ]
    }
   ],
   "source": [
    "# 1.3.3 출력\n",
    "\n",
    "print(f'거래 건수 N :{N}, 항목 개수 k: {k}')"
   ]
  },
  {
   "cell_type": "markdown",
   "metadata": {
    "id": "jsV2PO5sgzDM"
   },
   "source": [
    "## 1.4 apyori 라이브러리와 출력함수 정의"
   ]
  },
  {
   "cell_type": "code",
   "execution_count": 11,
   "metadata": {
    "colab": {
     "base_uri": "https://localhost:8080/"
    },
    "executionInfo": {
     "elapsed": 7412,
     "status": "ok",
     "timestamp": 1656976241532,
     "user": {
      "displayName": "김정은(디지털애널리틱스융합협동과정)",
      "userId": "11793644014487376315"
     },
     "user_tz": -540
    },
    "id": "mkBekkDUgzDM",
    "outputId": "a8b20c02-7c29-4b6c-fd1f-57f6d848cda9"
   },
   "outputs": [
    {
     "name": "stdout",
     "output_type": "stream",
     "text": [
      "Collecting apyori\n",
      "  Downloading apyori-1.1.2.tar.gz (8.6 kB)\n",
      "Building wheels for collected packages: apyori\n",
      "  Building wheel for apyori (setup.py): started\n",
      "  Building wheel for apyori (setup.py): finished with status 'done'\n",
      "  Created wheel for apyori: filename=apyori-1.1.2-py3-none-any.whl size=5979 sha256=33c65a2bb1f6661fecc14c07f004ee29f46afca913a43a70c84ef5d43c7eb493\n",
      "  Stored in directory: c:\\users\\yysk_\\appdata\\local\\pip\\cache\\wheels\\1b\\02\\6c\\a45230be8603bd95c0a51cd2b289aefdd860c1a100eab73661\n",
      "Successfully built apyori\n",
      "Installing collected packages: apyori\n",
      "Successfully installed apyori-1.1.2\n"
     ]
    }
   ],
   "source": [
    "# 1.4 apyori 라이브러리 준비와 출력함수 print_rr 정의 (수업 내용 복습)\n",
    "# apyori 라이브러리를 이용해서 가장 지지도가 높은 항목을 찾아보자. \n",
    "# 1.4.1 라이브러리 설치 및 import. \n",
    "\n",
    "!pip install apyori\n",
    "import apyori as ap"
   ]
  },
  {
   "cell_type": "code",
   "execution_count": 12,
   "metadata": {
    "id": "qIrz1dO3gzDN"
   },
   "outputs": [
    {
     "name": "stdout",
     "output_type": "stream",
     "text": [
      "['tropical fruit', 'yogurt', 'coffee']\n"
     ]
    }
   ],
   "source": [
    "# 1.4.2 RelationRecord 출력을 위한 함수 \n",
    "\n",
    "def print_rr(rr) :\n",
    "  support = rr[1]\n",
    "  ord_st = list(rr[2])\n",
    "  if len(ord_st) >=1 :\n",
    "    for  i in ord_st :\n",
    "      lhs = set(i[0])\n",
    "      rhs = set(i[1])\n",
    "  \n",
    "      confidence = i[2]\n",
    "      lift = i[3]\n",
    "      print (f'{lhs}=>{rhs}, support={support:.2f},',\n",
    "          f' confidence={confidence:.2f}, lift={lift:.2f} ')\n",
    "\n",
    "print(grocery_list[1])\n",
    "\n"
   ]
  },
  {
   "cell_type": "code",
   "execution_count": null,
   "metadata": {
    "colab": {
     "base_uri": "https://localhost:8080/"
    },
    "executionInfo": {
     "elapsed": 13,
     "status": "ok",
     "timestamp": 1656976241534,
     "user": {
      "displayName": "김정은(디지털애널리틱스융합협동과정)",
      "userId": "11793644014487376315"
     },
     "user_tz": -540
    },
    "id": "B719qkASgzDO",
    "outputId": "ad1dbe4b-c04d-4f61-8208-9666d5e79466"
   },
   "outputs": [
    {
     "name": "stdout",
     "output_type": "stream",
     "text": [
      "set()=>{'bottled water'}, support=0.11,  confidence=0.11, lift=1.00 \n",
      "set()=>{'other vegetables'}, support=0.19,  confidence=0.19, lift=1.00 \n",
      "set()=>{'rolls/buns'}, support=0.18,  confidence=0.18, lift=1.00 \n",
      "set()=>{'root vegetables'}, support=0.11,  confidence=0.11, lift=1.00 \n",
      "set()=>{'soda'}, support=0.17,  confidence=0.17, lift=1.00 \n",
      "set()=>{'tropical fruit'}, support=0.10,  confidence=0.10, lift=1.00 \n",
      "set()=>{'whole milk'}, support=0.26,  confidence=0.26, lift=1.00 \n",
      "set()=>{'yogurt'}, support=0.14,  confidence=0.14, lift=1.00 \n"
     ]
    }
   ],
   "source": [
    "# 1.4.3 apiori 함수를 이용해서 가장 지지도가 높은 항목을 찾아본다.\n",
    "# 최소신뢰도를 지정하지 않고 수행하면 지지도에 의해 목록이 결정된다.\n",
    "#  일단 최소 지지도 0.1로 try\n",
    "\n",
    "rules = ***\n",
    "\n",
    "# for 문 이용해서 출력\n",
    "***"
   ]
  },
  {
   "cell_type": "markdown",
   "metadata": {
    "id": "59Qc-qxngzDO"
   },
   "source": [
    "## 1.5 적정 지지도 탐색\n",
    "- 최소지지도가 1% 이상인 상품(항목) 건수는? 2%, 3%...? "
   ]
  },
  {
   "cell_type": "code",
   "execution_count": null,
   "metadata": {
    "colab": {
     "base_uri": "https://localhost:8080/",
     "height": 295
    },
    "executionInfo": {
     "elapsed": 1352,
     "status": "ok",
     "timestamp": 1656976242877,
     "user": {
      "displayName": "김정은(디지털애널리틱스융합협동과정)",
      "userId": "11793644014487376315"
     },
     "user_tz": -540
    },
    "id": "TE8BdNFhgzDP",
    "outputId": "179b20e3-c198-42dd-cad9-d7253f3bb1cf"
   },
   "outputs": [
    {
     "data": {
      "image/png": "[encoded data removed]",
      "text/plain": [
       "<Figure size 432x288 with 1 Axes>"
      ]
     },
     "metadata": {
      "needs_background": "light"
     },
     "output_type": "display_data"
    }
   ],
   "source": [
    "# 1.5  적절한 최소지지도를 선정하고 이를 관찰해본다. \n",
    "# 1.5.1 적절한 지지도의 상품 개수가 되도록 찾아본다.  (0.01 ~ 0.1)\n",
    "\n",
    "# 라이브러리 import numpy, matplotlib.pyplot\n",
    "***\n",
    "\n",
    "# 최소 지지도 출력 범위 (0.01~0.10, 0.01 단위로 )\n",
    "min_sup_range = ***\n",
    "\n",
    "# min_sup_range 를 최소지지도로 빈발항목 생성 및 개수 세어 \n",
    "# frequent_itemsets_count에 저장 \n",
    "***\n",
    "\n",
    "# 지지도별 상품 건수 꺾은선 그래프로 출력\n",
    "***"
   ]
  },
  {
   "cell_type": "code",
   "execution_count": null,
   "metadata": {
    "id": "ugjpSxwlgzDP"
   },
   "outputs": [],
   "source": [
    "#[참고] 상기 frequent_itemsets_count의 for문은 다음과 같이 작성 할 수 있다. \n",
    "frequent_itemsets_count =[ len(list(ap.apriori(grocery_list, min_support= ms)))\n",
    "                           for ms in min_sup_range]"
   ]
  },
  {
   "cell_type": "markdown",
   "metadata": {
    "id": "qE4f0hj2gzDQ"
   },
   "source": [
    "* 트랜잭션 9835 건, 항목개수 169개\n",
    "* 0.01에서 300건 이상, 0.02에서 120건 전후의 빈발항목이 관찰된다. \n",
    "* 최소지지도 0.02를 후보로 두고 0.02의 빈발항목 관찰"
   ]
  },
  {
   "cell_type": "markdown",
   "metadata": {
    "id": "jIccN3iYgzDR"
   },
   "source": [
    "### 최소지지도 0.02에서 121건 빈발항목"
   ]
  },
  {
   "cell_type": "code",
   "execution_count": null,
   "metadata": {
    "colab": {
     "base_uri": "https://localhost:8080/"
    },
    "executionInfo": {
     "elapsed": 22,
     "status": "ok",
     "timestamp": 1656976243816,
     "user": {
      "displayName": "김정은(디지털애널리틱스융합협동과정)",
      "userId": "11793644014487376315"
     },
     "user_tz": -540
    },
    "id": "RAk6Rf9rgzDR",
    "outputId": "799006d4-4b55-45ad-9116-1ad3548bddae"
   },
   "outputs": [
    {
     "name": "stdout",
     "output_type": "stream",
     "text": [
      "min sup : 0.02,  min conf : N/A\n",
      "frequent its count : 122\n",
      "0:set()=>{'UHT-milk'}, support=0.03,  confidence=0.03, lift=1.00 \n",
      "1:set()=>{'beef'}, support=0.05,  confidence=0.05, lift=1.00 \n",
      "2:set()=>{'berries'}, support=0.03,  confidence=0.03, lift=1.00 \n",
      "3:set()=>{'beverages'}, support=0.03,  confidence=0.03, lift=1.00 \n",
      "4:set()=>{'bottled beer'}, support=0.08,  confidence=0.08, lift=1.00 \n",
      "5:set()=>{'bottled water'}, support=0.11,  confidence=0.11, lift=1.00 \n",
      "6:set()=>{'brown bread'}, support=0.06,  confidence=0.06, lift=1.00 \n",
      "7:set()=>{'butter'}, support=0.06,  confidence=0.06, lift=1.00 \n",
      "8:set()=>{'butter milk'}, support=0.03,  confidence=0.03, lift=1.00 \n",
      "9:set()=>{'candy'}, support=0.03,  confidence=0.03, lift=1.00 \n",
      "10:set()=>{'canned beer'}, support=0.08,  confidence=0.08, lift=1.00 \n",
      "11:set()=>{'cat food'}, support=0.02,  confidence=0.02, lift=1.00 \n",
      "12:set()=>{'chewing gum'}, support=0.02,  confidence=0.02, lift=1.00 \n",
      "13:set()=>{'chicken'}, support=0.04,  confidence=0.04, lift=1.00 \n",
      "14:set()=>{'chocolate'}, support=0.05,  confidence=0.05, lift=1.00 \n",
      "15:set()=>{'citrus fruit'}, support=0.08,  confidence=0.08, lift=1.00 \n",
      "16:set()=>{'coffee'}, support=0.06,  confidence=0.06, lift=1.00 \n",
      "17:set()=>{'cream cheese '}, support=0.04,  confidence=0.04, lift=1.00 \n",
      "18:set()=>{'curd'}, support=0.05,  confidence=0.05, lift=1.00 \n",
      "19:set()=>{'dessert'}, support=0.04,  confidence=0.04, lift=1.00 \n",
      "20:set()=>{'domestic eggs'}, support=0.06,  confidence=0.06, lift=1.00 \n",
      "21:set()=>{'frankfurter'}, support=0.06,  confidence=0.06, lift=1.00 \n",
      "22:set()=>{'frozen meals'}, support=0.03,  confidence=0.03, lift=1.00 \n",
      "23:set()=>{'frozen vegetables'}, support=0.05,  confidence=0.05, lift=1.00 \n",
      "24:set()=>{'fruit/vegetable juice'}, support=0.07,  confidence=0.07, lift=1.00 \n",
      "25:set()=>{'grapes'}, support=0.02,  confidence=0.02, lift=1.00 \n",
      "26:set()=>{'ham'}, support=0.03,  confidence=0.03, lift=1.00 \n",
      "27:set()=>{'hamburger meat'}, support=0.03,  confidence=0.03, lift=1.00 \n",
      "28:set()=>{'hard cheese'}, support=0.02,  confidence=0.02, lift=1.00 \n",
      "29:set()=>{'hygiene articles'}, support=0.03,  confidence=0.03, lift=1.00 \n",
      "30:set()=>{'ice cream'}, support=0.03,  confidence=0.03, lift=1.00 \n",
      "31:set()=>{'long life bakery product'}, support=0.04,  confidence=0.04, lift=1.00 \n",
      "32:set()=>{'margarine'}, support=0.06,  confidence=0.06, lift=1.00 \n",
      "33:set()=>{'meat'}, support=0.03,  confidence=0.03, lift=1.00 \n",
      "34:set()=>{'misc. beverages'}, support=0.03,  confidence=0.03, lift=1.00 \n",
      "35:set()=>{'napkins'}, support=0.05,  confidence=0.05, lift=1.00 \n",
      "36:set()=>{'newspapers'}, support=0.08,  confidence=0.08, lift=1.00 \n",
      "37:set()=>{'oil'}, support=0.03,  confidence=0.03, lift=1.00 \n",
      "38:set()=>{'onions'}, support=0.03,  confidence=0.03, lift=1.00 \n",
      "39:set()=>{'other vegetables'}, support=0.19,  confidence=0.19, lift=1.00 \n",
      "40:set()=>{'pastry'}, support=0.09,  confidence=0.09, lift=1.00 \n",
      "41:set()=>{'pip fruit'}, support=0.08,  confidence=0.08, lift=1.00 \n",
      "42:set()=>{'pork'}, support=0.06,  confidence=0.06, lift=1.00 \n",
      "43:set()=>{'rolls/buns'}, support=0.18,  confidence=0.18, lift=1.00 \n",
      "44:set()=>{'root vegetables'}, support=0.11,  confidence=0.11, lift=1.00 \n",
      "45:set()=>{'salty snack'}, support=0.04,  confidence=0.04, lift=1.00 \n",
      "46:set()=>{'sausage'}, support=0.09,  confidence=0.09, lift=1.00 \n",
      "47:set()=>{'shopping bags'}, support=0.10,  confidence=0.10, lift=1.00 \n",
      "48:set()=>{'sliced cheese'}, support=0.02,  confidence=0.02, lift=1.00 \n",
      "49:set()=>{'soda'}, support=0.17,  confidence=0.17, lift=1.00 \n",
      "50:set()=>{'specialty bar'}, support=0.03,  confidence=0.03, lift=1.00 \n",
      "51:set()=>{'specialty chocolate'}, support=0.03,  confidence=0.03, lift=1.00 \n",
      "52:set()=>{'sugar'}, support=0.03,  confidence=0.03, lift=1.00 \n",
      "53:set()=>{'tropical fruit'}, support=0.10,  confidence=0.10, lift=1.00 \n",
      "54:set()=>{'waffles'}, support=0.04,  confidence=0.04, lift=1.00 \n",
      "55:set()=>{'whipped/sour cream'}, support=0.07,  confidence=0.07, lift=1.00 \n",
      "56:set()=>{'white bread'}, support=0.04,  confidence=0.04, lift=1.00 \n",
      "57:set()=>{'whole milk'}, support=0.26,  confidence=0.26, lift=1.00 \n",
      "58:set()=>{'yogurt'}, support=0.14,  confidence=0.14, lift=1.00 \n",
      "59:set()=>{'whole milk', 'beef'}, support=0.02,  confidence=0.02, lift=1.00 \n",
      "{'beef'}=>{'whole milk'}, support=0.02,  confidence=0.41, lift=1.59 \n",
      "{'whole milk'}=>{'beef'}, support=0.02,  confidence=0.08, lift=1.59 \n",
      "60:set()=>{'bottled beer', 'whole milk'}, support=0.02,  confidence=0.02, lift=1.00 \n",
      "{'bottled beer'}=>{'whole milk'}, support=0.02,  confidence=0.25, lift=0.99 \n",
      "{'whole milk'}=>{'bottled beer'}, support=0.02,  confidence=0.08, lift=0.99 \n",
      "61:set()=>{'bottled water', 'other vegetables'}, support=0.02,  confidence=0.02, lift=1.00 \n",
      "{'bottled water'}=>{'other vegetables'}, support=0.02,  confidence=0.22, lift=1.16 \n",
      "{'other vegetables'}=>{'bottled water'}, support=0.02,  confidence=0.13, lift=1.16 \n",
      "62:set()=>{'bottled water', 'rolls/buns'}, support=0.02,  confidence=0.02, lift=1.00 \n",
      "{'bottled water'}=>{'rolls/buns'}, support=0.02,  confidence=0.22, lift=1.19 \n",
      "{'rolls/buns'}=>{'bottled water'}, support=0.02,  confidence=0.13, lift=1.19 \n",
      "63:set()=>{'bottled water', 'soda'}, support=0.03,  confidence=0.03, lift=1.00 \n",
      "{'bottled water'}=>{'soda'}, support=0.03,  confidence=0.26, lift=1.50 \n",
      "{'soda'}=>{'bottled water'}, support=0.03,  confidence=0.17, lift=1.50 \n",
      "64:set()=>{'bottled water', 'whole milk'}, support=0.03,  confidence=0.03, lift=1.00 \n",
      "{'bottled water'}=>{'whole milk'}, support=0.03,  confidence=0.31, lift=1.22 \n",
      "{'whole milk'}=>{'bottled water'}, support=0.03,  confidence=0.13, lift=1.22 \n",
      "65:set()=>{'bottled water', 'yogurt'}, support=0.02,  confidence=0.02, lift=1.00 \n",
      "{'bottled water'}=>{'yogurt'}, support=0.02,  confidence=0.21, lift=1.49 \n",
      "{'yogurt'}=>{'bottled water'}, support=0.02,  confidence=0.16, lift=1.49 \n",
      "66:set()=>{'whole milk', 'brown bread'}, support=0.03,  confidence=0.03, lift=1.00 \n",
      "{'brown bread'}=>{'whole milk'}, support=0.03,  confidence=0.39, lift=1.52 \n",
      "{'whole milk'}=>{'brown bread'}, support=0.03,  confidence=0.10, lift=1.52 \n",
      "67:set()=>{'other vegetables', 'butter'}, support=0.02,  confidence=0.02, lift=1.00 \n",
      "{'butter'}=>{'other vegetables'}, support=0.02,  confidence=0.36, lift=1.87 \n",
      "{'other vegetables'}=>{'butter'}, support=0.02,  confidence=0.10, lift=1.87 \n",
      "68:set()=>{'butter', 'whole milk'}, support=0.03,  confidence=0.03, lift=1.00 \n",
      "{'butter'}=>{'whole milk'}, support=0.03,  confidence=0.50, lift=1.95 \n",
      "{'whole milk'}=>{'butter'}, support=0.03,  confidence=0.11, lift=1.95 \n",
      "69:set()=>{'other vegetables', 'citrus fruit'}, support=0.03,  confidence=0.03, lift=1.00 \n",
      "{'citrus fruit'}=>{'other vegetables'}, support=0.03,  confidence=0.35, lift=1.80 \n",
      "{'other vegetables'}=>{'citrus fruit'}, support=0.03,  confidence=0.15, lift=1.80 \n",
      "70:set()=>{'citrus fruit', 'whole milk'}, support=0.03,  confidence=0.03, lift=1.00 \n",
      "{'citrus fruit'}=>{'whole milk'}, support=0.03,  confidence=0.37, lift=1.44 \n",
      "{'whole milk'}=>{'citrus fruit'}, support=0.03,  confidence=0.12, lift=1.44 \n",
      "71:set()=>{'yogurt', 'citrus fruit'}, support=0.02,  confidence=0.02, lift=1.00 \n",
      "{'citrus fruit'}=>{'yogurt'}, support=0.02,  confidence=0.26, lift=1.88 \n",
      "{'yogurt'}=>{'citrus fruit'}, support=0.02,  confidence=0.16, lift=1.88 \n",
      "72:set()=>{'whole milk', 'curd'}, support=0.03,  confidence=0.03, lift=1.00 \n",
      "{'curd'}=>{'whole milk'}, support=0.03,  confidence=0.49, lift=1.92 \n",
      "{'whole milk'}=>{'curd'}, support=0.03,  confidence=0.10, lift=1.92 \n",
      "73:set()=>{'domestic eggs', 'other vegetables'}, support=0.02,  confidence=0.02, lift=1.00 \n",
      "{'domestic eggs'}=>{'other vegetables'}, support=0.02,  confidence=0.35, lift=1.81 \n",
      "{'other vegetables'}=>{'domestic eggs'}, support=0.02,  confidence=0.12, lift=1.81 \n",
      "74:set()=>{'domestic eggs', 'whole milk'}, support=0.03,  confidence=0.03, lift=1.00 \n",
      "{'domestic eggs'}=>{'whole milk'}, support=0.03,  confidence=0.47, lift=1.85 \n",
      "{'whole milk'}=>{'domestic eggs'}, support=0.03,  confidence=0.12, lift=1.85 \n",
      "75:set()=>{'whole milk', 'frankfurter'}, support=0.02,  confidence=0.02, lift=1.00 \n",
      "{'frankfurter'}=>{'whole milk'}, support=0.02,  confidence=0.35, lift=1.36 \n",
      "{'whole milk'}=>{'frankfurter'}, support=0.02,  confidence=0.08, lift=1.36 \n",
      "76:set()=>{'whole milk', 'frozen vegetables'}, support=0.02,  confidence=0.02, lift=1.00 \n",
      "{'frozen vegetables'}=>{'whole milk'}, support=0.02,  confidence=0.42, lift=1.66 \n",
      "{'whole milk'}=>{'frozen vegetables'}, support=0.02,  confidence=0.08, lift=1.66 \n",
      "77:set()=>{'other vegetables', 'fruit/vegetable juice'}, support=0.02,  confidence=0.02, lift=1.00 \n",
      "{'fruit/vegetable juice'}=>{'other vegetables'}, support=0.02,  confidence=0.29, lift=1.50 \n",
      "{'other vegetables'}=>{'fruit/vegetable juice'}, support=0.02,  confidence=0.11, lift=1.50 \n",
      "78:set()=>{'whole milk', 'fruit/vegetable juice'}, support=0.03,  confidence=0.03, lift=1.00 \n",
      "{'fruit/vegetable juice'}=>{'whole milk'}, support=0.03,  confidence=0.37, lift=1.44 \n",
      "{'whole milk'}=>{'fruit/vegetable juice'}, support=0.03,  confidence=0.10, lift=1.44 \n",
      "79:set()=>{'whole milk', 'margarine'}, support=0.02,  confidence=0.02, lift=1.00 \n",
      "{'margarine'}=>{'whole milk'}, support=0.02,  confidence=0.41, lift=1.62 \n",
      "{'whole milk'}=>{'margarine'}, support=0.02,  confidence=0.09, lift=1.62 \n",
      "80:set()=>{'whole milk', 'newspapers'}, support=0.03,  confidence=0.03, lift=1.00 \n",
      "{'newspapers'}=>{'whole milk'}, support=0.03,  confidence=0.34, lift=1.34 \n",
      "{'whole milk'}=>{'newspapers'}, support=0.03,  confidence=0.11, lift=1.34 \n",
      "81:set()=>{'other vegetables', 'pastry'}, support=0.02,  confidence=0.02, lift=1.00 \n",
      "{'other vegetables'}=>{'pastry'}, support=0.02,  confidence=0.12, lift=1.31 \n",
      "{'pastry'}=>{'other vegetables'}, support=0.02,  confidence=0.25, lift=1.31 \n",
      "82:set()=>{'other vegetables', 'pip fruit'}, support=0.03,  confidence=0.03, lift=1.00 \n",
      "{'other vegetables'}=>{'pip fruit'}, support=0.03,  confidence=0.14, lift=1.79 \n",
      "{'pip fruit'}=>{'other vegetables'}, support=0.03,  confidence=0.35, lift=1.79 \n",
      "83:set()=>{'other vegetables', 'pork'}, support=0.02,  confidence=0.02, lift=1.00 \n",
      "{'other vegetables'}=>{'pork'}, support=0.02,  confidence=0.11, lift=1.94 \n",
      "{'pork'}=>{'other vegetables'}, support=0.02,  confidence=0.38, lift=1.94 \n",
      "84:set()=>{'other vegetables', 'rolls/buns'}, support=0.04,  confidence=0.04, lift=1.00 \n",
      "{'other vegetables'}=>{'rolls/buns'}, support=0.04,  confidence=0.22, lift=1.20 \n",
      "{'rolls/buns'}=>{'other vegetables'}, support=0.04,  confidence=0.23, lift=1.20 \n",
      "85:set()=>{'other vegetables', 'root vegetables'}, support=0.05,  confidence=0.05, lift=1.00 \n",
      "{'other vegetables'}=>{'root vegetables'}, support=0.05,  confidence=0.24, lift=2.25 \n",
      "{'root vegetables'}=>{'other vegetables'}, support=0.05,  confidence=0.43, lift=2.25 \n",
      "86:set()=>{'other vegetables', 'sausage'}, support=0.03,  confidence=0.03, lift=1.00 \n",
      "{'other vegetables'}=>{'sausage'}, support=0.03,  confidence=0.14, lift=1.48 \n",
      "{'sausage'}=>{'other vegetables'}, support=0.03,  confidence=0.29, lift=1.48 \n",
      "87:set()=>{'other vegetables', 'shopping bags'}, support=0.02,  confidence=0.02, lift=1.00 \n",
      "{'other vegetables'}=>{'shopping bags'}, support=0.02,  confidence=0.12, lift=1.22 \n",
      "{'shopping bags'}=>{'other vegetables'}, support=0.02,  confidence=0.24, lift=1.22 \n",
      "88:set()=>{'other vegetables', 'soda'}, support=0.03,  confidence=0.03, lift=1.00 \n",
      "{'other vegetables'}=>{'soda'}, support=0.03,  confidence=0.17, lift=0.97 \n",
      "{'soda'}=>{'other vegetables'}, support=0.03,  confidence=0.19, lift=0.97 \n",
      "89:set()=>{'other vegetables', 'tropical fruit'}, support=0.04,  confidence=0.04, lift=1.00 \n",
      "{'other vegetables'}=>{'tropical fruit'}, support=0.04,  confidence=0.19, lift=1.77 \n",
      "{'tropical fruit'}=>{'other vegetables'}, support=0.04,  confidence=0.34, lift=1.77 \n",
      "90:set()=>{'other vegetables', 'whipped/sour cream'}, support=0.03,  confidence=0.03, lift=1.00 \n",
      "{'other vegetables'}=>{'whipped/sour cream'}, support=0.03,  confidence=0.15, lift=2.08 \n",
      "{'whipped/sour cream'}=>{'other vegetables'}, support=0.03,  confidence=0.40, lift=2.08 \n",
      "91:set()=>{'other vegetables', 'whole milk'}, support=0.07,  confidence=0.07, lift=1.00 \n",
      "{'other vegetables'}=>{'whole milk'}, support=0.07,  confidence=0.39, lift=1.51 \n",
      "{'whole milk'}=>{'other vegetables'}, support=0.07,  confidence=0.29, lift=1.51 \n",
      "92:set()=>{'other vegetables', 'yogurt'}, support=0.04,  confidence=0.04, lift=1.00 \n",
      "{'other vegetables'}=>{'yogurt'}, support=0.04,  confidence=0.22, lift=1.61 \n",
      "{'yogurt'}=>{'other vegetables'}, support=0.04,  confidence=0.31, lift=1.61 \n",
      "93:set()=>{'pastry', 'rolls/buns'}, support=0.02,  confidence=0.02, lift=1.00 \n",
      "{'pastry'}=>{'rolls/buns'}, support=0.02,  confidence=0.24, lift=1.28 \n",
      "{'rolls/buns'}=>{'pastry'}, support=0.02,  confidence=0.11, lift=1.28 \n",
      "94:set()=>{'soda', 'pastry'}, support=0.02,  confidence=0.02, lift=1.00 \n",
      "{'pastry'}=>{'soda'}, support=0.02,  confidence=0.24, lift=1.36 \n",
      "{'soda'}=>{'pastry'}, support=0.02,  confidence=0.12, lift=1.36 \n",
      "95:set()=>{'whole milk', 'pastry'}, support=0.03,  confidence=0.03, lift=1.00 \n",
      "{'pastry'}=>{'whole milk'}, support=0.03,  confidence=0.37, lift=1.46 \n",
      "{'whole milk'}=>{'pastry'}, support=0.03,  confidence=0.13, lift=1.46 \n",
      "96:set()=>{'tropical fruit', 'pip fruit'}, support=0.02,  confidence=0.02, lift=1.00 \n",
      "{'pip fruit'}=>{'tropical fruit'}, support=0.02,  confidence=0.27, lift=2.57 \n",
      "{'tropical fruit'}=>{'pip fruit'}, support=0.02,  confidence=0.19, lift=2.57 \n",
      "97:set()=>{'whole milk', 'pip fruit'}, support=0.03,  confidence=0.03, lift=1.00 \n",
      "{'pip fruit'}=>{'whole milk'}, support=0.03,  confidence=0.40, lift=1.56 \n",
      "{'whole milk'}=>{'pip fruit'}, support=0.03,  confidence=0.12, lift=1.56 \n",
      "98:set()=>{'whole milk', 'pork'}, support=0.02,  confidence=0.02, lift=1.00 \n",
      "{'pork'}=>{'whole milk'}, support=0.02,  confidence=0.38, lift=1.50 \n",
      "{'whole milk'}=>{'pork'}, support=0.02,  confidence=0.09, lift=1.50 \n",
      "99:set()=>{'root vegetables', 'rolls/buns'}, support=0.02,  confidence=0.02, lift=1.00 \n",
      "{'rolls/buns'}=>{'root vegetables'}, support=0.02,  confidence=0.13, lift=1.21 \n",
      "{'root vegetables'}=>{'rolls/buns'}, support=0.02,  confidence=0.22, lift=1.21 \n",
      "100:set()=>{'rolls/buns', 'sausage'}, support=0.03,  confidence=0.03, lift=1.00 \n",
      "{'rolls/buns'}=>{'sausage'}, support=0.03,  confidence=0.17, lift=1.77 \n",
      "{'sausage'}=>{'rolls/buns'}, support=0.03,  confidence=0.33, lift=1.77 \n",
      "101:set()=>{'soda', 'rolls/buns'}, support=0.04,  confidence=0.04, lift=1.00 \n",
      "{'rolls/buns'}=>{'soda'}, support=0.04,  confidence=0.21, lift=1.20 \n",
      "{'soda'}=>{'rolls/buns'}, support=0.04,  confidence=0.22, lift=1.20 \n",
      "102:set()=>{'tropical fruit', 'rolls/buns'}, support=0.02,  confidence=0.02, lift=1.00 \n",
      "{'rolls/buns'}=>{'tropical fruit'}, support=0.02,  confidence=0.13, lift=1.27 \n",
      "{'tropical fruit'}=>{'rolls/buns'}, support=0.02,  confidence=0.23, lift=1.27 \n",
      "103:set()=>{'whole milk', 'rolls/buns'}, support=0.06,  confidence=0.06, lift=1.00 \n",
      "{'rolls/buns'}=>{'whole milk'}, support=0.06,  confidence=0.31, lift=1.21 \n",
      "{'whole milk'}=>{'rolls/buns'}, support=0.06,  confidence=0.22, lift=1.21 \n",
      "104:set()=>{'yogurt', 'rolls/buns'}, support=0.03,  confidence=0.03, lift=1.00 \n",
      "{'rolls/buns'}=>{'yogurt'}, support=0.03,  confidence=0.19, lift=1.34 \n",
      "{'yogurt'}=>{'rolls/buns'}, support=0.03,  confidence=0.25, lift=1.34 \n",
      "105:set()=>{'root vegetables', 'tropical fruit'}, support=0.02,  confidence=0.02, lift=1.00 \n",
      "{'root vegetables'}=>{'tropical fruit'}, support=0.02,  confidence=0.19, lift=1.84 \n",
      "{'tropical fruit'}=>{'root vegetables'}, support=0.02,  confidence=0.20, lift=1.84 \n",
      "106:set()=>{'whole milk', 'root vegetables'}, support=0.05,  confidence=0.05, lift=1.00 \n",
      "{'root vegetables'}=>{'whole milk'}, support=0.05,  confidence=0.45, lift=1.76 \n",
      "{'whole milk'}=>{'root vegetables'}, support=0.05,  confidence=0.19, lift=1.76 \n",
      "107:set()=>{'yogurt', 'root vegetables'}, support=0.03,  confidence=0.03, lift=1.00 \n",
      "{'root vegetables'}=>{'yogurt'}, support=0.03,  confidence=0.24, lift=1.70 \n",
      "{'yogurt'}=>{'root vegetables'}, support=0.03,  confidence=0.19, lift=1.70 \n",
      "108:set()=>{'soda', 'sausage'}, support=0.02,  confidence=0.02, lift=1.00 \n",
      "{'sausage'}=>{'soda'}, support=0.02,  confidence=0.26, lift=1.48 \n",
      "{'soda'}=>{'sausage'}, support=0.02,  confidence=0.14, lift=1.48 \n",
      "109:set()=>{'whole milk', 'sausage'}, support=0.03,  confidence=0.03, lift=1.00 \n",
      "{'sausage'}=>{'whole milk'}, support=0.03,  confidence=0.32, lift=1.25 \n",
      "{'whole milk'}=>{'sausage'}, support=0.03,  confidence=0.12, lift=1.25 \n",
      "110:set()=>{'soda', 'shopping bags'}, support=0.02,  confidence=0.02, lift=1.00 \n",
      "{'shopping bags'}=>{'soda'}, support=0.02,  confidence=0.25, lift=1.43 \n",
      "{'soda'}=>{'shopping bags'}, support=0.02,  confidence=0.14, lift=1.43 \n",
      "111:set()=>{'whole milk', 'shopping bags'}, support=0.02,  confidence=0.02, lift=1.00 \n",
      "{'shopping bags'}=>{'whole milk'}, support=0.02,  confidence=0.25, lift=0.97 \n",
      "{'whole milk'}=>{'shopping bags'}, support=0.02,  confidence=0.10, lift=0.97 \n",
      "112:set()=>{'soda', 'tropical fruit'}, support=0.02,  confidence=0.02, lift=1.00 \n",
      "{'soda'}=>{'tropical fruit'}, support=0.02,  confidence=0.12, lift=1.14 \n",
      "{'tropical fruit'}=>{'soda'}, support=0.02,  confidence=0.20, lift=1.14 \n",
      "113:set()=>{'whole milk', 'soda'}, support=0.04,  confidence=0.04, lift=1.00 \n",
      "{'soda'}=>{'whole milk'}, support=0.04,  confidence=0.23, lift=0.90 \n",
      "{'whole milk'}=>{'soda'}, support=0.04,  confidence=0.16, lift=0.90 \n",
      "114:set()=>{'yogurt', 'soda'}, support=0.03,  confidence=0.03, lift=1.00 \n",
      "{'soda'}=>{'yogurt'}, support=0.03,  confidence=0.16, lift=1.12 \n",
      "{'yogurt'}=>{'soda'}, support=0.03,  confidence=0.20, lift=1.12 \n",
      "115:set()=>{'whole milk', 'tropical fruit'}, support=0.04,  confidence=0.04, lift=1.00 \n",
      "{'tropical fruit'}=>{'whole milk'}, support=0.04,  confidence=0.40, lift=1.58 \n",
      "{'whole milk'}=>{'tropical fruit'}, support=0.04,  confidence=0.17, lift=1.58 \n",
      "116:set()=>{'yogurt', 'tropical fruit'}, support=0.03,  confidence=0.03, lift=1.00 \n",
      "{'tropical fruit'}=>{'yogurt'}, support=0.03,  confidence=0.28, lift=2.00 \n",
      "{'yogurt'}=>{'tropical fruit'}, support=0.03,  confidence=0.21, lift=2.00 \n",
      "117:set()=>{'whole milk', 'whipped/sour cream'}, support=0.03,  confidence=0.03, lift=1.00 \n",
      "{'whipped/sour cream'}=>{'whole milk'}, support=0.03,  confidence=0.45, lift=1.76 \n",
      "{'whole milk'}=>{'whipped/sour cream'}, support=0.03,  confidence=0.13, lift=1.76 \n",
      "118:set()=>{'yogurt', 'whipped/sour cream'}, support=0.02,  confidence=0.02, lift=1.00 \n",
      "{'whipped/sour cream'}=>{'yogurt'}, support=0.02,  confidence=0.29, lift=2.07 \n",
      "{'yogurt'}=>{'whipped/sour cream'}, support=0.02,  confidence=0.15, lift=2.07 \n",
      "119:set()=>{'yogurt', 'whole milk'}, support=0.06,  confidence=0.06, lift=1.00 \n",
      "{'whole milk'}=>{'yogurt'}, support=0.06,  confidence=0.22, lift=1.57 \n",
      "{'yogurt'}=>{'whole milk'}, support=0.06,  confidence=0.40, lift=1.57 \n",
      "120:set()=>{'other vegetables', 'whole milk', 'root vegetables'}, support=0.02,  confidence=0.02, lift=1.00 \n",
      "{'other vegetables'}=>{'whole milk', 'root vegetables'}, support=0.02,  confidence=0.12, lift=2.45 \n",
      "{'root vegetables'}=>{'other vegetables', 'whole milk'}, support=0.02,  confidence=0.21, lift=2.84 \n",
      "{'whole milk'}=>{'other vegetables', 'root vegetables'}, support=0.02,  confidence=0.09, lift=1.91 \n",
      "{'other vegetables', 'root vegetables'}=>{'whole milk'}, support=0.02,  confidence=0.49, lift=1.91 \n",
      "{'other vegetables', 'whole milk'}=>{'root vegetables'}, support=0.02,  confidence=0.31, lift=2.84 \n",
      "{'whole milk', 'root vegetables'}=>{'other vegetables'}, support=0.02,  confidence=0.47, lift=2.45 \n",
      "121:set()=>{'other vegetables', 'whole milk', 'yogurt'}, support=0.02,  confidence=0.02, lift=1.00 \n",
      "{'other vegetables'}=>{'yogurt', 'whole milk'}, support=0.02,  confidence=0.12, lift=2.05 \n",
      "{'whole milk'}=>{'other vegetables', 'yogurt'}, support=0.02,  confidence=0.09, lift=2.01 \n",
      "{'yogurt'}=>{'other vegetables', 'whole milk'}, support=0.02,  confidence=0.16, lift=2.13 \n",
      "{'other vegetables', 'whole milk'}=>{'yogurt'}, support=0.02,  confidence=0.30, lift=2.13 \n",
      "{'other vegetables', 'yogurt'}=>{'whole milk'}, support=0.02,  confidence=0.51, lift=2.01 \n",
      "{'yogurt', 'whole milk'}=>{'other vegetables'}, support=0.02,  confidence=0.40, lift=2.05 \n"
     ]
    }
   ],
   "source": [
    "# 1.5.2 최소지지도 0.02의 목록을 관찰해보자. \n",
    "\n",
    "# 최소신뢰도 0.02의 빈발항목 생성\n",
    "rules_lst = list(ap.apriori(grocery_list, min_support= 0.02))\n",
    "\n",
    "# 빈발항목 건수 출력\n",
    "print('min sup : 0.02,  min conf : N/A')\n",
    "print(f'frequent its count : {***)}')\n",
    "\n",
    "\n",
    "# for 문을 이용하여 규칙을 출력 \n",
    "# (enumerate를 이용하여 일련번호도 함께 출력)\n",
    "***"
   ]
  },
  {
   "cell_type": "markdown",
   "metadata": {
    "id": "2WBaVO6KgzDS"
   },
   "source": [
    "## 1.6 연관분석 "
   ]
  },
  {
   "cell_type": "code",
   "execution_count": null,
   "metadata": {
    "colab": {
     "base_uri": "https://localhost:8080/"
    },
    "executionInfo": {
     "elapsed": 20,
     "status": "ok",
     "timestamp": 1656976243817,
     "user": {
      "displayName": "김정은(디지털애널리틱스융합협동과정)",
      "userId": "11793644014487376315"
     },
     "user_tz": -540
    },
    "id": "STN4tD6XgzDS",
    "outputId": "de183a62-edd5-40bf-da13-ccbbb8ff336a"
   },
   "outputs": [
    {
     "data": {
      "text/plain": [
       "1"
      ]
     },
     "execution_count": 12,
     "metadata": {},
     "output_type": "execute_result"
    }
   ],
   "source": [
    "# 1.6 최소지지도를 0.02로 하고 최소 신뢰도의 적정 범위를 찾아보자.\n",
    "# 1.6.1  최소지지도 0.02, 최소신뢰도 0.5로 도출되는 규칙의 수를 확인한다. \n",
    "\n",
    "# 연관규칙 생성\n",
    "rules_lst = ***\n",
    "\n",
    "\n",
    "# 건수 확인\n",
    "***"
   ]
  },
  {
   "cell_type": "code",
   "execution_count": null,
   "metadata": {
    "colab": {
     "base_uri": "https://localhost:8080/",
     "height": 295
    },
    "executionInfo": {
     "elapsed": 1316,
     "status": "ok",
     "timestamp": 1656976245125,
     "user": {
      "displayName": "김정은(디지털애널리틱스융합협동과정)",
      "userId": "11793644014487376315"
     },
     "user_tz": -540
    },
    "id": "EObEWo8cgzDU",
    "outputId": "646e1652-1249-432a-e84f-ed24b0a761bf"
   },
   "outputs": [
    {
     "data": {
      "image/png": "[encoded data removed]",
      "text/plain": [
       "<Figure size 432x288 with 1 Axes>"
      ]
     },
     "metadata": {
      "needs_background": "light"
     },
     "output_type": "display_data"
    }
   ],
   "source": [
    "# 1.6.2 최소신뢰도를 0.05~ 0.5 사이의 값으로 변경하며 \n",
    "#       도출되는 규칙의 수를 확인한다.\n",
    "\n",
    "# 최소신뢰도 후보 범위 지정\n",
    "min_conf_range =  ***\n",
    "\n",
    "# 최소신뢰도 별 연관규칙 생성 건수 목록 \n",
    "association_rules_count =[*** ]\n",
    "\n",
    "# 그래프 출력\n",
    "\n",
    "plt.plot(***,, marker = '*' )\n",
    "plt.title('***')\n",
    "plt.xlabel('***')\n",
    "plt.ylabel('***')\n",
    "plt.show()"
   ]
  },
  {
   "cell_type": "markdown",
   "metadata": {
    "id": "uNnak2PHgzDV"
   },
   "source": [
    "#### 최소지지도 0.02 최소신뢰도 0.3에서 33건 연관규칙"
   ]
  },
  {
   "cell_type": "code",
   "execution_count": null,
   "metadata": {
    "colab": {
     "base_uri": "https://localhost:8080/"
    },
    "executionInfo": {
     "elapsed": 8,
     "status": "ok",
     "timestamp": 1656976245126,
     "user": {
      "displayName": "김정은(디지털애널리틱스융합협동과정)",
      "userId": "11793644014487376315"
     },
     "user_tz": -540
    },
    "id": "aMonrhKggzDV",
    "outputId": "bf66031d-2eb7-4ff6-ab76-d173d69394d0"
   },
   "outputs": [
    {
     "name": "stdout",
     "output_type": "stream",
     "text": [
      "min sup : 0.02,  min conf : 0.3\n",
      "frequent itemset count : 34\n",
      "0 : {'beef'}=>{'whole milk'}, support=0.02,  confidence=0.41, lift=1.59 \n",
      "1 : {'bottled water'}=>{'whole milk'}, support=0.03,  confidence=0.31, lift=1.22 \n",
      "2 : {'brown bread'}=>{'whole milk'}, support=0.03,  confidence=0.39, lift=1.52 \n",
      "3 : {'butter'}=>{'other vegetables'}, support=0.02,  confidence=0.36, lift=1.87 \n",
      "4 : {'butter'}=>{'whole milk'}, support=0.03,  confidence=0.50, lift=1.95 \n",
      "5 : {'citrus fruit'}=>{'other vegetables'}, support=0.03,  confidence=0.35, lift=1.80 \n",
      "6 : {'citrus fruit'}=>{'whole milk'}, support=0.03,  confidence=0.37, lift=1.44 \n",
      "7 : {'curd'}=>{'whole milk'}, support=0.03,  confidence=0.49, lift=1.92 \n",
      "8 : {'domestic eggs'}=>{'other vegetables'}, support=0.02,  confidence=0.35, lift=1.81 \n",
      "9 : {'domestic eggs'}=>{'whole milk'}, support=0.03,  confidence=0.47, lift=1.85 \n",
      "10 : {'frankfurter'}=>{'whole milk'}, support=0.02,  confidence=0.35, lift=1.36 \n",
      "11 : {'frozen vegetables'}=>{'whole milk'}, support=0.02,  confidence=0.42, lift=1.66 \n",
      "12 : {'fruit/vegetable juice'}=>{'whole milk'}, support=0.03,  confidence=0.37, lift=1.44 \n",
      "13 : {'margarine'}=>{'whole milk'}, support=0.02,  confidence=0.41, lift=1.62 \n",
      "14 : {'newspapers'}=>{'whole milk'}, support=0.03,  confidence=0.34, lift=1.34 \n",
      "15 : {'pip fruit'}=>{'other vegetables'}, support=0.03,  confidence=0.35, lift=1.79 \n",
      "16 : {'pork'}=>{'other vegetables'}, support=0.02,  confidence=0.38, lift=1.94 \n",
      "17 : {'root vegetables'}=>{'other vegetables'}, support=0.05,  confidence=0.43, lift=2.25 \n",
      "18 : {'tropical fruit'}=>{'other vegetables'}, support=0.04,  confidence=0.34, lift=1.77 \n",
      "19 : {'whipped/sour cream'}=>{'other vegetables'}, support=0.03,  confidence=0.40, lift=2.08 \n",
      "20 : {'other vegetables'}=>{'whole milk'}, support=0.07,  confidence=0.39, lift=1.51 \n",
      "21 : {'yogurt'}=>{'other vegetables'}, support=0.04,  confidence=0.31, lift=1.61 \n",
      "22 : {'pastry'}=>{'whole milk'}, support=0.03,  confidence=0.37, lift=1.46 \n",
      "23 : {'pip fruit'}=>{'whole milk'}, support=0.03,  confidence=0.40, lift=1.56 \n",
      "24 : {'pork'}=>{'whole milk'}, support=0.02,  confidence=0.38, lift=1.50 \n",
      "25 : {'sausage'}=>{'rolls/buns'}, support=0.03,  confidence=0.33, lift=1.77 \n",
      "26 : {'rolls/buns'}=>{'whole milk'}, support=0.06,  confidence=0.31, lift=1.21 \n",
      "27 : {'root vegetables'}=>{'whole milk'}, support=0.05,  confidence=0.45, lift=1.76 \n",
      "28 : {'sausage'}=>{'whole milk'}, support=0.03,  confidence=0.32, lift=1.25 \n",
      "29 : {'tropical fruit'}=>{'whole milk'}, support=0.04,  confidence=0.40, lift=1.58 \n",
      "30 : {'whipped/sour cream'}=>{'whole milk'}, support=0.03,  confidence=0.45, lift=1.76 \n",
      "31 : {'yogurt'}=>{'whole milk'}, support=0.06,  confidence=0.40, lift=1.57 \n",
      "32 : {'other vegetables', 'root vegetables'}=>{'whole milk'}, support=0.02,  confidence=0.49, lift=1.91 \n",
      "{'other vegetables', 'whole milk'}=>{'root vegetables'}, support=0.02,  confidence=0.31, lift=2.84 \n",
      "{'whole milk', 'root vegetables'}=>{'other vegetables'}, support=0.02,  confidence=0.47, lift=2.45 \n",
      "33 : {'other vegetables', 'yogurt'}=>{'whole milk'}, support=0.02,  confidence=0.51, lift=2.01 \n",
      "{'yogurt', 'whole milk'}=>{'other vegetables'}, support=0.02,  confidence=0.40, lift=2.05 \n"
     ]
    }
   ],
   "source": [
    "# 1.6.3 최소지지도 0.02, 최소신뢰도 0.3의 목록을 관찰해보자. \n",
    "\n",
    "# 연관규칙 생성\n",
    "rules_lst = list(ap.apriori(grocery_list, min_support= ***, \n",
    "                            min_confidence = ***))\n",
    "# 연관규칙 빈발항목 건수 출력\n",
    "print('min sup : 0.02,  min conf : 0.3')\n",
    "print(f'frequent itemset count : {len(rules_lst)}')\n",
    "\n",
    "# 연관규칙 출력 (항목번호와 함께)\n",
    "for i, rr in enumerate(rules_lst):\n",
    "  print(i, end=' : ')\n",
    "  print_rr(rr)"
   ]
  },
  {
   "cell_type": "code",
   "execution_count": null,
   "metadata": {
    "colab": {
     "base_uri": "https://localhost:8080/"
    },
    "executionInfo": {
     "elapsed": 616,
     "status": "ok",
     "timestamp": 1656976245737,
     "user": {
      "displayName": "김정은(디지털애널리틱스융합협동과정)",
      "userId": "11793644014487376315"
     },
     "user_tz": -540
    },
    "id": "Khh2hO7QgzDW",
    "outputId": "cbdbdef9-e1c2-438c-bad9-c0642e2fb47b"
   },
   "outputs": [
    {
     "name": "stdout",
     "output_type": "stream",
     "text": [
      "min sup : 0.02,  min conf : 0.3, min lift: 2\n",
      "frequent itemset count : 4\n",
      "0 : {'root vegetables'}=>{'other vegetables'}, support=0.05,  confidence=0.43, lift=2.25 \n",
      "1 : {'whipped/sour cream'}=>{'other vegetables'}, support=0.03,  confidence=0.40, lift=2.08 \n",
      "2 : {'other vegetables', 'whole milk'}=>{'root vegetables'}, support=0.02,  confidence=0.31, lift=2.84 \n",
      "{'whole milk', 'root vegetables'}=>{'other vegetables'}, support=0.02,  confidence=0.47, lift=2.45 \n",
      "3 : {'other vegetables', 'yogurt'}=>{'whole milk'}, support=0.02,  confidence=0.51, lift=2.01 \n",
      "{'yogurt', 'whole milk'}=>{'other vegetables'}, support=0.02,  confidence=0.40, lift=2.05 \n"
     ]
    }
   ],
   "source": [
    "# 1.6.4 최소지지도 0.02, 최소신뢰도 0.3,  향상도 2 이상의 목록을 관찰해보자. \n",
    "\n",
    "# 리프트 값도 min_lift로 지정하여 연관 규칙 생성\n",
    "rules_lst = list(ap.apriori(grocery_list, \n",
    "                            ***))\n",
    "\n",
    "# 연관규칙 빈발항목 건수 출력\n",
    "print('min sup : 0.02,  min conf : 0.3, ***')\n",
    "print(f'frequent itemset count : {len(rules_lst)}')\n",
    "\n",
    "# 연관규칙 출력 (항목번호와 함께)\n",
    "for i, rr in enumerate(rules_lst):\n",
    "  print(i, end=' : ')\n",
    "  print_rr(rr)"
   ]
  },
  {
   "cell_type": "markdown",
   "metadata": {
    "id": "kifvIjzXgzDX"
   },
   "source": [
    "## [선택] 1.7 yougurt 관련 연관"
   ]
  },
  {
   "cell_type": "code",
   "execution_count": null,
   "metadata": {
    "colab": {
     "base_uri": "https://localhost:8080/"
    },
    "executionInfo": {
     "elapsed": 9,
     "status": "ok",
     "timestamp": 1656976245738,
     "user": {
      "displayName": "김정은(디지털애널리틱스융합협동과정)",
      "userId": "11793644014487376315"
     },
     "user_tz": -540
    },
    "id": "iLiRF7zHgzDX",
    "outputId": "8feae28e-af73-4f7c-b3dd-1f5ff06daced"
   },
   "outputs": [
    {
     "name": "stdout",
     "output_type": "stream",
     "text": [
      "min sup : 0.02,  min conf : 0.3, yogurt related only\n",
      "frequent itemset count : 3\n",
      "0 : {'yogurt'}=>{'other vegetables'}, support=0.04,  confidence=0.31, lift=1.61 \n",
      "1 : {'yogurt'}=>{'whole milk'}, support=0.06,  confidence=0.40, lift=1.57 \n",
      "2 : {'other vegetables', 'yogurt'}=>{'whole milk'}, support=0.02,  confidence=0.51, lift=2.01 \n",
      "{'yogurt', 'whole milk'}=>{'other vegetables'}, support=0.02,  confidence=0.40, lift=2.05 \n"
     ]
    }
   ],
   "source": [
    "# 1.7 yogurt와 관련된 연관 규칙을 찾아보자.  \n",
    "#     최소 지지도  0.02, 최소 신뢰도 0.3 으로 관찰한다. \n",
    "\n",
    "# 규칙생성\n",
    "rules_lst = list(ap.apriori(grocery_list, \n",
    "                            min_support= 0.02, \n",
    "                            min_confidence = 0.3))\n",
    "\n",
    "# yogurt가 포함된 목록만 추출\n",
    "rules_lst = ***\n",
    "\n",
    "# 연관규칙 건수 출력\n",
    "print('min sup : 0.02,  min conf : 0.3, yogurt related only')\n",
    "print(f'frequent itemset count : {len(rules_lst)}')\n",
    "# 연관규칙 출력 (항목번호와 함께)\n",
    "for i, rr in enumerate(rules_lst):\n",
    "  print(i, end=' : ')\n",
    "  print_rr(rr)"
   ]
  },
  {
   "cell_type": "markdown",
   "metadata": {
    "id": "4hjStGKhgzDX"
   },
   "source": [
    "## [선택] 1.8 신뢰도 Top3 탐색 @ 최소지지도 0.02"
   ]
  },
  {
   "cell_type": "code",
   "execution_count": null,
   "metadata": {
    "colab": {
     "base_uri": "https://localhost:8080/"
    },
    "executionInfo": {
     "elapsed": 6,
     "status": "ok",
     "timestamp": 1656976245738,
     "user": {
      "displayName": "김정은(디지털애널리틱스융합협동과정)",
      "userId": "11793644014487376315"
     },
     "user_tz": -540
    },
    "id": "RzTchlo4gzDY",
    "outputId": "ea73db1c-6b99-4528-adfc-9491e50d92ee"
   },
   "outputs": [
    {
     "name": "stdout",
     "output_type": "stream",
     "text": [
      "min sup : 0.02,  min conf : 0.48\n",
      "rule count : 4\n",
      "0 : {'butter'}=>{'whole milk'}, support=0.03,  confidence=0.50, lift=1.95 \n",
      "1 : {'curd'}=>{'whole milk'}, support=0.03,  confidence=0.49, lift=1.92 \n",
      "2 : {'other vegetables', 'root vegetables'}=>{'whole milk'}, support=0.02,  confidence=0.49, lift=1.91 \n",
      "3 : {'other vegetables', 'yogurt'}=>{'whole milk'}, support=0.02,  confidence=0.51, lift=2.01 \n"
     ]
    }
   ],
   "source": [
    "# 1.8 최소지지도 0.02 에서 신뢰도가 가장 높은 3개의 규칙을 찾아보자. \n",
    "# hint > 1.6.2의 그래프로 적정 건수가 되는 신뢰도를 추정해보자. \n",
    "\n",
    "# 규칙생성\n",
    "rules_lst = list(ap.apriori(grocery_list, min_support=***, \n",
    "                            min_confidence = ***))\n",
    "# 연관규칙 건수 출력\n",
    "print('min sup : ***,  min conf : ***')\n",
    "print(f'rule count : {len(rules_lst)}')\n",
    "\n",
    "# 연관규칙 출력 (항목번호와 함께)\n",
    "for i, rr in enumerate(rules_lst):\n",
    "  print(i, end=' : ')\n",
    "  print_rr(rr)"
   ]
  }
 ],
 "metadata": {
  "colab": {
   "authorship_tag": "ABX9TyMHhlqlvZl5go7okW6GCecC",
   "collapsed_sections": [],
   "mount_file_id": "1q7a6IgMMs2Wwj7b9q7bXoD20Dl0YdvpV",
   "name": "association_hands_on.ipynb",
   "provenance": [
    {
     "file_id": "1Iqu_G1JFapp5zfRHOUVxOYbXyLkzTLuY",
     "timestamp": 1656947538785
    },
    {
     "file_id": "1T6CVjNKFIbqcYJkKSRgwc7lP48nPy3TQ",
     "timestamp": 1656947409862
    },
    {
     "file_id": "https://github.com/sagelab4data/kdata_yonsei/blob/main/association_hands_on.ipynb",
     "timestamp": 1656946823130
    },
    {
     "file_id": "1i3ttwPzk0IGdA1SoWTmIi4Mvv-gHpWRq",
     "timestamp": 1656170908907
    },
    {
     "file_id": "1l6T4XgNYFshWaZYWNHW1XCiuFgi6sR_N",
     "timestamp": 1656170855109
    },
    {
     "file_id": "1q7a6IgMMs2Wwj7b9q7bXoD20Dl0YdvpV",
     "timestamp": 1656136143529
    }
   ],
   "toc_visible": true
  },
  "gpuClass": "standard",
  "kernelspec": {
   "display_name": "Python 3",
   "language": "python",
   "name": "python3"
  },
  "language_info": {
   "codemirror_mode": {
    "name": "ipython",
    "version": 3
   },
   "file_extension": ".py",
   "mimetype": "text/x-python",
   "name": "python",
   "nbconvert_exporter": "python",
   "pygments_lexer": "ipython3",
   "version": "3.8.5"
  }
 },
 "nbformat": 4,
 "nbformat_minor": 1
}
