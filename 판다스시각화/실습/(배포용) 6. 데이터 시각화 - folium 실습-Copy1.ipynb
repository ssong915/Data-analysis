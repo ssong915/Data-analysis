{
 "cells": [
  {
   "cell_type": "code",
   "execution_count": 2,
   "metadata": {},
   "outputs": [],
   "source": [
    "#folium 라이브러리 설치\n",
    "# anaconda prompt에서 'pip install folium' 실행\n",
    "import folium"
   ]
  },
  {
   "cell_type": "code",
   "execution_count": 3,
   "metadata": {},
   "outputs": [
    {
     "data": {
      "text/plain": [
       "'0.12.1'"
      ]
     },
     "execution_count": 3,
     "metadata": {},
     "output_type": "execute_result"
    }
   ],
   "source": [
    "folium.__version__"
   ]
  },
  {
   "cell_type": "markdown",
   "metadata": {},
   "source": [
    "1. Map 생성하기\n",
    "- 기본 맵 생성"
   ]
  },
  {
   "cell_type": "code",
   "execution_count": null,
   "metadata": {},
   "outputs": [],
   "source": []
  },
  {
   "cell_type": "markdown",
   "metadata": {},
   "source": [
    "- custom 타일 사용하기\n",
    "- 제공되는 custom 타일 미리 보기: http://leaflet-extras.github.io/leaflet-providers/preview/"
   ]
  },
  {
   "cell_type": "code",
   "execution_count": null,
   "metadata": {},
   "outputs": [],
   "source": []
  },
  {
   "cell_type": "code",
   "execution_count": null,
   "metadata": {},
   "outputs": [],
   "source": []
  },
  {
   "cell_type": "markdown",
   "metadata": {},
   "source": [
    "2. Marker 추가하기"
   ]
  },
  {
   "cell_type": "code",
   "execution_count": null,
   "metadata": {},
   "outputs": [],
   "source": []
  },
  {
   "cell_type": "code",
   "execution_count": null,
   "metadata": {},
   "outputs": [],
   "source": []
  },
  {
   "cell_type": "code",
   "execution_count": null,
   "metadata": {},
   "outputs": [],
   "source": []
  },
  {
   "cell_type": "code",
   "execution_count": null,
   "metadata": {},
   "outputs": [],
   "source": []
  },
  {
   "cell_type": "markdown",
   "metadata": {},
   "source": [
    "3. MarkerCluster 추가하기"
   ]
  },
  {
   "cell_type": "code",
   "execution_count": 10,
   "metadata": {},
   "outputs": [],
   "source": [
    "# MarkerCluster 실습을 위한 데이터\n",
    "# 서울 25개 구청 위치 정보\n",
    "data = {'성북구청':[37.592462534542356, 127.016423014917],\n",
    "        '동대문구청':[37.578859360969496, 127.04079892846451],\n",
    "        '은평구청':[37.606879184255796, 126.93127897886365],\n",
    "        '서대문구청': [37.58212434933783, 126.93608549702796],\n",
    "        '종로구청':[37.57613842610542, 126.97762754843811],\n",
    "        '용산구청': [37.53830716218901, 126.99101713475295],\n",
    "        '중랑구청': [37.612046735067764, 127.09367062983337],\n",
    "        '광진구청':[37.543639898189426, 127.0852668672452],\n",
    "        '강남구청':[37.52047101199233, 127.04576544853707],\n",
    "        '서초구청':[37.487433760463844, 127.03249628382083],\n",
    "        '관악구청': [37.48160213989149, 126.95104405902968],\n",
    "        '동작구청':[37.514318121654775, 126.940428731488],\n",
    "        '영등포구청':[37.53212772703396, 126.89694671192498],\n",
    "        '양천구청':[37.51933762263923, 126.86632557478549],\n",
    "        '구로구청': [37.4979619226417, 126.88673966621184],\n",
    "        '금천구청': [37.46151196269192, 126.89633428843612],\n",
    "        '마포구청': [37.568219607255145, 126.90205023425098],\n",
    "        '강동구청': [37.53291874617525, 127.12359654266538],\n",
    "        '송파구청': [37.5164454318924, 127.1064304063643],\n",
    "        '도봉구청': [37.670966165632755, 127.04716741426174],\n",
    "        '노원구청': [37.65423395121896, 127.05633719796869],\n",
    "        '중구청': [37.57656543493646, 127.00127006470416],\n",
    "        '성동구청': [37.56503804872867, 127.03656423161891],\n",
    "        '강북구청': [37.63998057868215, 127.02551839796833],\n",
    "        '강서구청': [37.55839516099873, 126.84957419431153]\n",
    "       }"
   ]
  },
  {
   "cell_type": "markdown",
   "metadata": {},
   "source": [
    "[실습] 서울시 유동인구 데이터에서 조사지점 정보들을 MarkerCluster로 추가하기\n",
    " - data/서울시유동인구/4_유동인구_조사지점정보_2015.xlsx 활용\n",
    " - 조사구분이 '본조사'인 데이터만 대상으로 함"
   ]
  },
  {
   "cell_type": "code",
   "execution_count": 17,
   "metadata": {},
   "outputs": [],
   "source": [
    "import pandas as pd"
   ]
  },
  {
   "cell_type": "code",
   "execution_count": null,
   "metadata": {},
   "outputs": [],
   "source": [
    "# 데이터 읽기\n",
    "측정위치 = pd.read_excel('data/서울시유동인구/4_유동인구_조사지점정보_2015.xlsx', \n",
    "                      skiprows = [0,1,3])\n",
    "측정위치.head()"
   ]
  },
  {
   "cell_type": "code",
   "execution_count": null,
   "metadata": {},
   "outputs": [],
   "source": []
  },
  {
   "cell_type": "code",
   "execution_count": null,
   "metadata": {},
   "outputs": [],
   "source": []
  },
  {
   "cell_type": "code",
   "execution_count": null,
   "metadata": {},
   "outputs": [],
   "source": []
  },
  {
   "cell_type": "code",
   "execution_count": null,
   "metadata": {},
   "outputs": [],
   "source": []
  },
  {
   "cell_type": "code",
   "execution_count": null,
   "metadata": {},
   "outputs": [],
   "source": []
  },
  {
   "cell_type": "code",
   "execution_count": null,
   "metadata": {},
   "outputs": [],
   "source": []
  },
  {
   "cell_type": "code",
   "execution_count": null,
   "metadata": {},
   "outputs": [],
   "source": []
  },
  {
   "cell_type": "code",
   "execution_count": null,
   "metadata": {},
   "outputs": [],
   "source": []
  },
  {
   "cell_type": "code",
   "execution_count": null,
   "metadata": {},
   "outputs": [],
   "source": []
  },
  {
   "cell_type": "code",
   "execution_count": null,
   "metadata": {},
   "outputs": [],
   "source": []
  },
  {
   "cell_type": "code",
   "execution_count": null,
   "metadata": {},
   "outputs": [],
   "source": []
  },
  {
   "cell_type": "code",
   "execution_count": null,
   "metadata": {},
   "outputs": [],
   "source": []
  },
  {
   "cell_type": "markdown",
   "metadata": {},
   "source": [
    "4. GeoJson을 활용한 다각형 표현 \n",
    " - 행정구역과 같은 경계선이나 경로를 표현하는데 효율적"
   ]
  },
  {
   "cell_type": "code",
   "execution_count": null,
   "metadata": {},
   "outputs": [],
   "source": []
  },
  {
   "cell_type": "code",
   "execution_count": null,
   "metadata": {},
   "outputs": [],
   "source": []
  },
  {
   "cell_type": "code",
   "execution_count": null,
   "metadata": {},
   "outputs": [],
   "source": []
  },
  {
   "cell_type": "code",
   "execution_count": null,
   "metadata": {},
   "outputs": [],
   "source": []
  },
  {
   "cell_type": "code",
   "execution_count": null,
   "metadata": {},
   "outputs": [],
   "source": []
  },
  {
   "cell_type": "code",
   "execution_count": null,
   "metadata": {},
   "outputs": [],
   "source": []
  },
  {
   "cell_type": "code",
   "execution_count": null,
   "metadata": {},
   "outputs": [],
   "source": []
  },
  {
   "cell_type": "markdown",
   "metadata": {},
   "source": [
    "5. Choropleth을 활용하여 GeoJson과 데이터 결합 실습"
   ]
  },
  {
   "cell_type": "code",
   "execution_count": null,
   "metadata": {},
   "outputs": [],
   "source": []
  },
  {
   "cell_type": "code",
   "execution_count": null,
   "metadata": {},
   "outputs": [],
   "source": []
  },
  {
   "cell_type": "code",
   "execution_count": null,
   "metadata": {},
   "outputs": [],
   "source": []
  },
  {
   "cell_type": "code",
   "execution_count": null,
   "metadata": {},
   "outputs": [],
   "source": []
  },
  {
   "cell_type": "code",
   "execution_count": null,
   "metadata": {},
   "outputs": [],
   "source": []
  },
  {
   "cell_type": "code",
   "execution_count": null,
   "metadata": {},
   "outputs": [],
   "source": []
  },
  {
   "cell_type": "code",
   "execution_count": null,
   "metadata": {},
   "outputs": [],
   "source": []
  },
  {
   "cell_type": "code",
   "execution_count": null,
   "metadata": {},
   "outputs": [],
   "source": []
  },
  {
   "cell_type": "code",
   "execution_count": null,
   "metadata": {},
   "outputs": [],
   "source": []
  }
 ],
 "metadata": {
  "kernelspec": {
   "display_name": "Python 3",
   "language": "python",
   "name": "python3"
  },
  "language_info": {
   "codemirror_mode": {
    "name": "ipython",
    "version": 3
   },
   "file_extension": ".py",
   "mimetype": "text/x-python",
   "name": "python",
   "nbconvert_exporter": "python",
   "pygments_lexer": "ipython3",
   "version": "3.7.9"
  }
 },
 "nbformat": 4,
 "nbformat_minor": 4
}
