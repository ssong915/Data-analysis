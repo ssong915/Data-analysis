{
 "cells": [
  {
   "cell_type": "code",
   "execution_count": 2,
   "metadata": {},
   "outputs": [],
   "source": [
    "import pandas as pd\n",
    "from pandas import Series, DataFrame"
   ]
  },
  {
   "cell_type": "markdown",
   "metadata": {},
   "source": [
    "# 4. 데이터 가공 1 - 데이터 통합\n",
    "## 4-1. pandas.merge()"
   ]
  },
  {
   "cell_type": "code",
   "execution_count": 3,
   "metadata": {},
   "outputs": [],
   "source": [
    "#샘플 데이터 생성\n",
    "df1 = DataFrame([['홍길동',23,'남'],['이순신',55,'남'], ['신사임당',48,'여']], \n",
    "                           columns = ['이름','나이','성별'])\n",
    "df2 = DataFrame([['홍길동','터미네이터',5],['홍길동','비긴어게인',2], \n",
    "                 ['홍길동','살인의추억',4], ['신사임당','비긴어게인',5],\n",
    "                ['장보고','살인의추억',3]], \n",
    "                           columns = ['이름','영화','평점'])"
   ]
  },
  {
   "cell_type": "code",
   "execution_count": 4,
   "metadata": {},
   "outputs": [
    {
     "data": {
      "text/html": [
       "<div>\n",
       "<style scoped>\n",
       "    .dataframe tbody tr th:only-of-type {\n",
       "        vertical-align: middle;\n",
       "    }\n",
       "\n",
       "    .dataframe tbody tr th {\n",
       "        vertical-align: top;\n",
       "    }\n",
       "\n",
       "    .dataframe thead th {\n",
       "        text-align: right;\n",
       "    }\n",
       "</style>\n",
       "<table border=\"1\" class=\"dataframe\">\n",
       "  <thead>\n",
       "    <tr style=\"text-align: right;\">\n",
       "      <th></th>\n",
       "      <th>이름</th>\n",
       "      <th>나이</th>\n",
       "      <th>성별</th>\n",
       "      <th>영화</th>\n",
       "      <th>평점</th>\n",
       "    </tr>\n",
       "  </thead>\n",
       "  <tbody>\n",
       "    <tr>\n",
       "      <th>0</th>\n",
       "      <td>홍길동</td>\n",
       "      <td>23</td>\n",
       "      <td>남</td>\n",
       "      <td>터미네이터</td>\n",
       "      <td>5</td>\n",
       "    </tr>\n",
       "    <tr>\n",
       "      <th>1</th>\n",
       "      <td>홍길동</td>\n",
       "      <td>23</td>\n",
       "      <td>남</td>\n",
       "      <td>비긴어게인</td>\n",
       "      <td>2</td>\n",
       "    </tr>\n",
       "    <tr>\n",
       "      <th>2</th>\n",
       "      <td>홍길동</td>\n",
       "      <td>23</td>\n",
       "      <td>남</td>\n",
       "      <td>살인의추억</td>\n",
       "      <td>4</td>\n",
       "    </tr>\n",
       "    <tr>\n",
       "      <th>3</th>\n",
       "      <td>신사임당</td>\n",
       "      <td>48</td>\n",
       "      <td>여</td>\n",
       "      <td>비긴어게인</td>\n",
       "      <td>5</td>\n",
       "    </tr>\n",
       "  </tbody>\n",
       "</table>\n",
       "</div>"
      ],
      "text/plain": [
       "     이름  나이 성별     영화  평점\n",
       "0   홍길동  23  남  터미네이터   5\n",
       "1   홍길동  23  남  비긴어게인   2\n",
       "2   홍길동  23  남  살인의추억   4\n",
       "3  신사임당  48  여  비긴어게인   5"
      ]
     },
     "execution_count": 4,
     "metadata": {},
     "output_type": "execute_result"
    }
   ],
   "source": [
    "pd.merge(df1,df2) # df1, df2에서 장"
   ]
  },
  {
   "cell_type": "code",
   "execution_count": null,
   "metadata": {},
   "outputs": [],
   "source": []
  },
  {
   "cell_type": "code",
   "execution_count": null,
   "metadata": {},
   "outputs": [],
   "source": []
  },
  {
   "cell_type": "markdown",
   "metadata": {},
   "source": [
    "## 실제 데이터 실습\n",
    "* data/movielens 에 있는 영화 평점 데이터들을 하나로 합치기"
   ]
  },
  {
   "cell_type": "code",
   "execution_count": null,
   "metadata": {},
   "outputs": [],
   "source": []
  },
  {
   "cell_type": "markdown",
   "metadata": {},
   "source": [
    "## 4-2. pandas.concat(axis = 0)\n",
    "* 동일한 컬럼들을 가지고 있는 데이터프레임들을 하나로 합치고 싶은 경우"
   ]
  },
  {
   "cell_type": "code",
   "execution_count": 35,
   "metadata": {},
   "outputs": [],
   "source": [
    "df1 = DataFrame([['홍길동',23,'남'],['이순신',55,'남']], \n",
    "                           columns = ['이름','나이','성별'])\n",
    "df2 = DataFrame([['신사임당',48,'여'], ['장보고',22,'남']], \n",
    "                           columns = ['이름','나이','성별'])"
   ]
  },
  {
   "cell_type": "code",
   "execution_count": null,
   "metadata": {},
   "outputs": [],
   "source": []
  },
  {
   "cell_type": "markdown",
   "metadata": {},
   "source": [
    "## 4-3. concat(axis = 1)\n",
    "* 서로 다른 컬럼을 가진 데이터프레임들을 로우 인덱스의 값을 기준으로 합치고 싶은 경우"
   ]
  },
  {
   "cell_type": "code",
   "execution_count": 43,
   "metadata": {},
   "outputs": [],
   "source": [
    "# 샘플 데이터\n",
    "df1 = DataFrame([[23,'남'],[55,'남'], [48,'여']], \n",
    "                           columns = ['나이','성별'], index = ['홍길동','이순신','신사임당'])\n",
    "df2 = DataFrame([['서울',3], ['경기', 1]], \n",
    "                           columns = ['주소','학년'], index = ['홍길동','신사임당'])"
   ]
  },
  {
   "cell_type": "code",
   "execution_count": null,
   "metadata": {},
   "outputs": [],
   "source": []
  },
  {
   "cell_type": "code",
   "execution_count": null,
   "metadata": {},
   "outputs": [],
   "source": []
  },
  {
   "cell_type": "markdown",
   "metadata": {},
   "source": [
    "## 실제 데이터 실습\n",
    "* data/NC Dinos.xlsx 파일에서 2013, 2014, 2015시즌 정보를 읽어서, \n",
    "* 각각 NC13, NC14, NC15에 저장한 후, 이를 NCAll이라는 하나의 데이터프레임으로 합치기\n"
   ]
  },
  {
   "cell_type": "code",
   "execution_count": null,
   "metadata": {},
   "outputs": [],
   "source": []
  }
 ],
 "metadata": {
  "kernelspec": {
   "display_name": "Python 3",
   "language": "python",
   "name": "python3"
  },
  "language_info": {
   "codemirror_mode": {
    "name": "ipython",
    "version": 3
   },
   "file_extension": ".py",
   "mimetype": "text/x-python",
   "name": "python",
   "nbconvert_exporter": "python",
   "pygments_lexer": "ipython3",
   "version": "3.8.5"
  },
  "toc": {
   "base_numbering": 1,
   "nav_menu": {},
   "number_sections": true,
   "sideBar": true,
   "skip_h1_title": false,
   "title_cell": "Table of Contents",
   "title_sidebar": "Contents",
   "toc_cell": false,
   "toc_position": {},
   "toc_section_display": true,
   "toc_window_display": false
  }
 },
 "nbformat": 4,
 "nbformat_minor": 2
}
