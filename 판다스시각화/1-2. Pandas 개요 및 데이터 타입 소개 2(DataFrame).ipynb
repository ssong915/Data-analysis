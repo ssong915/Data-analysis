{
 "cells": [
  {
   "cell_type": "code",
   "execution_count": 1,
   "metadata": {
    "id": "6Tq_sVO-4EEV"
   },
   "outputs": [],
   "source": [
    "# Pandas 라이브러리 임포트\n",
    "import pandas as pd \n",
    "from pandas import Series, DataFrame"
   ]
  },
  {
   "cell_type": "code",
   "execution_count": 2,
   "metadata": {
    "colab": {
     "base_uri": "https://localhost:8080/",
     "height": 49
    },
    "executionInfo": {
     "elapsed": 531,
     "status": "ok",
     "timestamp": 1656481292216,
     "user": {
      "displayName": "김주의(문과대학 문헌정보학)",
      "userId": "12730534296048251803"
     },
     "user_tz": -540
    },
    "id": "xHfxQ8Ul4EE5",
    "outputId": "4ea9aefe-eae5-4410-a517-ebc53b8c4558"
   },
   "outputs": [
    {
     "data": {
      "text/html": [
       "<div>\n",
       "<style scoped>\n",
       "    .dataframe tbody tr th:only-of-type {\n",
       "        vertical-align: middle;\n",
       "    }\n",
       "\n",
       "    .dataframe tbody tr th {\n",
       "        vertical-align: top;\n",
       "    }\n",
       "\n",
       "    .dataframe thead th {\n",
       "        text-align: right;\n",
       "    }\n",
       "</style>\n",
       "<table border=\"1\" class=\"dataframe\">\n",
       "  <thead>\n",
       "    <tr style=\"text-align: right;\">\n",
       "      <th></th>\n",
       "    </tr>\n",
       "  </thead>\n",
       "  <tbody>\n",
       "  </tbody>\n",
       "</table>\n",
       "</div>"
      ],
      "text/plain": [
       "Empty DataFrame\n",
       "Columns: []\n",
       "Index: []"
      ]
     },
     "execution_count": 2,
     "metadata": {},
     "output_type": "execute_result"
    }
   ],
   "source": [
    "# 1. 빈 데이터프레임 생성\n",
    "DataFrame()"
   ]
  },
  {
   "cell_type": "markdown",
   "metadata": {},
   "source": [
    "`DataFrame`은 `Series`의 묶음\n",
    "<br>\n",
    "- axis=0 : row(index) +) `DataFrame`에서 index는 row\n",
    "- axis=1 : column"
   ]
  },
  {
   "cell_type": "code",
   "execution_count": 3,
   "metadata": {
    "colab": {
     "base_uri": "https://localhost:8080/"
    },
    "executionInfo": {
     "elapsed": 31,
     "status": "ok",
     "timestamp": 1656481357768,
     "user": {
      "displayName": "김주의(문과대학 문헌정보학)",
      "userId": "12730534296048251803"
     },
     "user_tz": -540
    },
    "id": "3Hb6u8Ei-xTr",
    "outputId": "b87e06ab-3512-47db-abf5-b7862acf71e1"
   },
   "outputs": [
    {
     "data": {
      "text/plain": [
       "a    3\n",
       "b    5\n",
       "c    1\n",
       "d    2\n",
       "dtype: int64"
      ]
     },
     "execution_count": 3,
     "metadata": {},
     "output_type": "execute_result"
    }
   ],
   "source": [
    "Series([3, 5, 1, 2], index=['a', 'b','c', 'd'])"
   ]
  },
  {
   "cell_type": "code",
   "execution_count": 4,
   "metadata": {
    "colab": {
     "base_uri": "https://localhost:8080/",
     "height": 144
    },
    "executionInfo": {
     "elapsed": 349,
     "status": "ok",
     "timestamp": 1656481701983,
     "user": {
      "displayName": "김주의(문과대학 문헌정보학)",
      "userId": "12730534296048251803"
     },
     "user_tz": -540
    },
    "id": "8mw5AqCv4EFJ",
    "outputId": "623aa5a9-d3a3-4f51-c5ea-71cea9e2079c",
    "scrolled": true
   },
   "outputs": [
    {
     "data": {
      "text/html": [
       "<div>\n",
       "<style scoped>\n",
       "    .dataframe tbody tr th:only-of-type {\n",
       "        vertical-align: middle;\n",
       "    }\n",
       "\n",
       "    .dataframe tbody tr th {\n",
       "        vertical-align: top;\n",
       "    }\n",
       "\n",
       "    .dataframe thead th {\n",
       "        text-align: right;\n",
       "    }\n",
       "</style>\n",
       "<table border=\"1\" class=\"dataframe\">\n",
       "  <thead>\n",
       "    <tr style=\"text-align: right;\">\n",
       "      <th></th>\n",
       "      <th>X</th>\n",
       "      <th>Y</th>\n",
       "      <th>Z</th>\n",
       "    </tr>\n",
       "  </thead>\n",
       "  <tbody>\n",
       "    <tr>\n",
       "      <th>A</th>\n",
       "      <td>1</td>\n",
       "      <td>2</td>\n",
       "      <td>3</td>\n",
       "    </tr>\n",
       "    <tr>\n",
       "      <th>B</th>\n",
       "      <td>Kim</td>\n",
       "      <td>Park</td>\n",
       "      <td>Lee</td>\n",
       "    </tr>\n",
       "    <tr>\n",
       "      <th>C</th>\n",
       "      <td>1.5</td>\n",
       "      <td>3.2</td>\n",
       "      <td>7.9</td>\n",
       "    </tr>\n",
       "  </tbody>\n",
       "</table>\n",
       "</div>"
      ],
      "text/plain": [
       "     X     Y    Z\n",
       "A    1     2    3\n",
       "B  Kim  Park  Lee\n",
       "C  1.5   3.2  7.9"
      ]
     },
     "execution_count": 4,
     "metadata": {},
     "output_type": "execute_result"
    }
   ],
   "source": [
    "# 2. 데이터프레임 생성하고 데이터 할당하기\n",
    "DataFrame([[1, 2, 3],\n",
    "           ['Kim', 'Park', 'Lee'],\n",
    "           [1.5, 3.2, 7.9]], index=['A', 'B', 'C'],\n",
    "          columns=['X', 'Y', 'Z']) \n",
    "#data, index, columns 인자를 명시해도 되고, 생략해서 해도 되지만, 순서를 지켜야함(data, index, columns) 순서대로\n",
    "#헷갈릴 수 있으니 파라미터명을 명시해주는 것이 좋음"
   ]
  },
  {
   "cell_type": "code",
   "execution_count": 5,
   "metadata": {
    "id": "LKGbFaIZ4EFP"
   },
   "outputs": [],
   "source": [
    "# 3. 사전 타입 데이터를 이용하여 데이터 프레임 생성하기\n",
    "인구통계 = {'서울': [950, 945, 938.5],\n",
    "        '대전':[50, 151, 145],\n",
    "        '대구':[85, 88, 92],\n",
    "        '부산':[180, 187, 192],\n",
    "        '광주':[74, 80, 80]\n",
    "      }"
   ]
  },
  {
   "cell_type": "code",
   "execution_count": 6,
   "metadata": {
    "colab": {
     "base_uri": "https://localhost:8080/",
     "height": 144
    },
    "executionInfo": {
     "elapsed": 322,
     "status": "ok",
     "timestamp": 1656481915663,
     "user": {
      "displayName": "김주의(문과대학 문헌정보학)",
      "userId": "12730534296048251803"
     },
     "user_tz": -540
    },
    "id": "y8CuMl-g4EFV",
    "outputId": "4ebaa69a-b5a8-4b77-d247-8904dee3acc9"
   },
   "outputs": [
    {
     "data": {
      "text/html": [
       "<div>\n",
       "<style scoped>\n",
       "    .dataframe tbody tr th:only-of-type {\n",
       "        vertical-align: middle;\n",
       "    }\n",
       "\n",
       "    .dataframe tbody tr th {\n",
       "        vertical-align: top;\n",
       "    }\n",
       "\n",
       "    .dataframe thead th {\n",
       "        text-align: right;\n",
       "    }\n",
       "</style>\n",
       "<table border=\"1\" class=\"dataframe\">\n",
       "  <thead>\n",
       "    <tr style=\"text-align: right;\">\n",
       "      <th></th>\n",
       "      <th>서울</th>\n",
       "      <th>대전</th>\n",
       "      <th>대구</th>\n",
       "      <th>부산</th>\n",
       "      <th>광주</th>\n",
       "    </tr>\n",
       "  </thead>\n",
       "  <tbody>\n",
       "    <tr>\n",
       "      <th>0</th>\n",
       "      <td>950.0</td>\n",
       "      <td>50</td>\n",
       "      <td>85</td>\n",
       "      <td>180</td>\n",
       "      <td>74</td>\n",
       "    </tr>\n",
       "    <tr>\n",
       "      <th>1</th>\n",
       "      <td>945.0</td>\n",
       "      <td>151</td>\n",
       "      <td>88</td>\n",
       "      <td>187</td>\n",
       "      <td>80</td>\n",
       "    </tr>\n",
       "    <tr>\n",
       "      <th>2</th>\n",
       "      <td>938.5</td>\n",
       "      <td>145</td>\n",
       "      <td>92</td>\n",
       "      <td>192</td>\n",
       "      <td>80</td>\n",
       "    </tr>\n",
       "  </tbody>\n",
       "</table>\n",
       "</div>"
      ],
      "text/plain": [
       "      서울   대전  대구   부산  광주\n",
       "0  950.0   50  85  180  74\n",
       "1  945.0  151  88  187  80\n",
       "2  938.5  145  92  192  80"
      ]
     },
     "execution_count": 6,
     "metadata": {},
     "output_type": "execute_result"
    }
   ],
   "source": [
    "df = DataFrame(인구통계)\n",
    "df"
   ]
  },
  {
   "cell_type": "markdown",
   "metadata": {
    "id": "vcm89f1Z4EFf"
   },
   "source": [
    "### 2.2.2. DataFrame 속성 조회하기 <span style='background-color:yellow'>(속성을 조회할 때에는 ()를 사용하지 않으니 유의)</span>"
   ]
  },
  {
   "cell_type": "markdown",
   "metadata": {},
   "source": [
    "#### pandas 공식 문서 참고 바람. [바로 가기](https://pandas.pydata.org/docs/index.html)\n",
    "---\n",
    "1. __`DataFrame.index`__\n",
    "<br>\n",
    "   \n",
    "2. __`DataFrame.columns`__\n",
    "<br>\n",
    "3. __`DataFrame.values`__\n",
    "<br> return : `numpy.ndarray` The values of the DataFrame.\n",
    "<br>\n",
    "4. __`DataFrame.shape`__\n",
    "<br> return : a tuple representing the dimensionality of the DataFrame. (행, 열)\n",
    "<br>\n",
    "5. __`DataFrame.axes`__\n",
    "<br>return : a list representing the axes(row axis labels, column axis labels) of the DataFrame.\n",
    "<br>\n",
    "6. __`DataFrame.T`__\n",
    "<br> transpose\n",
    "<br>\n",
    "7. __`DataFrame.dtypes`__\n",
    "<br>return: `pandas.Series` The data type of each column.\n",
    "<br>\n",
    "8. __`DataFrame.size`__\n",
    "<br> return: an int representing the number of elements in this object."
   ]
  },
  {
   "cell_type": "code",
   "execution_count": 7,
   "metadata": {
    "colab": {
     "base_uri": "https://localhost:8080/"
    },
    "executionInfo": {
     "elapsed": 330,
     "status": "ok",
     "timestamp": 1656481886837,
     "user": {
      "displayName": "김주의(문과대학 문헌정보학)",
      "userId": "12730534296048251803"
     },
     "user_tz": -540
    },
    "id": "ZHPHnxPK4EFy",
    "outputId": "6cdb55bd-0c9f-4999-cd30-760ecc986ba7"
   },
   "outputs": [
    {
     "data": {
      "text/plain": [
       "RangeIndex(start=0, stop=3, step=1)"
      ]
     },
     "execution_count": 7,
     "metadata": {},
     "output_type": "execute_result"
    }
   ],
   "source": [
    "#1. index : 데이터프레임의 인덱스를 리스트로 반환\n",
    "#DataFrame에서 index는 row\n",
    "df.index"
   ]
  },
  {
   "cell_type": "code",
   "execution_count": 8,
   "metadata": {
    "colab": {
     "base_uri": "https://localhost:8080/",
     "height": 144
    },
    "executionInfo": {
     "elapsed": 308,
     "status": "ok",
     "timestamp": 1656484414502,
     "user": {
      "displayName": "김주의(문과대학 문헌정보학)",
      "userId": "12730534296048251803"
     },
     "user_tz": -540
    },
    "id": "6kJWlNY8A7w_",
    "outputId": "5e7a2de0-70d1-464d-ce90-46a713038744"
   },
   "outputs": [
    {
     "data": {
      "text/html": [
       "<div>\n",
       "<style scoped>\n",
       "    .dataframe tbody tr th:only-of-type {\n",
       "        vertical-align: middle;\n",
       "    }\n",
       "\n",
       "    .dataframe tbody tr th {\n",
       "        vertical-align: top;\n",
       "    }\n",
       "\n",
       "    .dataframe thead th {\n",
       "        text-align: right;\n",
       "    }\n",
       "</style>\n",
       "<table border=\"1\" class=\"dataframe\">\n",
       "  <thead>\n",
       "    <tr style=\"text-align: right;\">\n",
       "      <th></th>\n",
       "      <th>서울</th>\n",
       "      <th>대전</th>\n",
       "      <th>대구</th>\n",
       "      <th>부산</th>\n",
       "      <th>광주</th>\n",
       "    </tr>\n",
       "  </thead>\n",
       "  <tbody>\n",
       "    <tr>\n",
       "      <th>2020</th>\n",
       "      <td>950.0</td>\n",
       "      <td>50</td>\n",
       "      <td>85</td>\n",
       "      <td>180</td>\n",
       "      <td>74</td>\n",
       "    </tr>\n",
       "    <tr>\n",
       "      <th>2021</th>\n",
       "      <td>945.0</td>\n",
       "      <td>151</td>\n",
       "      <td>88</td>\n",
       "      <td>187</td>\n",
       "      <td>80</td>\n",
       "    </tr>\n",
       "    <tr>\n",
       "      <th>2022</th>\n",
       "      <td>938.5</td>\n",
       "      <td>145</td>\n",
       "      <td>92</td>\n",
       "      <td>192</td>\n",
       "      <td>80</td>\n",
       "    </tr>\n",
       "  </tbody>\n",
       "</table>\n",
       "</div>"
      ],
      "text/plain": [
       "         서울   대전  대구   부산  광주\n",
       "2020  950.0   50  85  180  74\n",
       "2021  945.0  151  88  187  80\n",
       "2022  938.5  145  92  192  80"
      ]
     },
     "execution_count": 8,
     "metadata": {},
     "output_type": "execute_result"
    }
   ],
   "source": [
    "df.index = [2020, 2021, 2022]\n",
    "df"
   ]
  },
  {
   "cell_type": "code",
   "execution_count": 9,
   "metadata": {
    "colab": {
     "base_uri": "https://localhost:8080/"
    },
    "executionInfo": {
     "elapsed": 309,
     "status": "ok",
     "timestamp": 1656481938787,
     "user": {
      "displayName": "김주의(문과대학 문헌정보학)",
      "userId": "12730534296048251803"
     },
     "user_tz": -540
    },
    "id": "URitsJZV4EF4",
    "outputId": "35eb3865-c1b7-4bab-dae1-aa123798d59a"
   },
   "outputs": [
    {
     "data": {
      "text/plain": [
       "Index(['서울', '대전', '대구', '부산', '광주'], dtype='object')"
      ]
     },
     "execution_count": 9,
     "metadata": {},
     "output_type": "execute_result"
    }
   ],
   "source": [
    "#2. columns : 데이터프레임의 컬럼을 리스트로 반환\n",
    "df.columns\n",
    "#변경하고 싶으면 앞선 df.index = [2020, 2021, 2022] 코드처럼 변경하면 됨. \n",
    "#대신 column 개수 꼭 맞추기"
   ]
  },
  {
   "cell_type": "code",
   "execution_count": 10,
   "metadata": {
    "colab": {
     "base_uri": "https://localhost:8080/"
    },
    "executionInfo": {
     "elapsed": 375,
     "status": "ok",
     "timestamp": 1656481981830,
     "user": {
      "displayName": "김주의(문과대학 문헌정보학)",
      "userId": "12730534296048251803"
     },
     "user_tz": -540
    },
    "id": "FvwzgKSf4EF7",
    "outputId": "44753fcd-9536-491f-f3c8-bda7eb920bcb"
   },
   "outputs": [
    {
     "data": {
      "text/plain": [
       "array([[950. ,  50. ,  85. , 180. ,  74. ],\n",
       "       [945. , 151. ,  88. , 187. ,  80. ],\n",
       "       [938.5, 145. ,  92. , 192. ,  80. ]])"
      ]
     },
     "execution_count": 10,
     "metadata": {},
     "output_type": "execute_result"
    }
   ],
   "source": [
    "#3. values : DataFrame의 값 return \n",
    "df.values"
   ]
  },
  {
   "cell_type": "code",
   "execution_count": 11,
   "metadata": {
    "colab": {
     "base_uri": "https://localhost:8080/"
    },
    "executionInfo": {
     "elapsed": 372,
     "status": "ok",
     "timestamp": 1656482024786,
     "user": {
      "displayName": "김주의(문과대학 문헌정보학)",
      "userId": "12730534296048251803"
     },
     "user_tz": -540
    },
    "id": "Yl2GI2ZPBTbl",
    "outputId": "d12ee78a-aa97-44ff-f336-80ffcbb373d7"
   },
   "outputs": [
    {
     "data": {
      "text/plain": [
       "numpy.ndarray"
      ]
     },
     "execution_count": 11,
     "metadata": {},
     "output_type": "execute_result"
    }
   ],
   "source": [
    "#DataFrame은 values를 ndarray 형태로 가짐\n",
    "type(df.values)"
   ]
  },
  {
   "cell_type": "code",
   "execution_count": 12,
   "metadata": {
    "colab": {
     "base_uri": "https://localhost:8080/"
    },
    "executionInfo": {
     "elapsed": 310,
     "status": "ok",
     "timestamp": 1656482034559,
     "user": {
      "displayName": "김주의(문과대학 문헌정보학)",
      "userId": "12730534296048251803"
     },
     "user_tz": -540
    },
    "id": "WUE7tc-e4EGA",
    "outputId": "e6a21790-bc36-46a6-b572-fc9216989c50"
   },
   "outputs": [
    {
     "data": {
      "text/plain": [
       "(3, 5)"
      ]
     },
     "execution_count": 12,
     "metadata": {},
     "output_type": "execute_result"
    }
   ],
   "source": [
    "#4. shape : 행(row)과 열(column)의 개수(차원)을 튜플로 반환\n",
    "df.shape"
   ]
  },
  {
   "cell_type": "code",
   "execution_count": 13,
   "metadata": {
    "colab": {
     "base_uri": "https://localhost:8080/",
     "height": 206
    },
    "executionInfo": {
     "elapsed": 20,
     "status": "ok",
     "timestamp": 1656482044261,
     "user": {
      "displayName": "김주의(문과대학 문헌정보학)",
      "userId": "12730534296048251803"
     },
     "user_tz": -540
    },
    "id": "uTYMMLtL4EGK",
    "outputId": "4ce30031-f1e1-4fd4-b2f3-0c05286aa265"
   },
   "outputs": [
    {
     "data": {
      "text/html": [
       "<div>\n",
       "<style scoped>\n",
       "    .dataframe tbody tr th:only-of-type {\n",
       "        vertical-align: middle;\n",
       "    }\n",
       "\n",
       "    .dataframe tbody tr th {\n",
       "        vertical-align: top;\n",
       "    }\n",
       "\n",
       "    .dataframe thead th {\n",
       "        text-align: right;\n",
       "    }\n",
       "</style>\n",
       "<table border=\"1\" class=\"dataframe\">\n",
       "  <thead>\n",
       "    <tr style=\"text-align: right;\">\n",
       "      <th></th>\n",
       "      <th>2020</th>\n",
       "      <th>2021</th>\n",
       "      <th>2022</th>\n",
       "    </tr>\n",
       "  </thead>\n",
       "  <tbody>\n",
       "    <tr>\n",
       "      <th>서울</th>\n",
       "      <td>950.0</td>\n",
       "      <td>945.0</td>\n",
       "      <td>938.5</td>\n",
       "    </tr>\n",
       "    <tr>\n",
       "      <th>대전</th>\n",
       "      <td>50.0</td>\n",
       "      <td>151.0</td>\n",
       "      <td>145.0</td>\n",
       "    </tr>\n",
       "    <tr>\n",
       "      <th>대구</th>\n",
       "      <td>85.0</td>\n",
       "      <td>88.0</td>\n",
       "      <td>92.0</td>\n",
       "    </tr>\n",
       "    <tr>\n",
       "      <th>부산</th>\n",
       "      <td>180.0</td>\n",
       "      <td>187.0</td>\n",
       "      <td>192.0</td>\n",
       "    </tr>\n",
       "    <tr>\n",
       "      <th>광주</th>\n",
       "      <td>74.0</td>\n",
       "      <td>80.0</td>\n",
       "      <td>80.0</td>\n",
       "    </tr>\n",
       "  </tbody>\n",
       "</table>\n",
       "</div>"
      ],
      "text/plain": [
       "     2020   2021   2022\n",
       "서울  950.0  945.0  938.5\n",
       "대전   50.0  151.0  145.0\n",
       "대구   85.0   88.0   92.0\n",
       "부산  180.0  187.0  192.0\n",
       "광주   74.0   80.0   80.0"
      ]
     },
     "execution_count": 13,
     "metadata": {},
     "output_type": "execute_result"
    }
   ],
   "source": [
    "#5. T (Transpose, 전치) : row과 column 바꾸기\n",
    "df.T"
   ]
  },
  {
   "cell_type": "code",
   "execution_count": 14,
   "metadata": {
    "colab": {
     "base_uri": "https://localhost:8080/"
    },
    "executionInfo": {
     "elapsed": 58,
     "status": "ok",
     "timestamp": 1656482061527,
     "user": {
      "displayName": "김주의(문과대학 문헌정보학)",
      "userId": "12730534296048251803"
     },
     "user_tz": -540
    },
    "id": "qIXB4pa84EGX",
    "outputId": "74673046-838a-47d8-f331-cc5aba4e3d87"
   },
   "outputs": [
    {
     "data": {
      "text/plain": [
       "[Int64Index([2020, 2021, 2022], dtype='int64'),\n",
       " Index(['서울', '대전', '대구', '부산', '광주'], dtype='object')]"
      ]
     },
     "execution_count": 14,
     "metadata": {},
     "output_type": "execute_result"
    }
   ],
   "source": [
    "#6. axes : list(row axis labels, column axis labels) 반환\n",
    "df.axes"
   ]
  },
  {
   "cell_type": "code",
   "execution_count": 15,
   "metadata": {
    "colab": {
     "base_uri": "https://localhost:8080/"
    },
    "executionInfo": {
     "elapsed": 414,
     "status": "ok",
     "timestamp": 1656482082584,
     "user": {
      "displayName": "김주의(문과대학 문헌정보학)",
      "userId": "12730534296048251803"
     },
     "user_tz": -540
    },
    "id": "QbRMnh264EHZ",
    "outputId": "21edceb6-679d-4196-d855-1bcd080ff049"
   },
   "outputs": [
    {
     "data": {
      "text/plain": [
       "서울    float64\n",
       "대전      int64\n",
       "대구      int64\n",
       "부산      int64\n",
       "광주      int64\n",
       "dtype: object"
      ]
     },
     "execution_count": 15,
     "metadata": {},
     "output_type": "execute_result"
    }
   ],
   "source": [
    "#7. dtypes : column별 data type 반환\n",
    "df.dtypes"
   ]
  },
  {
   "cell_type": "code",
   "execution_count": 16,
   "metadata": {
    "colab": {
     "base_uri": "https://localhost:8080/"
    },
    "executionInfo": {
     "elapsed": 21,
     "status": "ok",
     "timestamp": 1656482137042,
     "user": {
      "displayName": "김주의(문과대학 문헌정보학)",
      "userId": "12730534296048251803"
     },
     "user_tz": -540
    },
    "id": "mWsl-l1t4EHb",
    "outputId": "36d49443-6402-4ba1-8fc6-2603907e452b"
   },
   "outputs": [
    {
     "data": {
      "text/plain": [
       "15"
      ]
     },
     "execution_count": 16,
     "metadata": {},
     "output_type": "execute_result"
    }
   ],
   "source": [
    "#8. size : DataFrame의 원소의 개수를 반환\n",
    "df.size \n",
    "#3 x 5 = 15"
   ]
  },
  {
   "cell_type": "markdown",
   "metadata": {
    "id": "i7X05i5m4EHd"
   },
   "source": [
    "### 2.2.3. 데이터프레임 기본 함수(function)"
   ]
  },
  {
   "cell_type": "markdown",
   "metadata": {},
   "source": [
    "1. __`DataFrame.info()`__\n",
    "\n",
    "\n",
    "2. __`DataFrame.describe()`__\n",
    "\n",
    "\n",
    "3. __`DataFrame.mean()`__  __`DataFrame.sum()`__\n",
    "<br>  __`DataFrame.min()`__  __`DataFrame.max()`__ __`DataFrame.quantile(q=0.5, axis=0)`__ \n",
    "\n",
    "\n",
    "4. __`DataFrame.sample(n=None, frac=None, replace=False, axis=None)`__\n",
    "- __n__ : _int, optional_\n",
    "- __frac__ : _float, optional_\n",
    "\n",
    "\n",
    "5. __`DataFrame.head()`__\n",
    "\n",
    "\n",
    "6. __`DataFrame.nunique(axis=0, dropna=True)`__\n",
    "\n",
    "\n",
    "7. __`DataFrame.filter(items=None, like=None, regex=None, axis=None)`__\n",
    "- __items__ : _list-like_\n",
    "<br> Keep labels from axis which are in items.\n",
    "\n",
    "- __like__ : _str_\n",
    "<br> Keep labels from axis for which “like in label == True”.\n",
    "\n",
    "- __regex__ : _str (regular expression)_\n",
    "<br> Keep labels from axis for which re.search(regex, label) == True.\n",
    "\n",
    "8. __`DataFrame.plot()`__\n",
    "\n",
    "9. __`DataFrame.nlargest(n, columns)`__\n",
    "<br>return : the first _n_ rows ordered by _columns_ in descending order\n",
    "<br> __==__ `df.sort_values(columns, ascending=False).head(n)`\n",
    "\n",
    "10. __`DataFrame.nsmallest(n, columns)`__\n",
    "\n",
    "\n",
    "11. __`DataFrame.isin()`__\n",
    "<br> Whether each element in the DataFrame is contained in values.\n",
    "\n",
    "\n",
    "12. __`DataFrame.add(other, axis='columns', level=None, fill_value=None)`__\n",
    "\n",
    "\n",
    "13. __`Series.multiply(other, level=None, fill_value=None, axis=0)`__\n",
    "__`DataFrame.multiply(other, axis='columns', level=None, fill_value=None)`__\n",
    "\n",
    "\n",
    "14. __`DataFrame.drop(labels=None, axis=0, index=None, columns=None, level=None, inplace=False)`__"
   ]
  },
  {
   "cell_type": "code",
   "execution_count": 17,
   "metadata": {
    "colab": {
     "base_uri": "https://localhost:8080/"
    },
    "executionInfo": {
     "elapsed": 320,
     "status": "ok",
     "timestamp": 1656482222928,
     "user": {
      "displayName": "김주의(문과대학 문헌정보학)",
      "userId": "12730534296048251803"
     },
     "user_tz": -540
    },
    "id": "l58fQcHa4EHk",
    "outputId": "efcac1b4-3f32-43b7-8dde-3d71fb63c98c"
   },
   "outputs": [
    {
     "name": "stdout",
     "output_type": "stream",
     "text": [
      "<class 'pandas.core.frame.DataFrame'>\n",
      "Int64Index: 3 entries, 2020 to 2022\n",
      "Data columns (total 5 columns):\n",
      " #   Column  Non-Null Count  Dtype  \n",
      "---  ------  --------------  -----  \n",
      " 0   서울      3 non-null      float64\n",
      " 1   대전      3 non-null      int64  \n",
      " 2   대구      3 non-null      int64  \n",
      " 3   부산      3 non-null      int64  \n",
      " 4   광주      3 non-null      int64  \n",
      "dtypes: float64(1), int64(4)\n",
      "memory usage: 252.0 bytes\n"
     ]
    }
   ],
   "source": [
    "#1. info() - 기본 정보 출력\n",
    "df.info()\n",
    "#null (결측치) : 값 없음"
   ]
  },
  {
   "cell_type": "code",
   "execution_count": 18,
   "metadata": {
    "colab": {
     "base_uri": "https://localhost:8080/",
     "height": 300
    },
    "executionInfo": {
     "elapsed": 296,
     "status": "ok",
     "timestamp": 1656484215498,
     "user": {
      "displayName": "김주의(문과대학 문헌정보학)",
      "userId": "12730534296048251803"
     },
     "user_tz": -540
    },
    "id": "nlB156Os4EHz",
    "outputId": "1a6b2901-892e-4709-9106-569811d28160",
    "scrolled": true
   },
   "outputs": [
    {
     "data": {
      "text/html": [
       "<div>\n",
       "<style scoped>\n",
       "    .dataframe tbody tr th:only-of-type {\n",
       "        vertical-align: middle;\n",
       "    }\n",
       "\n",
       "    .dataframe tbody tr th {\n",
       "        vertical-align: top;\n",
       "    }\n",
       "\n",
       "    .dataframe thead th {\n",
       "        text-align: right;\n",
       "    }\n",
       "</style>\n",
       "<table border=\"1\" class=\"dataframe\">\n",
       "  <thead>\n",
       "    <tr style=\"text-align: right;\">\n",
       "      <th></th>\n",
       "      <th>서울</th>\n",
       "      <th>대전</th>\n",
       "      <th>대구</th>\n",
       "      <th>부산</th>\n",
       "      <th>광주</th>\n",
       "    </tr>\n",
       "  </thead>\n",
       "  <tbody>\n",
       "    <tr>\n",
       "      <th>count</th>\n",
       "      <td>3.000000</td>\n",
       "      <td>3.000000</td>\n",
       "      <td>3.000000</td>\n",
       "      <td>3.000000</td>\n",
       "      <td>3.000000</td>\n",
       "    </tr>\n",
       "    <tr>\n",
       "      <th>mean</th>\n",
       "      <td>944.500000</td>\n",
       "      <td>115.333333</td>\n",
       "      <td>88.333333</td>\n",
       "      <td>186.333333</td>\n",
       "      <td>78.000000</td>\n",
       "    </tr>\n",
       "    <tr>\n",
       "      <th>std</th>\n",
       "      <td>5.766281</td>\n",
       "      <td>56.659804</td>\n",
       "      <td>3.511885</td>\n",
       "      <td>6.027714</td>\n",
       "      <td>3.464102</td>\n",
       "    </tr>\n",
       "    <tr>\n",
       "      <th>min</th>\n",
       "      <td>938.500000</td>\n",
       "      <td>50.000000</td>\n",
       "      <td>85.000000</td>\n",
       "      <td>180.000000</td>\n",
       "      <td>74.000000</td>\n",
       "    </tr>\n",
       "    <tr>\n",
       "      <th>25%</th>\n",
       "      <td>941.750000</td>\n",
       "      <td>97.500000</td>\n",
       "      <td>86.500000</td>\n",
       "      <td>183.500000</td>\n",
       "      <td>77.000000</td>\n",
       "    </tr>\n",
       "    <tr>\n",
       "      <th>50%</th>\n",
       "      <td>945.000000</td>\n",
       "      <td>145.000000</td>\n",
       "      <td>88.000000</td>\n",
       "      <td>187.000000</td>\n",
       "      <td>80.000000</td>\n",
       "    </tr>\n",
       "    <tr>\n",
       "      <th>75%</th>\n",
       "      <td>947.500000</td>\n",
       "      <td>148.000000</td>\n",
       "      <td>90.000000</td>\n",
       "      <td>189.500000</td>\n",
       "      <td>80.000000</td>\n",
       "    </tr>\n",
       "    <tr>\n",
       "      <th>max</th>\n",
       "      <td>950.000000</td>\n",
       "      <td>151.000000</td>\n",
       "      <td>92.000000</td>\n",
       "      <td>192.000000</td>\n",
       "      <td>80.000000</td>\n",
       "    </tr>\n",
       "  </tbody>\n",
       "</table>\n",
       "</div>"
      ],
      "text/plain": [
       "               서울          대전         대구          부산         광주\n",
       "count    3.000000    3.000000   3.000000    3.000000   3.000000\n",
       "mean   944.500000  115.333333  88.333333  186.333333  78.000000\n",
       "std      5.766281   56.659804   3.511885    6.027714   3.464102\n",
       "min    938.500000   50.000000  85.000000  180.000000  74.000000\n",
       "25%    941.750000   97.500000  86.500000  183.500000  77.000000\n",
       "50%    945.000000  145.000000  88.000000  187.000000  80.000000\n",
       "75%    947.500000  148.000000  90.000000  189.500000  80.000000\n",
       "max    950.000000  151.000000  92.000000  192.000000  80.000000"
      ]
     },
     "execution_count": 18,
     "metadata": {},
     "output_type": "execute_result"
    }
   ],
   "source": [
    "#2. describe() - 기본 통계 정보 출력\n",
    "df.describe(include='all')"
   ]
  },
  {
   "cell_type": "code",
   "execution_count": 19,
   "metadata": {
    "colab": {
     "base_uri": "https://localhost:8080/"
    },
    "executionInfo": {
     "elapsed": 14,
     "status": "ok",
     "timestamp": 1656482317702,
     "user": {
      "displayName": "김주의(문과대학 문헌정보학)",
      "userId": "12730534296048251803"
     },
     "user_tz": -540
    },
    "id": "Zd4tdLWp4EH3",
    "outputId": "2ba39d8a-5b17-4970-a339-addf71e42b98"
   },
   "outputs": [
    {
     "data": {
      "text/plain": [
       "서울    944.500000\n",
       "대전    115.333333\n",
       "대구     88.333333\n",
       "부산    186.333333\n",
       "광주     78.000000\n",
       "dtype: float64"
      ]
     },
     "execution_count": 19,
     "metadata": {},
     "output_type": "execute_result"
    }
   ],
   "source": [
    "# 통계 함수 (mean, sum, max, min, ...)\n",
    "df.mean()"
   ]
  },
  {
   "cell_type": "code",
   "execution_count": 20,
   "metadata": {
    "colab": {
     "base_uri": "https://localhost:8080/"
    },
    "executionInfo": {
     "elapsed": 320,
     "status": "ok",
     "timestamp": 1656482353558,
     "user": {
      "displayName": "김주의(문과대학 문헌정보학)",
      "userId": "12730534296048251803"
     },
     "user_tz": -540
    },
    "id": "fY5tFqA8Cn8i",
    "outputId": "e71a3d0e-8a49-4982-b394-f1e03a105e4d"
   },
   "outputs": [
    {
     "data": {
      "text/plain": [
       "서울    945.0\n",
       "대전    145.0\n",
       "대구     88.0\n",
       "부산    187.0\n",
       "광주     80.0\n",
       "Name: 0.5, dtype: float64"
      ]
     },
     "execution_count": 20,
     "metadata": {},
     "output_type": "execute_result"
    }
   ],
   "source": [
    "#분위값\n",
    "df.quantile(0.5) # 중위값"
   ]
  },
  {
   "cell_type": "code",
   "execution_count": 21,
   "metadata": {
    "colab": {
     "base_uri": "https://localhost:8080/"
    },
    "executionInfo": {
     "elapsed": 43,
     "status": "ok",
     "timestamp": 1656482390064,
     "user": {
      "displayName": "김주의(문과대학 문헌정보학)",
      "userId": "12730534296048251803"
     },
     "user_tz": -540
    },
    "id": "t1YqsYEYCyfP",
    "outputId": "80dfcb95-4d0b-48ec-d4f3-44d289929232"
   },
   "outputs": [
    {
     "data": {
      "text/plain": [
       "서울    2833.5\n",
       "대전     346.0\n",
       "대구     265.0\n",
       "부산     559.0\n",
       "광주     234.0\n",
       "dtype: float64"
      ]
     },
     "execution_count": 21,
     "metadata": {},
     "output_type": "execute_result"
    }
   ],
   "source": [
    "#column별 합계\n",
    "df.sum()"
   ]
  },
  {
   "cell_type": "code",
   "execution_count": 22,
   "metadata": {
    "colab": {
     "base_uri": "https://localhost:8080/"
    },
    "executionInfo": {
     "elapsed": 300,
     "status": "ok",
     "timestamp": 1656482601436,
     "user": {
      "displayName": "김주의(문과대학 문헌정보학)",
      "userId": "12730534296048251803"
     },
     "user_tz": -540
    },
    "id": "RpioopmCDM2b",
    "outputId": "007033c4-5fc9-4020-f0a7-a6b65f15d38d"
   },
   "outputs": [
    {
     "data": {
      "text/plain": [
       "2020    1339.0\n",
       "2021    1451.0\n",
       "2022    1447.5\n",
       "dtype: float64"
      ]
     },
     "execution_count": 22,
     "metadata": {},
     "output_type": "execute_result"
    }
   ],
   "source": [
    "#index(row)별 합계\n",
    "#default는 axis=0\n",
    "df.sum(axis=1)"
   ]
  },
  {
   "cell_type": "code",
   "execution_count": 23,
   "metadata": {
    "colab": {
     "base_uri": "https://localhost:8080/"
    },
    "executionInfo": {
     "elapsed": 27,
     "status": "ok",
     "timestamp": 1656482549198,
     "user": {
      "displayName": "김주의(문과대학 문헌정보학)",
      "userId": "12730534296048251803"
     },
     "user_tz": -540
    },
    "id": "6iZDNswfC4iG",
    "outputId": "3e7fb34d-21f9-4b9a-9946-bd030eabfe0d"
   },
   "outputs": [
    {
     "data": {
      "text/plain": [
       "2020    1339.0\n",
       "2021    1451.0\n",
       "2022    1447.5\n",
       "dtype: float64"
      ]
     },
     "execution_count": 23,
     "metadata": {},
     "output_type": "execute_result"
    }
   ],
   "source": [
    "# 다른 방법 : index별 합계를 구하고 싶으면 T(transpose)를 활용하면 됨.\n",
    "df.T.sum()"
   ]
  },
  {
   "cell_type": "code",
   "execution_count": 24,
   "metadata": {
    "code_folding": [],
    "colab": {
     "base_uri": "https://localhost:8080/",
     "height": 81
    },
    "executionInfo": {
     "elapsed": 123,
     "status": "ok",
     "timestamp": 1656482773680,
     "user": {
      "displayName": "김주의(문과대학 문헌정보학)",
      "userId": "12730534296048251803"
     },
     "user_tz": -540
    },
    "id": "EFi1RLdA4EH5",
    "outputId": "61d52ae6-b1cf-48a8-f761-962bf758dbc0",
    "scrolled": true
   },
   "outputs": [
    {
     "data": {
      "text/html": [
       "<div>\n",
       "<style scoped>\n",
       "    .dataframe tbody tr th:only-of-type {\n",
       "        vertical-align: middle;\n",
       "    }\n",
       "\n",
       "    .dataframe tbody tr th {\n",
       "        vertical-align: top;\n",
       "    }\n",
       "\n",
       "    .dataframe thead th {\n",
       "        text-align: right;\n",
       "    }\n",
       "</style>\n",
       "<table border=\"1\" class=\"dataframe\">\n",
       "  <thead>\n",
       "    <tr style=\"text-align: right;\">\n",
       "      <th></th>\n",
       "      <th>서울</th>\n",
       "      <th>대전</th>\n",
       "      <th>대구</th>\n",
       "      <th>부산</th>\n",
       "      <th>광주</th>\n",
       "    </tr>\n",
       "  </thead>\n",
       "  <tbody>\n",
       "    <tr>\n",
       "      <th>2021</th>\n",
       "      <td>945.0</td>\n",
       "      <td>151</td>\n",
       "      <td>88</td>\n",
       "      <td>187</td>\n",
       "      <td>80</td>\n",
       "    </tr>\n",
       "  </tbody>\n",
       "</table>\n",
       "</div>"
      ],
      "text/plain": [
       "         서울   대전  대구   부산  광주\n",
       "2021  945.0  151  88  187  80"
      ]
     },
     "execution_count": 24,
     "metadata": {},
     "output_type": "execute_result"
    }
   ],
   "source": [
    "# 3. sample() - 일부 데이터를 랜덤으로 선택\n",
    "df.sample(frac = 0.3)\n",
    "#df.sample(0.3)은 안됨\n",
    "#frac 비율 "
   ]
  },
  {
   "cell_type": "code",
   "execution_count": 25,
   "metadata": {
    "colab": {
     "base_uri": "https://localhost:8080/",
     "height": 112
    },
    "executionInfo": {
     "elapsed": 74,
     "status": "ok",
     "timestamp": 1656482883221,
     "user": {
      "displayName": "김주의(문과대학 문헌정보학)",
      "userId": "12730534296048251803"
     },
     "user_tz": -540
    },
    "id": "rUfQOjNdEnwE",
    "outputId": "cbcd1186-f616-458a-878a-b75666932442"
   },
   "outputs": [
    {
     "data": {
      "text/html": [
       "<div>\n",
       "<style scoped>\n",
       "    .dataframe tbody tr th:only-of-type {\n",
       "        vertical-align: middle;\n",
       "    }\n",
       "\n",
       "    .dataframe tbody tr th {\n",
       "        vertical-align: top;\n",
       "    }\n",
       "\n",
       "    .dataframe thead th {\n",
       "        text-align: right;\n",
       "    }\n",
       "</style>\n",
       "<table border=\"1\" class=\"dataframe\">\n",
       "  <thead>\n",
       "    <tr style=\"text-align: right;\">\n",
       "      <th></th>\n",
       "      <th>서울</th>\n",
       "      <th>대전</th>\n",
       "      <th>대구</th>\n",
       "      <th>부산</th>\n",
       "      <th>광주</th>\n",
       "    </tr>\n",
       "  </thead>\n",
       "  <tbody>\n",
       "    <tr>\n",
       "      <th>2022</th>\n",
       "      <td>938.5</td>\n",
       "      <td>145</td>\n",
       "      <td>92</td>\n",
       "      <td>192</td>\n",
       "      <td>80</td>\n",
       "    </tr>\n",
       "    <tr>\n",
       "      <th>2020</th>\n",
       "      <td>950.0</td>\n",
       "      <td>50</td>\n",
       "      <td>85</td>\n",
       "      <td>180</td>\n",
       "      <td>74</td>\n",
       "    </tr>\n",
       "  </tbody>\n",
       "</table>\n",
       "</div>"
      ],
      "text/plain": [
       "         서울   대전  대구   부산  광주\n",
       "2022  938.5  145  92  192  80\n",
       "2020  950.0   50  85  180  74"
      ]
     },
     "execution_count": 25,
     "metadata": {},
     "output_type": "execute_result"
    }
   ],
   "source": [
    "df.sample(2)\n",
    "#df.sample(n=2)"
   ]
  },
  {
   "cell_type": "code",
   "execution_count": 26,
   "metadata": {
    "colab": {
     "base_uri": "https://localhost:8080/",
     "height": 144
    },
    "executionInfo": {
     "elapsed": 40,
     "status": "ok",
     "timestamp": 1656482995010,
     "user": {
      "displayName": "김주의(문과대학 문헌정보학)",
      "userId": "12730534296048251803"
     },
     "user_tz": -540
    },
    "id": "b6pqb9LOE2TQ",
    "outputId": "e26f027d-9376-407e-c2cd-2cfb2324b7eb"
   },
   "outputs": [
    {
     "data": {
      "text/html": [
       "<div>\n",
       "<style scoped>\n",
       "    .dataframe tbody tr th:only-of-type {\n",
       "        vertical-align: middle;\n",
       "    }\n",
       "\n",
       "    .dataframe tbody tr th {\n",
       "        vertical-align: top;\n",
       "    }\n",
       "\n",
       "    .dataframe thead th {\n",
       "        text-align: right;\n",
       "    }\n",
       "</style>\n",
       "<table border=\"1\" class=\"dataframe\">\n",
       "  <thead>\n",
       "    <tr style=\"text-align: right;\">\n",
       "      <th></th>\n",
       "      <th>대구</th>\n",
       "      <th>서울</th>\n",
       "    </tr>\n",
       "  </thead>\n",
       "  <tbody>\n",
       "    <tr>\n",
       "      <th>2020</th>\n",
       "      <td>85</td>\n",
       "      <td>950.0</td>\n",
       "    </tr>\n",
       "    <tr>\n",
       "      <th>2021</th>\n",
       "      <td>88</td>\n",
       "      <td>945.0</td>\n",
       "    </tr>\n",
       "    <tr>\n",
       "      <th>2022</th>\n",
       "      <td>92</td>\n",
       "      <td>938.5</td>\n",
       "    </tr>\n",
       "  </tbody>\n",
       "</table>\n",
       "</div>"
      ],
      "text/plain": [
       "      대구     서울\n",
       "2020  85  950.0\n",
       "2021  88  945.0\n",
       "2022  92  938.5"
      ]
     },
     "execution_count": 26,
     "metadata": {},
     "output_type": "execute_result"
    }
   ],
   "source": [
    "#5개 컬럼 중에 2개 컬럼을 랜덤하게 선택\n",
    "#기능을 구현하기보다 문서를 통해 parameter 찾아보자\n",
    "df.sample(n=2, axis=1)"
   ]
  },
  {
   "cell_type": "code",
   "execution_count": 27,
   "metadata": {
    "colab": {
     "base_uri": "https://localhost:8080/",
     "height": 144
    },
    "executionInfo": {
     "elapsed": 400,
     "status": "ok",
     "timestamp": 1656483093678,
     "user": {
      "displayName": "김주의(문과대학 문헌정보학)",
      "userId": "12730534296048251803"
     },
     "user_tz": -540
    },
    "id": "lCosFHCB4EIF",
    "outputId": "470c4678-1937-4d28-a658-cbb4f3dfd24d"
   },
   "outputs": [
    {
     "data": {
      "text/html": [
       "<div>\n",
       "<style scoped>\n",
       "    .dataframe tbody tr th:only-of-type {\n",
       "        vertical-align: middle;\n",
       "    }\n",
       "\n",
       "    .dataframe tbody tr th {\n",
       "        vertical-align: top;\n",
       "    }\n",
       "\n",
       "    .dataframe thead th {\n",
       "        text-align: right;\n",
       "    }\n",
       "</style>\n",
       "<table border=\"1\" class=\"dataframe\">\n",
       "  <thead>\n",
       "    <tr style=\"text-align: right;\">\n",
       "      <th></th>\n",
       "      <th>서울</th>\n",
       "      <th>대전</th>\n",
       "      <th>대구</th>\n",
       "      <th>부산</th>\n",
       "      <th>광주</th>\n",
       "    </tr>\n",
       "  </thead>\n",
       "  <tbody>\n",
       "    <tr>\n",
       "      <th>2020</th>\n",
       "      <td>950.0</td>\n",
       "      <td>50</td>\n",
       "      <td>85</td>\n",
       "      <td>180</td>\n",
       "      <td>74</td>\n",
       "    </tr>\n",
       "    <tr>\n",
       "      <th>2021</th>\n",
       "      <td>945.0</td>\n",
       "      <td>151</td>\n",
       "      <td>88</td>\n",
       "      <td>187</td>\n",
       "      <td>80</td>\n",
       "    </tr>\n",
       "  </tbody>\n",
       "</table>\n",
       "</div>"
      ],
      "text/plain": [
       "         서울   대전  대구   부산  광주\n",
       "2020  950.0   50  85  180  74\n",
       "2021  945.0  151  88  187  80"
      ]
     },
     "execution_count": 27,
     "metadata": {},
     "output_type": "execute_result"
    }
   ],
   "source": [
    "# 4. head, tail(x) - 맨 앞 혹은 맨 뒤의 x개의 데이터만 출력 (default X = 5)\n",
    "df.head(2)"
   ]
  },
  {
   "cell_type": "code",
   "execution_count": 28,
   "metadata": {
    "colab": {
     "base_uri": "https://localhost:8080/"
    },
    "executionInfo": {
     "elapsed": 23,
     "status": "ok",
     "timestamp": 1656483160821,
     "user": {
      "displayName": "김주의(문과대학 문헌정보학)",
      "userId": "12730534296048251803"
     },
     "user_tz": -540
    },
    "id": "OU5fwu1j4EIK",
    "outputId": "79346b8a-6fb9-4ce6-e0b0-4c915d30feca"
   },
   "outputs": [
    {
     "data": {
      "text/plain": [
       "서울    3\n",
       "대전    3\n",
       "대구    3\n",
       "부산    3\n",
       "광주    2\n",
       "dtype: int64"
      ]
     },
     "execution_count": 28,
     "metadata": {},
     "output_type": "execute_result"
    }
   ],
   "source": [
    "# 5. nunique() - unique한 값의 개수\n",
    "df.nunique()"
   ]
  },
  {
   "cell_type": "code",
   "execution_count": 29,
   "metadata": {
    "colab": {
     "base_uri": "https://localhost:8080/",
     "height": 974
    },
    "executionInfo": {
     "elapsed": 639,
     "status": "ok",
     "timestamp": 1656483188348,
     "user": {
      "displayName": "김주의(문과대학 문헌정보학)",
      "userId": "12730534296048251803"
     },
     "user_tz": -540
    },
    "id": "rF13xp3I4EIM",
    "outputId": "357f163b-ea1c-4c8a-c846-5b6d6ba201d5",
    "scrolled": true
   },
   "outputs": [
    {
     "data": {
      "text/plain": [
       "<AxesSubplot:>"
      ]
     },
     "execution_count": 29,
     "metadata": {},
     "output_type": "execute_result"
    },
    {
     "name": "stderr",
     "output_type": "stream",
     "text": [
      "C:\\ProgramData\\Anaconda3\\lib\\site-packages\\matplotlib\\backends\\backend_agg.py:240: RuntimeWarning: Glyph 49436 missing from current font.\n",
      "  font.set_text(s, 0.0, flags=flags)\n",
      "C:\\ProgramData\\Anaconda3\\lib\\site-packages\\matplotlib\\backends\\backend_agg.py:240: RuntimeWarning: Glyph 50872 missing from current font.\n",
      "  font.set_text(s, 0.0, flags=flags)\n",
      "C:\\ProgramData\\Anaconda3\\lib\\site-packages\\matplotlib\\backends\\backend_agg.py:240: RuntimeWarning: Glyph 45824 missing from current font.\n",
      "  font.set_text(s, 0.0, flags=flags)\n",
      "C:\\ProgramData\\Anaconda3\\lib\\site-packages\\matplotlib\\backends\\backend_agg.py:240: RuntimeWarning: Glyph 51204 missing from current font.\n",
      "  font.set_text(s, 0.0, flags=flags)\n",
      "C:\\ProgramData\\Anaconda3\\lib\\site-packages\\matplotlib\\backends\\backend_agg.py:240: RuntimeWarning: Glyph 44396 missing from current font.\n",
      "  font.set_text(s, 0.0, flags=flags)\n",
      "C:\\ProgramData\\Anaconda3\\lib\\site-packages\\matplotlib\\backends\\backend_agg.py:240: RuntimeWarning: Glyph 48512 missing from current font.\n",
      "  font.set_text(s, 0.0, flags=flags)\n",
      "C:\\ProgramData\\Anaconda3\\lib\\site-packages\\matplotlib\\backends\\backend_agg.py:240: RuntimeWarning: Glyph 49328 missing from current font.\n",
      "  font.set_text(s, 0.0, flags=flags)\n",
      "C:\\ProgramData\\Anaconda3\\lib\\site-packages\\matplotlib\\backends\\backend_agg.py:240: RuntimeWarning: Glyph 44305 missing from current font.\n",
      "  font.set_text(s, 0.0, flags=flags)\n",
      "C:\\ProgramData\\Anaconda3\\lib\\site-packages\\matplotlib\\backends\\backend_agg.py:240: RuntimeWarning: Glyph 51452 missing from current font.\n",
      "  font.set_text(s, 0.0, flags=flags)\n",
      "C:\\ProgramData\\Anaconda3\\lib\\site-packages\\matplotlib\\backends\\backend_agg.py:203: RuntimeWarning: Glyph 49436 missing from current font.\n",
      "  font.set_text(s, 0, flags=flags)\n",
      "C:\\ProgramData\\Anaconda3\\lib\\site-packages\\matplotlib\\backends\\backend_agg.py:203: RuntimeWarning: Glyph 50872 missing from current font.\n",
      "  font.set_text(s, 0, flags=flags)\n",
      "C:\\ProgramData\\Anaconda3\\lib\\site-packages\\matplotlib\\backends\\backend_agg.py:203: RuntimeWarning: Glyph 45824 missing from current font.\n",
      "  font.set_text(s, 0, flags=flags)\n",
      "C:\\ProgramData\\Anaconda3\\lib\\site-packages\\matplotlib\\backends\\backend_agg.py:203: RuntimeWarning: Glyph 51204 missing from current font.\n",
      "  font.set_text(s, 0, flags=flags)\n",
      "C:\\ProgramData\\Anaconda3\\lib\\site-packages\\matplotlib\\backends\\backend_agg.py:203: RuntimeWarning: Glyph 44396 missing from current font.\n",
      "  font.set_text(s, 0, flags=flags)\n",
      "C:\\ProgramData\\Anaconda3\\lib\\site-packages\\matplotlib\\backends\\backend_agg.py:203: RuntimeWarning: Glyph 48512 missing from current font.\n",
      "  font.set_text(s, 0, flags=flags)\n",
      "C:\\ProgramData\\Anaconda3\\lib\\site-packages\\matplotlib\\backends\\backend_agg.py:203: RuntimeWarning: Glyph 49328 missing from current font.\n",
      "  font.set_text(s, 0, flags=flags)\n",
      "C:\\ProgramData\\Anaconda3\\lib\\site-packages\\matplotlib\\backends\\backend_agg.py:203: RuntimeWarning: Glyph 44305 missing from current font.\n",
      "  font.set_text(s, 0, flags=flags)\n",
      "C:\\ProgramData\\Anaconda3\\lib\\site-packages\\matplotlib\\backends\\backend_agg.py:203: RuntimeWarning: Glyph 51452 missing from current font.\n",
      "  font.set_text(s, 0, flags=flags)\n"
     ]
    },
    {
     "data": {
      "image/png": "[encoded data removed]",
      "text/plain": [
       "<Figure size 432x288 with 1 Axes>"
      ]
     },
     "metadata": {
      "needs_background": "light"
     },
     "output_type": "display_data"
    }
   ],
   "source": [
    "# 6. plot() - 데이터 시각화 \n",
    "df.plot()"
   ]
  },
  {
   "cell_type": "markdown",
   "metadata": {},
   "source": [
    "+) __Warning & Error__\n",
    "<br>\n",
    "분홍색 박스 => Warning(경고) : Error는 실행 안되는데, Warning은 실행됨.\n",
    "\n",
    "기본 폰트로 한글을 지원 안해서 Warning"
   ]
  },
  {
   "cell_type": "code",
   "execution_count": 30,
   "metadata": {
    "colab": {
     "base_uri": "https://localhost:8080/",
     "height": 972
    },
    "executionInfo": {
     "elapsed": 344,
     "status": "ok",
     "timestamp": 1656483380096,
     "user": {
      "displayName": "김주의(문과대학 문헌정보학)",
      "userId": "12730534296048251803"
     },
     "user_tz": -540
    },
    "id": "JiNxkMdAGPN7",
    "outputId": "b6992645-4e95-410b-df88-b36683863719"
   },
   "outputs": [
    {
     "data": {
      "text/plain": [
       "<AxesSubplot:>"
      ]
     },
     "execution_count": 30,
     "metadata": {},
     "output_type": "execute_result"
    },
    {
     "data": {
      "image/png": "[encoded data removed]",
      "text/plain": [
       "<Figure size 432x288 with 1 Axes>"
      ]
     },
     "metadata": {
      "needs_background": "light"
     },
     "output_type": "display_data"
    }
   ],
   "source": [
    "import matplotlib as plt\n",
    "plt.rcParams['font.family'] = 'Malgun Gothic'\n",
    "#ios면 AppleGothic로 지정\n",
    "df.plot()\n",
    "#df.plot(kind='bar') bar plot"
   ]
  },
  {
   "cell_type": "code",
   "execution_count": 31,
   "metadata": {
    "colab": {
     "base_uri": "https://localhost:8080/",
     "height": 144
    },
    "executionInfo": {
     "elapsed": 293,
     "status": "ok",
     "timestamp": 1656484718322,
     "user": {
      "displayName": "김주의(문과대학 문헌정보학)",
      "userId": "12730534296048251803"
     },
     "user_tz": -540
    },
    "id": "obKcDsY9LtW9",
    "outputId": "17882ffe-3f12-4b2f-bec6-d76bde1cd6d4"
   },
   "outputs": [
    {
     "data": {
      "text/html": [
       "<div>\n",
       "<style scoped>\n",
       "    .dataframe tbody tr th:only-of-type {\n",
       "        vertical-align: middle;\n",
       "    }\n",
       "\n",
       "    .dataframe tbody tr th {\n",
       "        vertical-align: top;\n",
       "    }\n",
       "\n",
       "    .dataframe thead th {\n",
       "        text-align: right;\n",
       "    }\n",
       "</style>\n",
       "<table border=\"1\" class=\"dataframe\">\n",
       "  <thead>\n",
       "    <tr style=\"text-align: right;\">\n",
       "      <th></th>\n",
       "      <th>서울</th>\n",
       "      <th>대전</th>\n",
       "      <th>대구</th>\n",
       "      <th>부산</th>\n",
       "      <th>광주</th>\n",
       "    </tr>\n",
       "  </thead>\n",
       "  <tbody>\n",
       "    <tr>\n",
       "      <th>2020</th>\n",
       "      <td>950.0</td>\n",
       "      <td>50</td>\n",
       "      <td>85</td>\n",
       "      <td>180</td>\n",
       "      <td>74</td>\n",
       "    </tr>\n",
       "    <tr>\n",
       "      <th>2021</th>\n",
       "      <td>945.0</td>\n",
       "      <td>151</td>\n",
       "      <td>88</td>\n",
       "      <td>187</td>\n",
       "      <td>80</td>\n",
       "    </tr>\n",
       "    <tr>\n",
       "      <th>2022</th>\n",
       "      <td>938.5</td>\n",
       "      <td>145</td>\n",
       "      <td>92</td>\n",
       "      <td>192</td>\n",
       "      <td>80</td>\n",
       "    </tr>\n",
       "  </tbody>\n",
       "</table>\n",
       "</div>"
      ],
      "text/plain": [
       "         서울   대전  대구   부산  광주\n",
       "2020  950.0   50  85  180  74\n",
       "2021  945.0  151  88  187  80\n",
       "2022  938.5  145  92  192  80"
      ]
     },
     "execution_count": 31,
     "metadata": {},
     "output_type": "execute_result"
    }
   ],
   "source": [
    "df"
   ]
  },
  {
   "cell_type": "code",
   "execution_count": 32,
   "metadata": {
    "colab": {
     "base_uri": "https://localhost:8080/",
     "height": 144
    },
    "executionInfo": {
     "elapsed": 308,
     "status": "ok",
     "timestamp": 1656484489422,
     "user": {
      "displayName": "김주의(문과대학 문헌정보학)",
      "userId": "12730534296048251803"
     },
     "user_tz": -540
    },
    "id": "KW0iyUld4EIO",
    "outputId": "d8fd901b-bffa-4705-d4ff-f55d33c400b3"
   },
   "outputs": [
    {
     "data": {
      "text/html": [
       "<div>\n",
       "<style scoped>\n",
       "    .dataframe tbody tr th:only-of-type {\n",
       "        vertical-align: middle;\n",
       "    }\n",
       "\n",
       "    .dataframe tbody tr th {\n",
       "        vertical-align: top;\n",
       "    }\n",
       "\n",
       "    .dataframe thead th {\n",
       "        text-align: right;\n",
       "    }\n",
       "</style>\n",
       "<table border=\"1\" class=\"dataframe\">\n",
       "  <thead>\n",
       "    <tr style=\"text-align: right;\">\n",
       "      <th></th>\n",
       "      <th>서울</th>\n",
       "    </tr>\n",
       "  </thead>\n",
       "  <tbody>\n",
       "    <tr>\n",
       "      <th>2020</th>\n",
       "      <td>950.0</td>\n",
       "    </tr>\n",
       "    <tr>\n",
       "      <th>2021</th>\n",
       "      <td>945.0</td>\n",
       "    </tr>\n",
       "    <tr>\n",
       "      <th>2022</th>\n",
       "      <td>938.5</td>\n",
       "    </tr>\n",
       "  </tbody>\n",
       "</table>\n",
       "</div>"
      ],
      "text/plain": [
       "         서울\n",
       "2020  950.0\n",
       "2021  945.0\n",
       "2022  938.5"
      ]
     },
     "execution_count": 32,
     "metadata": {},
     "output_type": "execute_result"
    }
   ],
   "source": [
    "# 7. filter() - 원하는 데이터만 선택 \n",
    "df.filter(['서울'])\n",
    "#parameters : items:list like"
   ]
  },
  {
   "cell_type": "code",
   "execution_count": 33,
   "metadata": {
    "colab": {
     "base_uri": "https://localhost:8080/",
     "height": 144
    },
    "executionInfo": {
     "elapsed": 292,
     "status": "ok",
     "timestamp": 1656484519520,
     "user": {
      "displayName": "김주의(문과대학 문헌정보학)",
      "userId": "12730534296048251803"
     },
     "user_tz": -540
    },
    "id": "Xpu3R3KKK5Kh",
    "outputId": "63d04c60-60ed-4aff-8e6e-5b048ae1d1f1"
   },
   "outputs": [
    {
     "data": {
      "text/html": [
       "<div>\n",
       "<style scoped>\n",
       "    .dataframe tbody tr th:only-of-type {\n",
       "        vertical-align: middle;\n",
       "    }\n",
       "\n",
       "    .dataframe tbody tr th {\n",
       "        vertical-align: top;\n",
       "    }\n",
       "\n",
       "    .dataframe thead th {\n",
       "        text-align: right;\n",
       "    }\n",
       "</style>\n",
       "<table border=\"1\" class=\"dataframe\">\n",
       "  <thead>\n",
       "    <tr style=\"text-align: right;\">\n",
       "      <th></th>\n",
       "      <th>서울</th>\n",
       "      <th>대구</th>\n",
       "    </tr>\n",
       "  </thead>\n",
       "  <tbody>\n",
       "    <tr>\n",
       "      <th>2020</th>\n",
       "      <td>950.0</td>\n",
       "      <td>85</td>\n",
       "    </tr>\n",
       "    <tr>\n",
       "      <th>2021</th>\n",
       "      <td>945.0</td>\n",
       "      <td>88</td>\n",
       "    </tr>\n",
       "    <tr>\n",
       "      <th>2022</th>\n",
       "      <td>938.5</td>\n",
       "      <td>92</td>\n",
       "    </tr>\n",
       "  </tbody>\n",
       "</table>\n",
       "</div>"
      ],
      "text/plain": [
       "         서울  대구\n",
       "2020  950.0  85\n",
       "2021  945.0  88\n",
       "2022  938.5  92"
      ]
     },
     "execution_count": 33,
     "metadata": {},
     "output_type": "execute_result"
    }
   ],
   "source": [
    "#서울, 대구 column만 선택\n",
    "df.filter(['서울', '대구'])"
   ]
  },
  {
   "cell_type": "code",
   "execution_count": 34,
   "metadata": {
    "colab": {
     "base_uri": "https://localhost:8080/",
     "height": 81
    },
    "executionInfo": {
     "elapsed": 306,
     "status": "ok",
     "timestamp": 1656484567410,
     "user": {
      "displayName": "김주의(문과대학 문헌정보학)",
      "userId": "12730534296048251803"
     },
     "user_tz": -540
    },
    "id": "sWKS9FJbK-7O",
    "outputId": "da117951-3e30-49df-fac5-086d47dd78da"
   },
   "outputs": [
    {
     "data": {
      "text/html": [
       "<div>\n",
       "<style scoped>\n",
       "    .dataframe tbody tr th:only-of-type {\n",
       "        vertical-align: middle;\n",
       "    }\n",
       "\n",
       "    .dataframe tbody tr th {\n",
       "        vertical-align: top;\n",
       "    }\n",
       "\n",
       "    .dataframe thead th {\n",
       "        text-align: right;\n",
       "    }\n",
       "</style>\n",
       "<table border=\"1\" class=\"dataframe\">\n",
       "  <thead>\n",
       "    <tr style=\"text-align: right;\">\n",
       "      <th></th>\n",
       "      <th>서울</th>\n",
       "      <th>대전</th>\n",
       "      <th>대구</th>\n",
       "      <th>부산</th>\n",
       "      <th>광주</th>\n",
       "    </tr>\n",
       "  </thead>\n",
       "  <tbody>\n",
       "    <tr>\n",
       "      <th>2020</th>\n",
       "      <td>950.0</td>\n",
       "      <td>50</td>\n",
       "      <td>85</td>\n",
       "      <td>180</td>\n",
       "      <td>74</td>\n",
       "    </tr>\n",
       "  </tbody>\n",
       "</table>\n",
       "</div>"
      ],
      "text/plain": [
       "         서울  대전  대구   부산  광주\n",
       "2020  950.0  50  85  180  74"
      ]
     },
     "execution_count": 34,
     "metadata": {},
     "output_type": "execute_result"
    }
   ],
   "source": [
    "#2020년 index 선택\n",
    "df.filter([2020], axis=0)"
   ]
  },
  {
   "cell_type": "code",
   "execution_count": 35,
   "metadata": {
    "colab": {
     "base_uri": "https://localhost:8080/",
     "height": 144
    },
    "executionInfo": {
     "elapsed": 7,
     "status": "ok",
     "timestamp": 1656484665262,
     "user": {
      "displayName": "김주의(문과대학 문헌정보학)",
      "userId": "12730534296048251803"
     },
     "user_tz": -540
    },
    "id": "mrJK6tJgLKDT",
    "outputId": "47bb199b-8180-404f-8044-5e862fb72241"
   },
   "outputs": [
    {
     "data": {
      "text/html": [
       "<div>\n",
       "<style scoped>\n",
       "    .dataframe tbody tr th:only-of-type {\n",
       "        vertical-align: middle;\n",
       "    }\n",
       "\n",
       "    .dataframe tbody tr th {\n",
       "        vertical-align: top;\n",
       "    }\n",
       "\n",
       "    .dataframe thead th {\n",
       "        text-align: right;\n",
       "    }\n",
       "</style>\n",
       "<table border=\"1\" class=\"dataframe\">\n",
       "  <thead>\n",
       "    <tr style=\"text-align: right;\">\n",
       "      <th></th>\n",
       "      <th>대전</th>\n",
       "      <th>대구</th>\n",
       "    </tr>\n",
       "  </thead>\n",
       "  <tbody>\n",
       "    <tr>\n",
       "      <th>2020</th>\n",
       "      <td>50</td>\n",
       "      <td>85</td>\n",
       "    </tr>\n",
       "    <tr>\n",
       "      <th>2021</th>\n",
       "      <td>151</td>\n",
       "      <td>88</td>\n",
       "    </tr>\n",
       "    <tr>\n",
       "      <th>2022</th>\n",
       "      <td>145</td>\n",
       "      <td>92</td>\n",
       "    </tr>\n",
       "  </tbody>\n",
       "</table>\n",
       "</div>"
      ],
      "text/plain": [
       "       대전  대구\n",
       "2020   50  85\n",
       "2021  151  88\n",
       "2022  145  92"
      ]
     },
     "execution_count": 35,
     "metadata": {},
     "output_type": "execute_result"
    }
   ],
   "source": [
    "#정규표현식 RegeX 사용\n",
    "#정규표현식 : 특정 패턴\n",
    "# '대'로 시작하는 도시만 선택\n",
    "df.filter(regex='^대') "
   ]
  },
  {
   "cell_type": "code",
   "execution_count": 36,
   "metadata": {
    "colab": {
     "base_uri": "https://localhost:8080/",
     "height": 144
    },
    "executionInfo": {
     "elapsed": 338,
     "status": "ok",
     "timestamp": 1656484792107,
     "user": {
      "displayName": "김주의(문과대학 문헌정보학)",
      "userId": "12730534296048251803"
     },
     "user_tz": -540
    },
    "id": "iNpBv6q8Ljuz",
    "outputId": "dc0aeeb6-d56a-4c68-b5a8-1223e9064d77"
   },
   "outputs": [
    {
     "data": {
      "text/html": [
       "<div>\n",
       "<style scoped>\n",
       "    .dataframe tbody tr th:only-of-type {\n",
       "        vertical-align: middle;\n",
       "    }\n",
       "\n",
       "    .dataframe tbody tr th {\n",
       "        vertical-align: top;\n",
       "    }\n",
       "\n",
       "    .dataframe thead th {\n",
       "        text-align: right;\n",
       "    }\n",
       "</style>\n",
       "<table border=\"1\" class=\"dataframe\">\n",
       "  <thead>\n",
       "    <tr style=\"text-align: right;\">\n",
       "      <th></th>\n",
       "      <th>서울</th>\n",
       "      <th>대전</th>\n",
       "      <th>대구</th>\n",
       "      <th>부산</th>\n",
       "      <th>광주</th>\n",
       "    </tr>\n",
       "  </thead>\n",
       "  <tbody>\n",
       "    <tr>\n",
       "      <th>2020</th>\n",
       "      <td>950.0</td>\n",
       "      <td>50</td>\n",
       "      <td>85</td>\n",
       "      <td>180</td>\n",
       "      <td>74</td>\n",
       "    </tr>\n",
       "    <tr>\n",
       "      <th>2021</th>\n",
       "      <td>945.0</td>\n",
       "      <td>151</td>\n",
       "      <td>88</td>\n",
       "      <td>187</td>\n",
       "      <td>80</td>\n",
       "    </tr>\n",
       "    <tr>\n",
       "      <th>2022</th>\n",
       "      <td>938.5</td>\n",
       "      <td>145</td>\n",
       "      <td>92</td>\n",
       "      <td>192</td>\n",
       "      <td>80</td>\n",
       "    </tr>\n",
       "  </tbody>\n",
       "</table>\n",
       "</div>"
      ],
      "text/plain": [
       "         서울   대전  대구   부산  광주\n",
       "2020  950.0   50  85  180  74\n",
       "2021  945.0  151  88  187  80\n",
       "2022  938.5  145  92  192  80"
      ]
     },
     "execution_count": 36,
     "metadata": {},
     "output_type": "execute_result"
    }
   ],
   "source": [
    "#2020년대 데이터만 선택\n",
    "df.filter(regex = '^202', axis=0)"
   ]
  },
  {
   "cell_type": "code",
   "execution_count": 37,
   "metadata": {
    "colab": {
     "base_uri": "https://localhost:8080/",
     "height": 81
    },
    "executionInfo": {
     "elapsed": 314,
     "status": "ok",
     "timestamp": 1656484855757,
     "user": {
      "displayName": "김주의(문과대학 문헌정보학)",
      "userId": "12730534296048251803"
     },
     "user_tz": -540
    },
    "id": "O9HlTLbOMCr8",
    "outputId": "2845cc6b-b54c-4497-cde0-8f9bdec0a330"
   },
   "outputs": [
    {
     "data": {
      "text/html": [
       "<div>\n",
       "<style scoped>\n",
       "    .dataframe tbody tr th:only-of-type {\n",
       "        vertical-align: middle;\n",
       "    }\n",
       "\n",
       "    .dataframe tbody tr th {\n",
       "        vertical-align: top;\n",
       "    }\n",
       "\n",
       "    .dataframe thead th {\n",
       "        text-align: right;\n",
       "    }\n",
       "</style>\n",
       "<table border=\"1\" class=\"dataframe\">\n",
       "  <thead>\n",
       "    <tr style=\"text-align: right;\">\n",
       "      <th></th>\n",
       "      <th>서울</th>\n",
       "      <th>대전</th>\n",
       "      <th>대구</th>\n",
       "      <th>부산</th>\n",
       "      <th>광주</th>\n",
       "    </tr>\n",
       "  </thead>\n",
       "  <tbody>\n",
       "    <tr>\n",
       "      <th>2020</th>\n",
       "      <td>950.0</td>\n",
       "      <td>50</td>\n",
       "      <td>85</td>\n",
       "      <td>180</td>\n",
       "      <td>74</td>\n",
       "    </tr>\n",
       "  </tbody>\n",
       "</table>\n",
       "</div>"
      ],
      "text/plain": [
       "         서울  대전  대구   부산  광주\n",
       "2020  950.0  50  85  180  74"
      ]
     },
     "execution_count": 37,
     "metadata": {},
     "output_type": "execute_result"
    }
   ],
   "source": [
    "#10년 단위의 데이터만 선택 (1990, 200, 2010, 2020, ...)\n",
    "df.filter(regex = '0$', axis=0)"
   ]
  },
  {
   "cell_type": "markdown",
   "metadata": {
    "id": "f_qp40c34EIP"
   },
   "source": [
    "# 3-3차시"
   ]
  },
  {
   "cell_type": "markdown",
   "metadata": {
    "id": "ewZxizMO4EIR"
   },
   "source": [
    "### 2.2.3. 데이터프레임 조회하기"
   ]
  },
  {
   "cell_type": "markdown",
   "metadata": {},
   "source": [
    "__1. column 조회__\n",
    "- DataFrame['컬럼명']\n",
    "- DataFrame.컬럼명\n",
    "- __두 개 이상일 때는 list로 묶기__\n",
    "    - DataFrame[['컬럼명1', '컬럼명2']]\n",
    "\n",
    "__2. row 조회__\n",
    "- DataFrame.loc['인덱스명']\n",
    "- DataFrame.loc['인덱스명' : '문자 인덱스명'] slicing\n",
    "- DataFrame.iloc[숫자 인덱스]\n",
    "- DataFrame.iloc[숫자 인덱스 : 숫자 인덱스] slicing\n",
    "\n",
    "__3. 조건 색인__"
   ]
  },
  {
   "cell_type": "code",
   "execution_count": 38,
   "metadata": {
    "colab": {
     "base_uri": "https://localhost:8080/",
     "height": 206
    },
    "executionInfo": {
     "elapsed": 388,
     "status": "ok",
     "timestamp": 1656484864125,
     "user": {
      "displayName": "김주의(문과대학 문헌정보학)",
      "userId": "12730534296048251803"
     },
     "user_tz": -540
    },
    "id": "v2Ikc2z04EIc",
    "outputId": "1e593804-6993-460e-98db-e1312325ee0b"
   },
   "outputs": [
    {
     "data": {
      "text/html": [
       "<div>\n",
       "<style scoped>\n",
       "    .dataframe tbody tr th:only-of-type {\n",
       "        vertical-align: middle;\n",
       "    }\n",
       "\n",
       "    .dataframe tbody tr th {\n",
       "        vertical-align: top;\n",
       "    }\n",
       "\n",
       "    .dataframe thead th {\n",
       "        text-align: right;\n",
       "    }\n",
       "</style>\n",
       "<table border=\"1\" class=\"dataframe\">\n",
       "  <thead>\n",
       "    <tr style=\"text-align: right;\">\n",
       "      <th></th>\n",
       "      <th>Class</th>\n",
       "      <th>Year</th>\n",
       "      <th>Price</th>\n",
       "      <th>Location</th>\n",
       "    </tr>\n",
       "  </thead>\n",
       "  <tbody>\n",
       "    <tr>\n",
       "      <th>C01</th>\n",
       "      <td>IoT</td>\n",
       "      <td>2018</td>\n",
       "      <td>100</td>\n",
       "      <td>Korea</td>\n",
       "    </tr>\n",
       "    <tr>\n",
       "      <th>C02</th>\n",
       "      <td>Network</td>\n",
       "      <td>2017</td>\n",
       "      <td>125</td>\n",
       "      <td>Korea</td>\n",
       "    </tr>\n",
       "    <tr>\n",
       "      <th>C03</th>\n",
       "      <td>Economy</td>\n",
       "      <td>2018</td>\n",
       "      <td>132</td>\n",
       "      <td>Korea</td>\n",
       "    </tr>\n",
       "    <tr>\n",
       "      <th>C04</th>\n",
       "      <td>Big Data</td>\n",
       "      <td>2018</td>\n",
       "      <td>312</td>\n",
       "      <td>US</td>\n",
       "    </tr>\n",
       "    <tr>\n",
       "      <th>C05</th>\n",
       "      <td>Cloud</td>\n",
       "      <td>2019</td>\n",
       "      <td>250</td>\n",
       "      <td>Korea</td>\n",
       "    </tr>\n",
       "  </tbody>\n",
       "</table>\n",
       "</div>"
      ],
      "text/plain": [
       "        Class  Year  Price Location\n",
       "C01       IoT  2018    100    Korea\n",
       "C02   Network  2017    125    Korea\n",
       "C03   Economy  2018    132    Korea\n",
       "C04  Big Data  2018    312       US\n",
       "C05     Cloud  2019    250    Korea"
      ]
     },
     "execution_count": 38,
     "metadata": {},
     "output_type": "execute_result"
    }
   ],
   "source": [
    "# 테스트 데이터프레임 생성\n",
    "df4 = DataFrame({'Class': ['IoT','Network', 'Economy','Big Data', 'Cloud'],\n",
    "                       'Year': [2018, 2017, 2018, 2018, 2019],\n",
    "                       'Price': [100, 125, 132, 312, 250],\n",
    "                       'Location': ['Korea','Korea', 'Korea', 'US','Korea']},\n",
    "                      index=['C01','C02','C03', 'C04', 'C05'])\n",
    "df4"
   ]
  },
  {
   "cell_type": "markdown",
   "metadata": {},
   "source": [
    "__Q)__\n",
    "\n",
    "- df4['Class'] => `Series` 형태로 return\n",
    "\n",
    "- df4[['Class']] => `DataFrame` 형태로 return"
   ]
  },
  {
   "cell_type": "code",
   "execution_count": 39,
   "metadata": {
    "colab": {
     "base_uri": "https://localhost:8080/"
    },
    "executionInfo": {
     "elapsed": 303,
     "status": "ok",
     "timestamp": 1656484918119,
     "user": {
      "displayName": "김주의(문과대학 문헌정보학)",
      "userId": "12730534296048251803"
     },
     "user_tz": -540
    },
    "id": "zf2pbzji4EIl",
    "outputId": "8b5046a0-b6d9-45df-a8c7-5fcddb3c4ecc"
   },
   "outputs": [
    {
     "data": {
      "text/plain": [
       "C01         IoT\n",
       "C02     Network\n",
       "C03     Economy\n",
       "C04    Big Data\n",
       "C05       Cloud\n",
       "Name: Class, dtype: object"
      ]
     },
     "execution_count": 39,
     "metadata": {},
     "output_type": "execute_result"
    }
   ],
   "source": [
    "# 1. 원하는 열(컬럼)만 조회하기\n",
    "# 1-1) Class만 조회하기\n",
    "df4['Class']\n",
    "#Series 형태"
   ]
  },
  {
   "cell_type": "code",
   "execution_count": 40,
   "metadata": {
    "colab": {
     "base_uri": "https://localhost:8080/",
     "height": 206
    },
    "executionInfo": {
     "elapsed": 311,
     "status": "ok",
     "timestamp": 1656485011013,
     "user": {
      "displayName": "김주의(문과대학 문헌정보학)",
      "userId": "12730534296048251803"
     },
     "user_tz": -540
    },
    "id": "6HmlPFc7MyWV",
    "outputId": "f58766bc-7e5d-43d8-fa9e-fa03de9ca925"
   },
   "outputs": [
    {
     "data": {
      "text/html": [
       "<div>\n",
       "<style scoped>\n",
       "    .dataframe tbody tr th:only-of-type {\n",
       "        vertical-align: middle;\n",
       "    }\n",
       "\n",
       "    .dataframe tbody tr th {\n",
       "        vertical-align: top;\n",
       "    }\n",
       "\n",
       "    .dataframe thead th {\n",
       "        text-align: right;\n",
       "    }\n",
       "</style>\n",
       "<table border=\"1\" class=\"dataframe\">\n",
       "  <thead>\n",
       "    <tr style=\"text-align: right;\">\n",
       "      <th></th>\n",
       "      <th>Class</th>\n",
       "    </tr>\n",
       "  </thead>\n",
       "  <tbody>\n",
       "    <tr>\n",
       "      <th>C01</th>\n",
       "      <td>IoT</td>\n",
       "    </tr>\n",
       "    <tr>\n",
       "      <th>C02</th>\n",
       "      <td>Network</td>\n",
       "    </tr>\n",
       "    <tr>\n",
       "      <th>C03</th>\n",
       "      <td>Economy</td>\n",
       "    </tr>\n",
       "    <tr>\n",
       "      <th>C04</th>\n",
       "      <td>Big Data</td>\n",
       "    </tr>\n",
       "    <tr>\n",
       "      <th>C05</th>\n",
       "      <td>Cloud</td>\n",
       "    </tr>\n",
       "  </tbody>\n",
       "</table>\n",
       "</div>"
      ],
      "text/plain": [
       "        Class\n",
       "C01       IoT\n",
       "C02   Network\n",
       "C03   Economy\n",
       "C04  Big Data\n",
       "C05     Cloud"
      ]
     },
     "execution_count": 40,
     "metadata": {},
     "output_type": "execute_result"
    }
   ],
   "source": [
    "df4[['Class']] #데이터 타입이 다름 \n",
    "#DataFrame"
   ]
  },
  {
   "cell_type": "code",
   "execution_count": 41,
   "metadata": {
    "colab": {
     "base_uri": "https://localhost:8080/"
    },
    "executionInfo": {
     "elapsed": 14,
     "status": "ok",
     "timestamp": 1656484945013,
     "user": {
      "displayName": "김주의(문과대학 문헌정보학)",
      "userId": "12730534296048251803"
     },
     "user_tz": -540
    },
    "id": "qfsOzqUxMj7I",
    "outputId": "3033ad87-044d-4ba1-e226-a841d15e6bca"
   },
   "outputs": [
    {
     "data": {
      "text/plain": [
       "C01         IoT\n",
       "C02     Network\n",
       "C03     Economy\n",
       "C04    Big Data\n",
       "C05       Cloud\n",
       "Name: Class, dtype: object"
      ]
     },
     "execution_count": 41,
     "metadata": {},
     "output_type": "execute_result"
    }
   ],
   "source": [
    "df4.Class\n",
    "#column명이 공백이 있는 경우 등에는 이런 식으로 column 추출 불가능"
   ]
  },
  {
   "cell_type": "code",
   "execution_count": 42,
   "metadata": {
    "colab": {
     "base_uri": "https://localhost:8080/",
     "height": 206
    },
    "executionInfo": {
     "elapsed": 296,
     "status": "ok",
     "timestamp": 1656485113793,
     "user": {
      "displayName": "김주의(문과대학 문헌정보학)",
      "userId": "12730534296048251803"
     },
     "user_tz": -540
    },
    "id": "OysoLADy4EIo",
    "outputId": "c8427a2a-e3d8-4ac5-d679-6dfca99de6f7"
   },
   "outputs": [
    {
     "data": {
      "text/html": [
       "<div>\n",
       "<style scoped>\n",
       "    .dataframe tbody tr th:only-of-type {\n",
       "        vertical-align: middle;\n",
       "    }\n",
       "\n",
       "    .dataframe tbody tr th {\n",
       "        vertical-align: top;\n",
       "    }\n",
       "\n",
       "    .dataframe thead th {\n",
       "        text-align: right;\n",
       "    }\n",
       "</style>\n",
       "<table border=\"1\" class=\"dataframe\">\n",
       "  <thead>\n",
       "    <tr style=\"text-align: right;\">\n",
       "      <th></th>\n",
       "      <th>Class</th>\n",
       "      <th>Price</th>\n",
       "    </tr>\n",
       "  </thead>\n",
       "  <tbody>\n",
       "    <tr>\n",
       "      <th>C01</th>\n",
       "      <td>IoT</td>\n",
       "      <td>100</td>\n",
       "    </tr>\n",
       "    <tr>\n",
       "      <th>C02</th>\n",
       "      <td>Network</td>\n",
       "      <td>125</td>\n",
       "    </tr>\n",
       "    <tr>\n",
       "      <th>C03</th>\n",
       "      <td>Economy</td>\n",
       "      <td>132</td>\n",
       "    </tr>\n",
       "    <tr>\n",
       "      <th>C04</th>\n",
       "      <td>Big Data</td>\n",
       "      <td>312</td>\n",
       "    </tr>\n",
       "    <tr>\n",
       "      <th>C05</th>\n",
       "      <td>Cloud</td>\n",
       "      <td>250</td>\n",
       "    </tr>\n",
       "  </tbody>\n",
       "</table>\n",
       "</div>"
      ],
      "text/plain": [
       "        Class  Price\n",
       "C01       IoT    100\n",
       "C02   Network    125\n",
       "C03   Economy    132\n",
       "C04  Big Data    312\n",
       "C05     Cloud    250"
      ]
     },
     "execution_count": 42,
     "metadata": {},
     "output_type": "execute_result"
    }
   ],
   "source": [
    "# 1-2) Class와 Price 조회하기\n",
    "#1-1에서 배웠듯이 두 개 이상의 cloumn을 보여주고 싶은 경우 list로 묶어주기\n",
    "df4[['Class', 'Price']]"
   ]
  },
  {
   "cell_type": "code",
   "execution_count": 43,
   "metadata": {
    "colab": {
     "base_uri": "https://localhost:8080/",
     "height": 535
    },
    "executionInfo": {
     "elapsed": 9,
     "status": "error",
     "timestamp": 1656485159893,
     "user": {
      "displayName": "김주의(문과대학 문헌정보학)",
      "userId": "12730534296048251803"
     },
     "user_tz": -540
    },
    "id": "X6Md1Wnm4EJR",
    "outputId": "385bfdd7-aa2a-442a-e410-ad2a7bcb5bd8"
   },
   "outputs": [
    {
     "ename": "KeyError",
     "evalue": "'C03'",
     "output_type": "error",
     "traceback": [
      "\u001b[1;31m---------------------------------------------------------------------------\u001b[0m",
      "\u001b[1;31mKeyError\u001b[0m                                  Traceback (most recent call last)",
      "\u001b[1;32mC:\\ProgramData\\Anaconda3\\lib\\site-packages\\pandas\\core\\indexes\\base.py\u001b[0m in \u001b[0;36mget_loc\u001b[1;34m(self, key, method, tolerance)\u001b[0m\n\u001b[0;32m   3360\u001b[0m             \u001b[1;32mtry\u001b[0m\u001b[1;33m:\u001b[0m\u001b[1;33m\u001b[0m\u001b[1;33m\u001b[0m\u001b[0m\n\u001b[1;32m-> 3361\u001b[1;33m                 \u001b[1;32mreturn\u001b[0m \u001b[0mself\u001b[0m\u001b[1;33m.\u001b[0m\u001b[0m_engine\u001b[0m\u001b[1;33m.\u001b[0m\u001b[0mget_loc\u001b[0m\u001b[1;33m(\u001b[0m\u001b[0mcasted_key\u001b[0m\u001b[1;33m)\u001b[0m\u001b[1;33m\u001b[0m\u001b[1;33m\u001b[0m\u001b[0m\n\u001b[0m\u001b[0;32m   3362\u001b[0m             \u001b[1;32mexcept\u001b[0m \u001b[0mKeyError\u001b[0m \u001b[1;32mas\u001b[0m \u001b[0merr\u001b[0m\u001b[1;33m:\u001b[0m\u001b[1;33m\u001b[0m\u001b[1;33m\u001b[0m\u001b[0m\n",
      "\u001b[1;32mC:\\ProgramData\\Anaconda3\\lib\\site-packages\\pandas\\_libs\\index.pyx\u001b[0m in \u001b[0;36mpandas._libs.index.IndexEngine.get_loc\u001b[1;34m()\u001b[0m\n",
      "\u001b[1;32mC:\\ProgramData\\Anaconda3\\lib\\site-packages\\pandas\\_libs\\index.pyx\u001b[0m in \u001b[0;36mpandas._libs.index.IndexEngine.get_loc\u001b[1;34m()\u001b[0m\n",
      "\u001b[1;32mpandas\\_libs\\hashtable_class_helper.pxi\u001b[0m in \u001b[0;36mpandas._libs.hashtable.PyObjectHashTable.get_item\u001b[1;34m()\u001b[0m\n",
      "\u001b[1;32mpandas\\_libs\\hashtable_class_helper.pxi\u001b[0m in \u001b[0;36mpandas._libs.hashtable.PyObjectHashTable.get_item\u001b[1;34m()\u001b[0m\n",
      "\u001b[1;31mKeyError\u001b[0m: 'C03'",
      "\nThe above exception was the direct cause of the following exception:\n",
      "\u001b[1;31mKeyError\u001b[0m                                  Traceback (most recent call last)",
      "\u001b[1;32m~\\AppData\\Local\\Temp/ipykernel_8188/3079105620.py\u001b[0m in \u001b[0;36m<module>\u001b[1;34m\u001b[0m\n\u001b[0;32m      1\u001b[0m \u001b[1;31m# 2. 원하는 행(row)만 조회하기\u001b[0m\u001b[1;33m\u001b[0m\u001b[1;33m\u001b[0m\u001b[0m\n\u001b[1;32m----> 2\u001b[1;33m \u001b[0mdf4\u001b[0m\u001b[1;33m[\u001b[0m\u001b[1;34m'C03'\u001b[0m\u001b[1;33m]\u001b[0m\u001b[1;33m\u001b[0m\u001b[1;33m\u001b[0m\u001b[0m\n\u001b[0m\u001b[0;32m      3\u001b[0m \u001b[1;31m#C03이라는 column을 찾는 구문, 해당 column이 존재하지 않아 KeyError\u001b[0m\u001b[1;33m\u001b[0m\u001b[1;33m\u001b[0m\u001b[0m\n",
      "\u001b[1;32mC:\\ProgramData\\Anaconda3\\lib\\site-packages\\pandas\\core\\frame.py\u001b[0m in \u001b[0;36m__getitem__\u001b[1;34m(self, key)\u001b[0m\n\u001b[0;32m   3456\u001b[0m             \u001b[1;32mif\u001b[0m \u001b[0mself\u001b[0m\u001b[1;33m.\u001b[0m\u001b[0mcolumns\u001b[0m\u001b[1;33m.\u001b[0m\u001b[0mnlevels\u001b[0m \u001b[1;33m>\u001b[0m \u001b[1;36m1\u001b[0m\u001b[1;33m:\u001b[0m\u001b[1;33m\u001b[0m\u001b[1;33m\u001b[0m\u001b[0m\n\u001b[0;32m   3457\u001b[0m                 \u001b[1;32mreturn\u001b[0m \u001b[0mself\u001b[0m\u001b[1;33m.\u001b[0m\u001b[0m_getitem_multilevel\u001b[0m\u001b[1;33m(\u001b[0m\u001b[0mkey\u001b[0m\u001b[1;33m)\u001b[0m\u001b[1;33m\u001b[0m\u001b[1;33m\u001b[0m\u001b[0m\n\u001b[1;32m-> 3458\u001b[1;33m             \u001b[0mindexer\u001b[0m \u001b[1;33m=\u001b[0m \u001b[0mself\u001b[0m\u001b[1;33m.\u001b[0m\u001b[0mcolumns\u001b[0m\u001b[1;33m.\u001b[0m\u001b[0mget_loc\u001b[0m\u001b[1;33m(\u001b[0m\u001b[0mkey\u001b[0m\u001b[1;33m)\u001b[0m\u001b[1;33m\u001b[0m\u001b[1;33m\u001b[0m\u001b[0m\n\u001b[0m\u001b[0;32m   3459\u001b[0m             \u001b[1;32mif\u001b[0m \u001b[0mis_integer\u001b[0m\u001b[1;33m(\u001b[0m\u001b[0mindexer\u001b[0m\u001b[1;33m)\u001b[0m\u001b[1;33m:\u001b[0m\u001b[1;33m\u001b[0m\u001b[1;33m\u001b[0m\u001b[0m\n\u001b[0;32m   3460\u001b[0m                 \u001b[0mindexer\u001b[0m \u001b[1;33m=\u001b[0m \u001b[1;33m[\u001b[0m\u001b[0mindexer\u001b[0m\u001b[1;33m]\u001b[0m\u001b[1;33m\u001b[0m\u001b[1;33m\u001b[0m\u001b[0m\n",
      "\u001b[1;32mC:\\ProgramData\\Anaconda3\\lib\\site-packages\\pandas\\core\\indexes\\base.py\u001b[0m in \u001b[0;36mget_loc\u001b[1;34m(self, key, method, tolerance)\u001b[0m\n\u001b[0;32m   3361\u001b[0m                 \u001b[1;32mreturn\u001b[0m \u001b[0mself\u001b[0m\u001b[1;33m.\u001b[0m\u001b[0m_engine\u001b[0m\u001b[1;33m.\u001b[0m\u001b[0mget_loc\u001b[0m\u001b[1;33m(\u001b[0m\u001b[0mcasted_key\u001b[0m\u001b[1;33m)\u001b[0m\u001b[1;33m\u001b[0m\u001b[1;33m\u001b[0m\u001b[0m\n\u001b[0;32m   3362\u001b[0m             \u001b[1;32mexcept\u001b[0m \u001b[0mKeyError\u001b[0m \u001b[1;32mas\u001b[0m \u001b[0merr\u001b[0m\u001b[1;33m:\u001b[0m\u001b[1;33m\u001b[0m\u001b[1;33m\u001b[0m\u001b[0m\n\u001b[1;32m-> 3363\u001b[1;33m                 \u001b[1;32mraise\u001b[0m \u001b[0mKeyError\u001b[0m\u001b[1;33m(\u001b[0m\u001b[0mkey\u001b[0m\u001b[1;33m)\u001b[0m \u001b[1;32mfrom\u001b[0m \u001b[0merr\u001b[0m\u001b[1;33m\u001b[0m\u001b[1;33m\u001b[0m\u001b[0m\n\u001b[0m\u001b[0;32m   3364\u001b[0m \u001b[1;33m\u001b[0m\u001b[0m\n\u001b[0;32m   3365\u001b[0m         \u001b[1;32mif\u001b[0m \u001b[0mis_scalar\u001b[0m\u001b[1;33m(\u001b[0m\u001b[0mkey\u001b[0m\u001b[1;33m)\u001b[0m \u001b[1;32mand\u001b[0m \u001b[0misna\u001b[0m\u001b[1;33m(\u001b[0m\u001b[0mkey\u001b[0m\u001b[1;33m)\u001b[0m \u001b[1;32mand\u001b[0m \u001b[1;32mnot\u001b[0m \u001b[0mself\u001b[0m\u001b[1;33m.\u001b[0m\u001b[0mhasnans\u001b[0m\u001b[1;33m:\u001b[0m\u001b[1;33m\u001b[0m\u001b[1;33m\u001b[0m\u001b[0m\n",
      "\u001b[1;31mKeyError\u001b[0m: 'C03'"
     ]
    }
   ],
   "source": [
    "# 2. 원하는 행(row)만 조회하기 \n",
    "df4['C03']\n",
    "#C03이라는 column을 찾는 구문, 해당 column이 존재하지 않아 KeyError"
   ]
  },
  {
   "cell_type": "code",
   "execution_count": 44,
   "metadata": {
    "colab": {
     "base_uri": "https://localhost:8080/",
     "height": 138
    },
    "executionInfo": {
     "elapsed": 18,
     "status": "error",
     "timestamp": 1656485205611,
     "user": {
      "displayName": "김주의(문과대학 문헌정보학)",
      "userId": "12730534296048251803"
     },
     "user_tz": -540
    },
    "id": "8pfb02BQ4EJh",
    "outputId": "8fbd1f28-267e-4815-c93d-90684847187d",
    "scrolled": true
   },
   "outputs": [
    {
     "ename": "SyntaxError",
     "evalue": "invalid syntax (Temp/ipykernel_8188/3939387857.py, line 1)",
     "output_type": "error",
     "traceback": [
      "\u001b[1;36m  File \u001b[1;32m\"C:\\Users\\cathy\\AppData\\Local\\Temp/ipykernel_8188/3939387857.py\"\u001b[1;36m, line \u001b[1;32m1\u001b[0m\n\u001b[1;33m    df4['C03', axis=0]\u001b[0m\n\u001b[1;37m                   ^\u001b[0m\n\u001b[1;31mSyntaxError\u001b[0m\u001b[1;31m:\u001b[0m invalid syntax\n"
     ]
    }
   ],
   "source": [
    "df4['C03', axis=0] \n",
    "#index []은 함수가 아님, 인자를 전달하는 것은 함수만 가능"
   ]
  },
  {
   "cell_type": "code",
   "execution_count": 45,
   "metadata": {
    "colab": {
     "base_uri": "https://localhost:8080/"
    },
    "executionInfo": {
     "elapsed": 323,
     "status": "ok",
     "timestamp": 1656485223507,
     "user": {
      "displayName": "김주의(문과대학 문헌정보학)",
      "userId": "12730534296048251803"
     },
     "user_tz": -540
    },
    "id": "qgZC-yeW4EJi",
    "outputId": "1107ebc7-17ab-4b75-9528-7205a100c87a"
   },
   "outputs": [
    {
     "data": {
      "text/plain": [
       "Class       Economy\n",
       "Year           2018\n",
       "Price           132\n",
       "Location      Korea\n",
       "Name: C03, dtype: object"
      ]
     },
     "execution_count": 45,
     "metadata": {},
     "output_type": "execute_result"
    }
   ],
   "source": [
    "df4.loc['C03']"
   ]
  },
  {
   "cell_type": "code",
   "execution_count": 46,
   "metadata": {
    "colab": {
     "base_uri": "https://localhost:8080/",
     "height": 81
    },
    "executionInfo": {
     "elapsed": 321,
     "status": "ok",
     "timestamp": 1656485268286,
     "user": {
      "displayName": "김주의(문과대학 문헌정보학)",
      "userId": "12730534296048251803"
     },
     "user_tz": -540
    },
    "id": "fv_KPTYMNyoT",
    "outputId": "d851e7ff-651e-4482-e5a1-d29a3336c179"
   },
   "outputs": [
    {
     "data": {
      "text/html": [
       "<div>\n",
       "<style scoped>\n",
       "    .dataframe tbody tr th:only-of-type {\n",
       "        vertical-align: middle;\n",
       "    }\n",
       "\n",
       "    .dataframe tbody tr th {\n",
       "        vertical-align: top;\n",
       "    }\n",
       "\n",
       "    .dataframe thead th {\n",
       "        text-align: right;\n",
       "    }\n",
       "</style>\n",
       "<table border=\"1\" class=\"dataframe\">\n",
       "  <thead>\n",
       "    <tr style=\"text-align: right;\">\n",
       "      <th></th>\n",
       "      <th>Class</th>\n",
       "      <th>Year</th>\n",
       "      <th>Price</th>\n",
       "      <th>Location</th>\n",
       "    </tr>\n",
       "  </thead>\n",
       "  <tbody>\n",
       "    <tr>\n",
       "      <th>C03</th>\n",
       "      <td>Economy</td>\n",
       "      <td>2018</td>\n",
       "      <td>132</td>\n",
       "      <td>Korea</td>\n",
       "    </tr>\n",
       "  </tbody>\n",
       "</table>\n",
       "</div>"
      ],
      "text/plain": [
       "       Class  Year  Price Location\n",
       "C03  Economy  2018    132    Korea"
      ]
     },
     "execution_count": 46,
     "metadata": {},
     "output_type": "execute_result"
    }
   ],
   "source": [
    "df4.loc[['C03']]"
   ]
  },
  {
   "cell_type": "code",
   "execution_count": 47,
   "metadata": {
    "colab": {
     "base_uri": "https://localhost:8080/"
    },
    "executionInfo": {
     "elapsed": 9,
     "status": "ok",
     "timestamp": 1656485322404,
     "user": {
      "displayName": "김주의(문과대학 문헌정보학)",
      "userId": "12730534296048251803"
     },
     "user_tz": -540
    },
    "id": "04t8zIISN2ad",
    "outputId": "24366f46-0db1-4f43-f04c-f7c8b9f3626f"
   },
   "outputs": [
    {
     "data": {
      "text/plain": [
       "Class       Economy\n",
       "Year           2018\n",
       "Price           132\n",
       "Location      Korea\n",
       "Name: C03, dtype: object"
      ]
     },
     "execution_count": 47,
     "metadata": {},
     "output_type": "execute_result"
    }
   ],
   "source": [
    "#숫자 인덱스로 조회\n",
    "#integer location\n",
    "df4.iloc[2]"
   ]
  },
  {
   "cell_type": "code",
   "execution_count": 48,
   "metadata": {
    "colab": {
     "base_uri": "https://localhost:8080/",
     "height": 144
    },
    "executionInfo": {
     "elapsed": 26,
     "status": "ok",
     "timestamp": 1656485392381,
     "user": {
      "displayName": "김주의(문과대학 문헌정보학)",
      "userId": "12730534296048251803"
     },
     "user_tz": -540
    },
    "id": "3hYm41V04EJj",
    "outputId": "2b24d741-e708-4222-a9df-ad3b7710448b"
   },
   "outputs": [
    {
     "data": {
      "text/html": [
       "<div>\n",
       "<style scoped>\n",
       "    .dataframe tbody tr th:only-of-type {\n",
       "        vertical-align: middle;\n",
       "    }\n",
       "\n",
       "    .dataframe tbody tr th {\n",
       "        vertical-align: top;\n",
       "    }\n",
       "\n",
       "    .dataframe thead th {\n",
       "        text-align: right;\n",
       "    }\n",
       "</style>\n",
       "<table border=\"1\" class=\"dataframe\">\n",
       "  <thead>\n",
       "    <tr style=\"text-align: right;\">\n",
       "      <th></th>\n",
       "      <th>Class</th>\n",
       "      <th>Year</th>\n",
       "      <th>Price</th>\n",
       "      <th>Location</th>\n",
       "    </tr>\n",
       "  </thead>\n",
       "  <tbody>\n",
       "    <tr>\n",
       "      <th>C02</th>\n",
       "      <td>Network</td>\n",
       "      <td>2017</td>\n",
       "      <td>125</td>\n",
       "      <td>Korea</td>\n",
       "    </tr>\n",
       "    <tr>\n",
       "      <th>C03</th>\n",
       "      <td>Economy</td>\n",
       "      <td>2018</td>\n",
       "      <td>132</td>\n",
       "      <td>Korea</td>\n",
       "    </tr>\n",
       "    <tr>\n",
       "      <th>C04</th>\n",
       "      <td>Big Data</td>\n",
       "      <td>2018</td>\n",
       "      <td>312</td>\n",
       "      <td>US</td>\n",
       "    </tr>\n",
       "  </tbody>\n",
       "</table>\n",
       "</div>"
      ],
      "text/plain": [
       "        Class  Year  Price Location\n",
       "C02   Network  2017    125    Korea\n",
       "C03   Economy  2018    132    Korea\n",
       "C04  Big Data  2018    312       US"
      ]
     },
     "execution_count": 48,
     "metadata": {},
     "output_type": "execute_result"
    }
   ],
   "source": [
    "# 3. 인덱스 슬라이싱 \n",
    "#C02 ~ C04번까지의 class 선택\n",
    "#1-1에서 배웠듯이 문자 end idx는 끝까지 포함\n",
    "df4.loc['C02':'C04'] "
   ]
  },
  {
   "cell_type": "code",
   "execution_count": 49,
   "metadata": {
    "colab": {
     "base_uri": "https://localhost:8080/",
     "height": 144
    },
    "executionInfo": {
     "elapsed": 306,
     "status": "ok",
     "timestamp": 1656485522311,
     "user": {
      "displayName": "김주의(문과대학 문헌정보학)",
      "userId": "12730534296048251803"
     },
     "user_tz": -540
    },
    "id": "7uY-6xj3OoPE",
    "outputId": "ecb1959a-1e00-4ea7-ab2f-47aae8f07914"
   },
   "outputs": [
    {
     "data": {
      "text/html": [
       "<div>\n",
       "<style scoped>\n",
       "    .dataframe tbody tr th:only-of-type {\n",
       "        vertical-align: middle;\n",
       "    }\n",
       "\n",
       "    .dataframe tbody tr th {\n",
       "        vertical-align: top;\n",
       "    }\n",
       "\n",
       "    .dataframe thead th {\n",
       "        text-align: right;\n",
       "    }\n",
       "</style>\n",
       "<table border=\"1\" class=\"dataframe\">\n",
       "  <thead>\n",
       "    <tr style=\"text-align: right;\">\n",
       "      <th></th>\n",
       "      <th>Class</th>\n",
       "      <th>Year</th>\n",
       "      <th>Price</th>\n",
       "      <th>Location</th>\n",
       "    </tr>\n",
       "  </thead>\n",
       "  <tbody>\n",
       "    <tr>\n",
       "      <th>C02</th>\n",
       "      <td>Network</td>\n",
       "      <td>2017</td>\n",
       "      <td>125</td>\n",
       "      <td>Korea</td>\n",
       "    </tr>\n",
       "    <tr>\n",
       "      <th>C03</th>\n",
       "      <td>Economy</td>\n",
       "      <td>2018</td>\n",
       "      <td>132</td>\n",
       "      <td>Korea</td>\n",
       "    </tr>\n",
       "    <tr>\n",
       "      <th>C04</th>\n",
       "      <td>Big Data</td>\n",
       "      <td>2018</td>\n",
       "      <td>312</td>\n",
       "      <td>US</td>\n",
       "    </tr>\n",
       "  </tbody>\n",
       "</table>\n",
       "</div>"
      ],
      "text/plain": [
       "        Class  Year  Price Location\n",
       "C02   Network  2017    125    Korea\n",
       "C03   Economy  2018    132    Korea\n",
       "C04  Big Data  2018    312       US"
      ]
     },
     "execution_count": 49,
     "metadata": {},
     "output_type": "execute_result"
    }
   ],
   "source": [
    "df4['C02':'C04'] \n",
    "#column은 slicing 불가능하므로, loc 생략해도 index(row) slicing 가능 "
   ]
  },
  {
   "cell_type": "code",
   "execution_count": 50,
   "metadata": {
    "colab": {
     "base_uri": "https://localhost:8080/",
     "height": 144
    },
    "executionInfo": {
     "elapsed": 305,
     "status": "ok",
     "timestamp": 1656485408339,
     "user": {
      "displayName": "김주의(문과대학 문헌정보학)",
      "userId": "12730534296048251803"
     },
     "user_tz": -540
    },
    "id": "VyqsFV3Q4EJl",
    "outputId": "4255863f-ad5b-42da-9ba9-5259b8d6c32a"
   },
   "outputs": [
    {
     "data": {
      "text/html": [
       "<div>\n",
       "<style scoped>\n",
       "    .dataframe tbody tr th:only-of-type {\n",
       "        vertical-align: middle;\n",
       "    }\n",
       "\n",
       "    .dataframe tbody tr th {\n",
       "        vertical-align: top;\n",
       "    }\n",
       "\n",
       "    .dataframe thead th {\n",
       "        text-align: right;\n",
       "    }\n",
       "</style>\n",
       "<table border=\"1\" class=\"dataframe\">\n",
       "  <thead>\n",
       "    <tr style=\"text-align: right;\">\n",
       "      <th></th>\n",
       "      <th>Class</th>\n",
       "      <th>Year</th>\n",
       "      <th>Price</th>\n",
       "      <th>Location</th>\n",
       "    </tr>\n",
       "  </thead>\n",
       "  <tbody>\n",
       "    <tr>\n",
       "      <th>C02</th>\n",
       "      <td>Network</td>\n",
       "      <td>2017</td>\n",
       "      <td>125</td>\n",
       "      <td>Korea</td>\n",
       "    </tr>\n",
       "    <tr>\n",
       "      <th>C03</th>\n",
       "      <td>Economy</td>\n",
       "      <td>2018</td>\n",
       "      <td>132</td>\n",
       "      <td>Korea</td>\n",
       "    </tr>\n",
       "    <tr>\n",
       "      <th>C04</th>\n",
       "      <td>Big Data</td>\n",
       "      <td>2018</td>\n",
       "      <td>312</td>\n",
       "      <td>US</td>\n",
       "    </tr>\n",
       "  </tbody>\n",
       "</table>\n",
       "</div>"
      ],
      "text/plain": [
       "        Class  Year  Price Location\n",
       "C02   Network  2017    125    Korea\n",
       "C03   Economy  2018    132    Korea\n",
       "C04  Big Data  2018    312       US"
      ]
     },
     "execution_count": 50,
     "metadata": {},
     "output_type": "execute_result"
    }
   ],
   "source": [
    "df4.iloc[1:4] "
   ]
  },
  {
   "cell_type": "code",
   "execution_count": 51,
   "metadata": {
    "colab": {
     "base_uri": "https://localhost:8080/",
     "height": 112
    },
    "executionInfo": {
     "elapsed": 369,
     "status": "ok",
     "timestamp": 1656485683123,
     "user": {
      "displayName": "김주의(문과대학 문헌정보학)",
      "userId": "12730534296048251803"
     },
     "user_tz": -540
    },
    "id": "wYU1j2BT4EJl",
    "outputId": "43f98a33-3a5b-46fc-8811-988ada83094a",
    "scrolled": true
   },
   "outputs": [
    {
     "data": {
      "text/html": [
       "<div>\n",
       "<style scoped>\n",
       "    .dataframe tbody tr th:only-of-type {\n",
       "        vertical-align: middle;\n",
       "    }\n",
       "\n",
       "    .dataframe tbody tr th {\n",
       "        vertical-align: top;\n",
       "    }\n",
       "\n",
       "    .dataframe thead th {\n",
       "        text-align: right;\n",
       "    }\n",
       "</style>\n",
       "<table border=\"1\" class=\"dataframe\">\n",
       "  <thead>\n",
       "    <tr style=\"text-align: right;\">\n",
       "      <th></th>\n",
       "      <th>Class</th>\n",
       "      <th>Year</th>\n",
       "    </tr>\n",
       "  </thead>\n",
       "  <tbody>\n",
       "    <tr>\n",
       "      <th>C02</th>\n",
       "      <td>Network</td>\n",
       "      <td>2017</td>\n",
       "    </tr>\n",
       "    <tr>\n",
       "      <th>C03</th>\n",
       "      <td>Economy</td>\n",
       "      <td>2018</td>\n",
       "    </tr>\n",
       "  </tbody>\n",
       "</table>\n",
       "</div>"
      ],
      "text/plain": [
       "       Class  Year\n",
       "C02  Network  2017\n",
       "C03  Economy  2018"
      ]
     },
     "execution_count": 51,
     "metadata": {},
     "output_type": "execute_result"
    }
   ],
   "source": [
    "# 4. 원하는 행과 열을 선택하여 조회하기 \n",
    "# C02, C03 강의의 Class와 Year만 조회\n",
    "# 1. column 선택 -> row 선택\n",
    "df4[['Class', 'Year']].loc[['C02', 'C03']]\n",
    "#df4[['Class', 'Year']].loc[['C02':'C03']]\n",
    "#df4[['Class', 'Year']][['C02', 'C03']]"
   ]
  },
  {
   "cell_type": "code",
   "execution_count": 52,
   "metadata": {
    "colab": {
     "base_uri": "https://localhost:8080/",
     "height": 112
    },
    "executionInfo": {
     "elapsed": 306,
     "status": "ok",
     "timestamp": 1656485872277,
     "user": {
      "displayName": "김주의(문과대학 문헌정보학)",
      "userId": "12730534296048251803"
     },
     "user_tz": -540
    },
    "id": "XjbWG3s1P8Ad",
    "outputId": "d66f195d-2073-46b8-aa09-f85e56ced486"
   },
   "outputs": [
    {
     "data": {
      "text/html": [
       "<div>\n",
       "<style scoped>\n",
       "    .dataframe tbody tr th:only-of-type {\n",
       "        vertical-align: middle;\n",
       "    }\n",
       "\n",
       "    .dataframe tbody tr th {\n",
       "        vertical-align: top;\n",
       "    }\n",
       "\n",
       "    .dataframe thead th {\n",
       "        text-align: right;\n",
       "    }\n",
       "</style>\n",
       "<table border=\"1\" class=\"dataframe\">\n",
       "  <thead>\n",
       "    <tr style=\"text-align: right;\">\n",
       "      <th></th>\n",
       "      <th>Class</th>\n",
       "      <th>Year</th>\n",
       "    </tr>\n",
       "  </thead>\n",
       "  <tbody>\n",
       "    <tr>\n",
       "      <th>C02</th>\n",
       "      <td>Network</td>\n",
       "      <td>2017</td>\n",
       "    </tr>\n",
       "    <tr>\n",
       "      <th>C03</th>\n",
       "      <td>Economy</td>\n",
       "      <td>2018</td>\n",
       "    </tr>\n",
       "  </tbody>\n",
       "</table>\n",
       "</div>"
      ],
      "text/plain": [
       "       Class  Year\n",
       "C02  Network  2017\n",
       "C03  Economy  2018"
      ]
     },
     "execution_count": 52,
     "metadata": {},
     "output_type": "execute_result"
    }
   ],
   "source": [
    "#2. row 선택 -> column 선택\n",
    "df4.loc[['C02', 'C03']][['Class', 'Year']]"
   ]
  },
  {
   "cell_type": "code",
   "execution_count": 53,
   "metadata": {
    "colab": {
     "base_uri": "https://localhost:8080/",
     "height": 112
    },
    "executionInfo": {
     "elapsed": 291,
     "status": "ok",
     "timestamp": 1656485897922,
     "user": {
      "displayName": "김주의(문과대학 문헌정보학)",
      "userId": "12730534296048251803"
     },
     "user_tz": -540
    },
    "id": "wRfl91wePrCj",
    "outputId": "e9fa72b1-72f9-477a-db9d-cf59fb6e287f"
   },
   "outputs": [
    {
     "data": {
      "text/html": [
       "<div>\n",
       "<style scoped>\n",
       "    .dataframe tbody tr th:only-of-type {\n",
       "        vertical-align: middle;\n",
       "    }\n",
       "\n",
       "    .dataframe tbody tr th {\n",
       "        vertical-align: top;\n",
       "    }\n",
       "\n",
       "    .dataframe thead th {\n",
       "        text-align: right;\n",
       "    }\n",
       "</style>\n",
       "<table border=\"1\" class=\"dataframe\">\n",
       "  <thead>\n",
       "    <tr style=\"text-align: right;\">\n",
       "      <th></th>\n",
       "      <th>Class</th>\n",
       "      <th>Year</th>\n",
       "    </tr>\n",
       "  </thead>\n",
       "  <tbody>\n",
       "    <tr>\n",
       "      <th>C02</th>\n",
       "      <td>Network</td>\n",
       "      <td>2017</td>\n",
       "    </tr>\n",
       "    <tr>\n",
       "      <th>C03</th>\n",
       "      <td>Economy</td>\n",
       "      <td>2018</td>\n",
       "    </tr>\n",
       "  </tbody>\n",
       "</table>\n",
       "</div>"
      ],
      "text/plain": [
       "       Class  Year\n",
       "C02  Network  2017\n",
       "C03  Economy  2018"
      ]
     },
     "execution_count": 53,
     "metadata": {},
     "output_type": "execute_result"
    }
   ],
   "source": [
    "#3. loc[row_idx, col_idx] 3번 방법이 제일 많이 활용됨\n",
    "df4.loc['C02':'C03', ['Class', 'Year']]\n",
    "#df4.loc[['C02', 'C03'], ['Class','Year']]"
   ]
  },
  {
   "cell_type": "code",
   "execution_count": 54,
   "metadata": {
    "colab": {
     "base_uri": "https://localhost:8080/",
     "height": 206
    },
    "executionInfo": {
     "elapsed": 354,
     "status": "ok",
     "timestamp": 1656486145044,
     "user": {
      "displayName": "김주의(문과대학 문헌정보학)",
      "userId": "12730534296048251803"
     },
     "user_tz": -540
    },
    "id": "dB7jdKssO0ah",
    "outputId": "f19599c5-c5d0-483d-c288-65a9a8aec567"
   },
   "outputs": [
    {
     "data": {
      "text/html": [
       "<div>\n",
       "<style scoped>\n",
       "    .dataframe tbody tr th:only-of-type {\n",
       "        vertical-align: middle;\n",
       "    }\n",
       "\n",
       "    .dataframe tbody tr th {\n",
       "        vertical-align: top;\n",
       "    }\n",
       "\n",
       "    .dataframe thead th {\n",
       "        text-align: right;\n",
       "    }\n",
       "</style>\n",
       "<table border=\"1\" class=\"dataframe\">\n",
       "  <thead>\n",
       "    <tr style=\"text-align: right;\">\n",
       "      <th></th>\n",
       "      <th>Class</th>\n",
       "      <th>Year</th>\n",
       "      <th>Price</th>\n",
       "    </tr>\n",
       "  </thead>\n",
       "  <tbody>\n",
       "    <tr>\n",
       "      <th>C01</th>\n",
       "      <td>IoT</td>\n",
       "      <td>2018</td>\n",
       "      <td>100</td>\n",
       "    </tr>\n",
       "    <tr>\n",
       "      <th>C02</th>\n",
       "      <td>Network</td>\n",
       "      <td>2017</td>\n",
       "      <td>125</td>\n",
       "    </tr>\n",
       "    <tr>\n",
       "      <th>C03</th>\n",
       "      <td>Economy</td>\n",
       "      <td>2018</td>\n",
       "      <td>132</td>\n",
       "    </tr>\n",
       "    <tr>\n",
       "      <th>C04</th>\n",
       "      <td>Big Data</td>\n",
       "      <td>2018</td>\n",
       "      <td>312</td>\n",
       "    </tr>\n",
       "    <tr>\n",
       "      <th>C05</th>\n",
       "      <td>Cloud</td>\n",
       "      <td>2019</td>\n",
       "      <td>250</td>\n",
       "    </tr>\n",
       "  </tbody>\n",
       "</table>\n",
       "</div>"
      ],
      "text/plain": [
       "        Class  Year  Price\n",
       "C01       IoT  2018    100\n",
       "C02   Network  2017    125\n",
       "C03   Economy  2018    132\n",
       "C04  Big Data  2018    312\n",
       "C05     Cloud  2019    250"
      ]
     },
     "execution_count": 54,
     "metadata": {},
     "output_type": "execute_result"
    }
   ],
   "source": [
    "#Class ~ Price까지의 column 선택\n",
    "# df4['Class':'Price'] (X)!! column은 slicing할 수 없음 df4.loc['Class':'Price'] 와 같은 코드\n",
    "df4.loc[:, 'Class':'Price']"
   ]
  },
  {
   "cell_type": "markdown",
   "metadata": {},
   "source": [
    "__Q) column slicing 안된다면서요..?__\n",
    "질문의 답 아래에"
   ]
  },
  {
   "cell_type": "code",
   "execution_count": 55,
   "metadata": {
    "colab": {
     "base_uri": "https://localhost:8080/"
    },
    "executionInfo": {
     "elapsed": 13,
     "status": "ok",
     "timestamp": 1656486197898,
     "user": {
      "displayName": "김주의(문과대학 문헌정보학)",
      "userId": "12730534296048251803"
     },
     "user_tz": -540
    },
    "id": "D4iI8Tl8RO6o",
    "outputId": "714f07d1-bcc0-4783-a22b-8f1610efb559"
   },
   "outputs": [
    {
     "data": {
      "text/plain": [
       "Class         IoT\n",
       "Year         2018\n",
       "Price         100\n",
       "Location    Korea\n",
       "Name: C01, dtype: object"
      ]
     },
     "execution_count": 55,
     "metadata": {},
     "output_type": "execute_result"
    }
   ],
   "source": [
    "#질문의 답\n",
    "df4.loc['C01']\n",
    "#Series index가 되면서 slicing이 가능해짐"
   ]
  },
  {
   "cell_type": "code",
   "execution_count": 56,
   "metadata": {
    "colab": {
     "base_uri": "https://localhost:8080/",
     "height": 112
    },
    "executionInfo": {
     "elapsed": 598,
     "status": "ok",
     "timestamp": 1656486272563,
     "user": {
      "displayName": "김주의(문과대학 문헌정보학)",
      "userId": "12730534296048251803"
     },
     "user_tz": -540
    },
    "id": "A_jK7u9F4EJo",
    "outputId": "f225189b-4893-45b1-87c2-a4bf1f5f1d65"
   },
   "outputs": [
    {
     "data": {
      "text/html": [
       "<div>\n",
       "<style scoped>\n",
       "    .dataframe tbody tr th:only-of-type {\n",
       "        vertical-align: middle;\n",
       "    }\n",
       "\n",
       "    .dataframe tbody tr th {\n",
       "        vertical-align: top;\n",
       "    }\n",
       "\n",
       "    .dataframe thead th {\n",
       "        text-align: right;\n",
       "    }\n",
       "</style>\n",
       "<table border=\"1\" class=\"dataframe\">\n",
       "  <thead>\n",
       "    <tr style=\"text-align: right;\">\n",
       "      <th></th>\n",
       "      <th>Class</th>\n",
       "      <th>Year</th>\n",
       "      <th>Price</th>\n",
       "      <th>Location</th>\n",
       "    </tr>\n",
       "  </thead>\n",
       "  <tbody>\n",
       "    <tr>\n",
       "      <th>C03</th>\n",
       "      <td>Economy</td>\n",
       "      <td>2018</td>\n",
       "      <td>132</td>\n",
       "      <td>Korea</td>\n",
       "    </tr>\n",
       "    <tr>\n",
       "      <th>C04</th>\n",
       "      <td>Big Data</td>\n",
       "      <td>2018</td>\n",
       "      <td>312</td>\n",
       "      <td>US</td>\n",
       "    </tr>\n",
       "  </tbody>\n",
       "</table>\n",
       "</div>"
      ],
      "text/plain": [
       "        Class  Year  Price Location\n",
       "C03   Economy  2018    132    Korea\n",
       "C04  Big Data  2018    312       US"
      ]
     },
     "execution_count": 56,
     "metadata": {},
     "output_type": "execute_result"
    }
   ],
   "source": [
    "# 5. 조건 색인 \n",
    "df4[[False, False, True, True, False]]"
   ]
  },
  {
   "cell_type": "code",
   "execution_count": 57,
   "metadata": {
    "colab": {
     "base_uri": "https://localhost:8080/",
     "height": 112
    },
    "executionInfo": {
     "elapsed": 356,
     "status": "ok",
     "timestamp": 1656486329169,
     "user": {
      "displayName": "김주의(문과대학 문헌정보학)",
      "userId": "12730534296048251803"
     },
     "user_tz": -540
    },
    "id": "CgQUxe004EJs",
    "outputId": "62923c4b-d496-499d-da8d-84460dd85a7f"
   },
   "outputs": [
    {
     "data": {
      "text/html": [
       "<div>\n",
       "<style scoped>\n",
       "    .dataframe tbody tr th:only-of-type {\n",
       "        vertical-align: middle;\n",
       "    }\n",
       "\n",
       "    .dataframe tbody tr th {\n",
       "        vertical-align: top;\n",
       "    }\n",
       "\n",
       "    .dataframe thead th {\n",
       "        text-align: right;\n",
       "    }\n",
       "</style>\n",
       "<table border=\"1\" class=\"dataframe\">\n",
       "  <thead>\n",
       "    <tr style=\"text-align: right;\">\n",
       "      <th></th>\n",
       "      <th>Class</th>\n",
       "      <th>Year</th>\n",
       "      <th>Price</th>\n",
       "      <th>Location</th>\n",
       "    </tr>\n",
       "  </thead>\n",
       "  <tbody>\n",
       "    <tr>\n",
       "      <th>C04</th>\n",
       "      <td>Big Data</td>\n",
       "      <td>2018</td>\n",
       "      <td>312</td>\n",
       "      <td>US</td>\n",
       "    </tr>\n",
       "    <tr>\n",
       "      <th>C05</th>\n",
       "      <td>Cloud</td>\n",
       "      <td>2019</td>\n",
       "      <td>250</td>\n",
       "      <td>Korea</td>\n",
       "    </tr>\n",
       "  </tbody>\n",
       "</table>\n",
       "</div>"
      ],
      "text/plain": [
       "        Class  Year  Price Location\n",
       "C04  Big Data  2018    312       US\n",
       "C05     Cloud  2019    250    Korea"
      ]
     },
     "execution_count": 57,
     "metadata": {},
     "output_type": "execute_result"
    }
   ],
   "source": [
    "#Price가 200이상인 데이터만 선택\n",
    "df4[df4.Price >= 200]"
   ]
  },
  {
   "cell_type": "code",
   "execution_count": 58,
   "metadata": {
    "colab": {
     "base_uri": "https://localhost:8080/"
    },
    "executionInfo": {
     "elapsed": 344,
     "status": "ok",
     "timestamp": 1656486368987,
     "user": {
      "displayName": "김주의(문과대학 문헌정보학)",
      "userId": "12730534296048251803"
     },
     "user_tz": -540
    },
    "id": "mJSfxSo64EJt",
    "outputId": "5d74d277-f024-4d3d-96a0-c9903e36664a"
   },
   "outputs": [
    {
     "data": {
      "text/plain": [
       "C01    2018\n",
       "C02    2017\n",
       "C03    2018\n",
       "C04    2018\n",
       "C05    2019\n",
       "Name: Year, dtype: int64"
      ]
     },
     "execution_count": 58,
     "metadata": {},
     "output_type": "execute_result"
    }
   ],
   "source": [
    "# 아래 결과들이 출력되도록 코드를 완성하시오.\n",
    "# 실습 1. 'Year' 컬럼만 선택\n",
    "df4['Year']"
   ]
  },
  {
   "cell_type": "code",
   "execution_count": 59,
   "metadata": {
    "colab": {
     "base_uri": "https://localhost:8080/",
     "height": 206
    },
    "executionInfo": {
     "elapsed": 362,
     "status": "ok",
     "timestamp": 1656486380447,
     "user": {
      "displayName": "김주의(문과대학 문헌정보학)",
      "userId": "12730534296048251803"
     },
     "user_tz": -540
    },
    "id": "4D-maxBN4EJu",
    "outputId": "161613f1-da69-4d38-acba-e22665632b12"
   },
   "outputs": [
    {
     "data": {
      "text/html": [
       "<div>\n",
       "<style scoped>\n",
       "    .dataframe tbody tr th:only-of-type {\n",
       "        vertical-align: middle;\n",
       "    }\n",
       "\n",
       "    .dataframe tbody tr th {\n",
       "        vertical-align: top;\n",
       "    }\n",
       "\n",
       "    .dataframe thead th {\n",
       "        text-align: right;\n",
       "    }\n",
       "</style>\n",
       "<table border=\"1\" class=\"dataframe\">\n",
       "  <thead>\n",
       "    <tr style=\"text-align: right;\">\n",
       "      <th></th>\n",
       "      <th>Class</th>\n",
       "      <th>Location</th>\n",
       "    </tr>\n",
       "  </thead>\n",
       "  <tbody>\n",
       "    <tr>\n",
       "      <th>C01</th>\n",
       "      <td>IoT</td>\n",
       "      <td>Korea</td>\n",
       "    </tr>\n",
       "    <tr>\n",
       "      <th>C02</th>\n",
       "      <td>Network</td>\n",
       "      <td>Korea</td>\n",
       "    </tr>\n",
       "    <tr>\n",
       "      <th>C03</th>\n",
       "      <td>Economy</td>\n",
       "      <td>Korea</td>\n",
       "    </tr>\n",
       "    <tr>\n",
       "      <th>C04</th>\n",
       "      <td>Big Data</td>\n",
       "      <td>US</td>\n",
       "    </tr>\n",
       "    <tr>\n",
       "      <th>C05</th>\n",
       "      <td>Cloud</td>\n",
       "      <td>Korea</td>\n",
       "    </tr>\n",
       "  </tbody>\n",
       "</table>\n",
       "</div>"
      ],
      "text/plain": [
       "        Class Location\n",
       "C01       IoT    Korea\n",
       "C02   Network    Korea\n",
       "C03   Economy    Korea\n",
       "C04  Big Data       US\n",
       "C05     Cloud    Korea"
      ]
     },
     "execution_count": 59,
     "metadata": {},
     "output_type": "execute_result"
    }
   ],
   "source": [
    "# 실습 2. 'Class'와 'Location' 컬럼만 선택\n",
    "df4[['Class', 'Location']]"
   ]
  },
  {
   "cell_type": "code",
   "execution_count": 60,
   "metadata": {
    "colab": {
     "base_uri": "https://localhost:8080/",
     "height": 112
    },
    "executionInfo": {
     "elapsed": 349,
     "status": "ok",
     "timestamp": 1656486400435,
     "user": {
      "displayName": "김주의(문과대학 문헌정보학)",
      "userId": "12730534296048251803"
     },
     "user_tz": -540
    },
    "id": "ke_xx7AD4EJw",
    "outputId": "917e48a9-af8b-40bf-f18d-4f5143e41b74"
   },
   "outputs": [
    {
     "data": {
      "text/html": [
       "<div>\n",
       "<style scoped>\n",
       "    .dataframe tbody tr th:only-of-type {\n",
       "        vertical-align: middle;\n",
       "    }\n",
       "\n",
       "    .dataframe tbody tr th {\n",
       "        vertical-align: top;\n",
       "    }\n",
       "\n",
       "    .dataframe thead th {\n",
       "        text-align: right;\n",
       "    }\n",
       "</style>\n",
       "<table border=\"1\" class=\"dataframe\">\n",
       "  <thead>\n",
       "    <tr style=\"text-align: right;\">\n",
       "      <th></th>\n",
       "      <th>Class</th>\n",
       "      <th>Year</th>\n",
       "      <th>Price</th>\n",
       "      <th>Location</th>\n",
       "    </tr>\n",
       "  </thead>\n",
       "  <tbody>\n",
       "    <tr>\n",
       "      <th>C01</th>\n",
       "      <td>IoT</td>\n",
       "      <td>2018</td>\n",
       "      <td>100</td>\n",
       "      <td>Korea</td>\n",
       "    </tr>\n",
       "    <tr>\n",
       "      <th>C03</th>\n",
       "      <td>Economy</td>\n",
       "      <td>2018</td>\n",
       "      <td>132</td>\n",
       "      <td>Korea</td>\n",
       "    </tr>\n",
       "  </tbody>\n",
       "</table>\n",
       "</div>"
      ],
      "text/plain": [
       "       Class  Year  Price Location\n",
       "C01      IoT  2018    100    Korea\n",
       "C03  Economy  2018    132    Korea"
      ]
     },
     "execution_count": 60,
     "metadata": {},
     "output_type": "execute_result"
    }
   ],
   "source": [
    "# 실습 3. C01과 C03 강의의 모든 컬럼 선택\n",
    "df4.loc[['C01', 'C03']]\n",
    "#df4.filter(['C01', 'C03'], axis=0)"
   ]
  },
  {
   "cell_type": "code",
   "execution_count": 61,
   "metadata": {
    "colab": {
     "base_uri": "https://localhost:8080/",
     "height": 144
    },
    "executionInfo": {
     "elapsed": 321,
     "status": "ok",
     "timestamp": 1656486420447,
     "user": {
      "displayName": "김주의(문과대학 문헌정보학)",
      "userId": "12730534296048251803"
     },
     "user_tz": -540
    },
    "id": "tqsEA7Rq4EJ2",
    "outputId": "af093d4b-253d-4e75-84c6-43a413df6851",
    "scrolled": true
   },
   "outputs": [
    {
     "data": {
      "text/html": [
       "<div>\n",
       "<style scoped>\n",
       "    .dataframe tbody tr th:only-of-type {\n",
       "        vertical-align: middle;\n",
       "    }\n",
       "\n",
       "    .dataframe tbody tr th {\n",
       "        vertical-align: top;\n",
       "    }\n",
       "\n",
       "    .dataframe thead th {\n",
       "        text-align: right;\n",
       "    }\n",
       "</style>\n",
       "<table border=\"1\" class=\"dataframe\">\n",
       "  <thead>\n",
       "    <tr style=\"text-align: right;\">\n",
       "      <th></th>\n",
       "      <th>Class</th>\n",
       "      <th>Price</th>\n",
       "    </tr>\n",
       "  </thead>\n",
       "  <tbody>\n",
       "    <tr>\n",
       "      <th>C01</th>\n",
       "      <td>IoT</td>\n",
       "      <td>100</td>\n",
       "    </tr>\n",
       "    <tr>\n",
       "      <th>C02</th>\n",
       "      <td>Network</td>\n",
       "      <td>125</td>\n",
       "    </tr>\n",
       "    <tr>\n",
       "      <th>C03</th>\n",
       "      <td>Economy</td>\n",
       "      <td>132</td>\n",
       "    </tr>\n",
       "  </tbody>\n",
       "</table>\n",
       "</div>"
      ],
      "text/plain": [
       "       Class  Price\n",
       "C01      IoT    100\n",
       "C02  Network    125\n",
       "C03  Economy    132"
      ]
     },
     "execution_count": 61,
     "metadata": {},
     "output_type": "execute_result"
    }
   ],
   "source": [
    "# 실습 4. C01~C03 강의의 Class와 Price만 선택\n",
    "df4.loc['C01':'C03', ['Class', 'Price']]"
   ]
  },
  {
   "cell_type": "code",
   "execution_count": 62,
   "metadata": {
    "colab": {
     "base_uri": "https://localhost:8080/",
     "height": 81
    },
    "executionInfo": {
     "elapsed": 11,
     "status": "ok",
     "timestamp": 1656486444099,
     "user": {
      "displayName": "김주의(문과대학 문헌정보학)",
      "userId": "12730534296048251803"
     },
     "user_tz": -540
    },
    "id": "SIgVGofL4EKa",
    "outputId": "e629fe26-60e9-4d24-fe38-fbd10efa357e"
   },
   "outputs": [
    {
     "data": {
      "text/html": [
       "<div>\n",
       "<style scoped>\n",
       "    .dataframe tbody tr th:only-of-type {\n",
       "        vertical-align: middle;\n",
       "    }\n",
       "\n",
       "    .dataframe tbody tr th {\n",
       "        vertical-align: top;\n",
       "    }\n",
       "\n",
       "    .dataframe thead th {\n",
       "        text-align: right;\n",
       "    }\n",
       "</style>\n",
       "<table border=\"1\" class=\"dataframe\">\n",
       "  <thead>\n",
       "    <tr style=\"text-align: right;\">\n",
       "      <th></th>\n",
       "      <th>Class</th>\n",
       "      <th>Year</th>\n",
       "      <th>Price</th>\n",
       "      <th>Location</th>\n",
       "    </tr>\n",
       "  </thead>\n",
       "  <tbody>\n",
       "    <tr>\n",
       "      <th>C05</th>\n",
       "      <td>Cloud</td>\n",
       "      <td>2019</td>\n",
       "      <td>250</td>\n",
       "      <td>Korea</td>\n",
       "    </tr>\n",
       "  </tbody>\n",
       "</table>\n",
       "</div>"
      ],
      "text/plain": [
       "     Class  Year  Price Location\n",
       "C05  Cloud  2019    250    Korea"
      ]
     },
     "execution_count": 62,
     "metadata": {},
     "output_type": "execute_result"
    }
   ],
   "source": [
    "# 실습 4. 2019년도 강의만 조회\n",
    "df4[df4.Year == 2019]"
   ]
  },
  {
   "cell_type": "code",
   "execution_count": 63,
   "metadata": {
    "colab": {
     "base_uri": "https://localhost:8080/",
     "height": 81
    },
    "executionInfo": {
     "elapsed": 15,
     "status": "ok",
     "timestamp": 1656486613526,
     "user": {
      "displayName": "김주의(문과대학 문헌정보학)",
      "userId": "12730534296048251803"
     },
     "user_tz": -540
    },
    "id": "WnOEJKz64EKb",
    "outputId": "f415cac3-cdf9-42bd-b581-d68433645cea"
   },
   "outputs": [
    {
     "data": {
      "text/html": [
       "<div>\n",
       "<style scoped>\n",
       "    .dataframe tbody tr th:only-of-type {\n",
       "        vertical-align: middle;\n",
       "    }\n",
       "\n",
       "    .dataframe tbody tr th {\n",
       "        vertical-align: top;\n",
       "    }\n",
       "\n",
       "    .dataframe thead th {\n",
       "        text-align: right;\n",
       "    }\n",
       "</style>\n",
       "<table border=\"1\" class=\"dataframe\">\n",
       "  <thead>\n",
       "    <tr style=\"text-align: right;\">\n",
       "      <th></th>\n",
       "      <th>Class</th>\n",
       "      <th>Year</th>\n",
       "      <th>Price</th>\n",
       "      <th>Location</th>\n",
       "    </tr>\n",
       "  </thead>\n",
       "  <tbody>\n",
       "    <tr>\n",
       "      <th>C04</th>\n",
       "      <td>Big Data</td>\n",
       "      <td>2018</td>\n",
       "      <td>312</td>\n",
       "      <td>US</td>\n",
       "    </tr>\n",
       "  </tbody>\n",
       "</table>\n",
       "</div>"
      ],
      "text/plain": [
       "        Class  Year  Price Location\n",
       "C04  Big Data  2018    312       US"
      ]
     },
     "execution_count": 63,
     "metadata": {},
     "output_type": "execute_result"
    }
   ],
   "source": [
    "# 실습 5. 가장 가격이 비싼 강의 정보만 조회\n",
    "df4[df4.Price == max(df4.Price)]\n",
    "#df4.Price.max()"
   ]
  },
  {
   "cell_type": "code",
   "execution_count": 64,
   "metadata": {
    "colab": {
     "base_uri": "https://localhost:8080/",
     "height": 81
    },
    "executionInfo": {
     "elapsed": 49,
     "status": "ok",
     "timestamp": 1656488254283,
     "user": {
      "displayName": "김주의(문과대학 문헌정보학)",
      "userId": "12730534296048251803"
     },
     "user_tz": -540
    },
    "id": "9Jh1JPQ2ZK8d",
    "outputId": "8959246e-7c89-4406-dece-73c06dd5e761"
   },
   "outputs": [
    {
     "data": {
      "text/html": [
       "<div>\n",
       "<style scoped>\n",
       "    .dataframe tbody tr th:only-of-type {\n",
       "        vertical-align: middle;\n",
       "    }\n",
       "\n",
       "    .dataframe tbody tr th {\n",
       "        vertical-align: top;\n",
       "    }\n",
       "\n",
       "    .dataframe thead th {\n",
       "        text-align: right;\n",
       "    }\n",
       "</style>\n",
       "<table border=\"1\" class=\"dataframe\">\n",
       "  <thead>\n",
       "    <tr style=\"text-align: right;\">\n",
       "      <th></th>\n",
       "      <th>Class</th>\n",
       "      <th>Year</th>\n",
       "      <th>Price</th>\n",
       "      <th>Location</th>\n",
       "    </tr>\n",
       "  </thead>\n",
       "  <tbody>\n",
       "    <tr>\n",
       "      <th>C04</th>\n",
       "      <td>Big Data</td>\n",
       "      <td>2018</td>\n",
       "      <td>312</td>\n",
       "      <td>US</td>\n",
       "    </tr>\n",
       "  </tbody>\n",
       "</table>\n",
       "</div>"
      ],
      "text/plain": [
       "        Class  Year  Price Location\n",
       "C04  Big Data  2018    312       US"
      ]
     },
     "execution_count": 64,
     "metadata": {},
     "output_type": "execute_result"
    }
   ],
   "source": [
    "df4.nlargest(1, 'Price')\n",
    "#df4.nlargest(n, column)"
   ]
  },
  {
   "cell_type": "code",
   "execution_count": 65,
   "metadata": {
    "colab": {
     "base_uri": "https://localhost:8080/",
     "height": 175
    },
    "executionInfo": {
     "elapsed": 287,
     "status": "ok",
     "timestamp": 1656486499612,
     "user": {
      "displayName": "김주의(문과대학 문헌정보학)",
      "userId": "12730534296048251803"
     },
     "user_tz": -540
    },
    "id": "ubhjyq-j4EKc",
    "outputId": "d9c9d2fa-f28e-4113-c85c-3f1156ca6d65"
   },
   "outputs": [
    {
     "data": {
      "text/html": [
       "<div>\n",
       "<style scoped>\n",
       "    .dataframe tbody tr th:only-of-type {\n",
       "        vertical-align: middle;\n",
       "    }\n",
       "\n",
       "    .dataframe tbody tr th {\n",
       "        vertical-align: top;\n",
       "    }\n",
       "\n",
       "    .dataframe thead th {\n",
       "        text-align: right;\n",
       "    }\n",
       "</style>\n",
       "<table border=\"1\" class=\"dataframe\">\n",
       "  <thead>\n",
       "    <tr style=\"text-align: right;\">\n",
       "      <th></th>\n",
       "      <th>Class</th>\n",
       "      <th>Year</th>\n",
       "      <th>Price</th>\n",
       "      <th>Location</th>\n",
       "    </tr>\n",
       "  </thead>\n",
       "  <tbody>\n",
       "    <tr>\n",
       "      <th>C01</th>\n",
       "      <td>IoT</td>\n",
       "      <td>2018</td>\n",
       "      <td>100</td>\n",
       "      <td>Korea</td>\n",
       "    </tr>\n",
       "    <tr>\n",
       "      <th>C03</th>\n",
       "      <td>Economy</td>\n",
       "      <td>2018</td>\n",
       "      <td>132</td>\n",
       "      <td>Korea</td>\n",
       "    </tr>\n",
       "    <tr>\n",
       "      <th>C04</th>\n",
       "      <td>Big Data</td>\n",
       "      <td>2018</td>\n",
       "      <td>312</td>\n",
       "      <td>US</td>\n",
       "    </tr>\n",
       "    <tr>\n",
       "      <th>C05</th>\n",
       "      <td>Cloud</td>\n",
       "      <td>2019</td>\n",
       "      <td>250</td>\n",
       "      <td>Korea</td>\n",
       "    </tr>\n",
       "  </tbody>\n",
       "</table>\n",
       "</div>"
      ],
      "text/plain": [
       "        Class  Year  Price Location\n",
       "C01       IoT  2018    100    Korea\n",
       "C03   Economy  2018    132    Korea\n",
       "C04  Big Data  2018    312       US\n",
       "C05     Cloud  2019    250    Korea"
      ]
     },
     "execution_count": 65,
     "metadata": {},
     "output_type": "execute_result"
    }
   ],
   "source": [
    "# 실습 6. 2018, 2019년도에 개설된 강의 조회\n",
    "df4[(df4.Year == 2018) | (df4.Year == 2019)]"
   ]
  },
  {
   "cell_type": "code",
   "execution_count": 66,
   "metadata": {
    "colab": {
     "base_uri": "https://localhost:8080/"
    },
    "executionInfo": {
     "elapsed": 305,
     "status": "ok",
     "timestamp": 1656488449577,
     "user": {
      "displayName": "김주의(문과대학 문헌정보학)",
      "userId": "12730534296048251803"
     },
     "user_tz": -540
    },
    "id": "kv1WdPM4Z4Nh",
    "outputId": "ea140034-ad2e-4eee-bba9-f2549763c044"
   },
   "outputs": [
    {
     "data": {
      "text/plain": [
       "C01     True\n",
       "C02    False\n",
       "C03     True\n",
       "C04     True\n",
       "C05     True\n",
       "Name: Year, dtype: bool"
      ]
     },
     "execution_count": 66,
     "metadata": {},
     "output_type": "execute_result"
    }
   ],
   "source": [
    "df4.Year.isin([2018, 2019])"
   ]
  },
  {
   "cell_type": "markdown",
   "metadata": {},
   "source": [
    "__Q)__\n",
    "<br>\n",
    "__in__과 __`DataFrame.isin()`__ 차이 \n",
    "<br>질문의 답 아래에"
   ]
  },
  {
   "cell_type": "code",
   "execution_count": 67,
   "metadata": {
    "id": "71Ji4H25Zm8g"
   },
   "outputs": [],
   "source": [
    "df4[df4.Year.isin([2018, 2019])]\n",
    "sr = Series([5, 10, 15, 20])"
   ]
  },
  {
   "cell_type": "code",
   "execution_count": 68,
   "metadata": {
    "colab": {
     "base_uri": "https://localhost:8080/",
     "height": 306
    },
    "executionInfo": {
     "elapsed": 387,
     "status": "error",
     "timestamp": 1656488782522,
     "user": {
      "displayName": "김주의(문과대학 문헌정보학)",
      "userId": "12730534296048251803"
     },
     "user_tz": -540
    },
    "id": "aNKuYSqLa9-B",
    "outputId": "b5ac60e2-7fd4-4404-912d-963fd77a17bf"
   },
   "outputs": [
    {
     "ename": "ValueError",
     "evalue": "The truth value of a Series is ambiguous. Use a.empty, a.bool(), a.item(), a.any() or a.all().",
     "output_type": "error",
     "traceback": [
      "\u001b[1;31m---------------------------------------------------------------------------\u001b[0m",
      "\u001b[1;31mValueError\u001b[0m                                Traceback (most recent call last)",
      "\u001b[1;32m~\\AppData\\Local\\Temp/ipykernel_8188/2654105465.py\u001b[0m in \u001b[0;36m<module>\u001b[1;34m\u001b[0m\n\u001b[1;32m----> 1\u001b[1;33m \u001b[0msr\u001b[0m \u001b[1;32min\u001b[0m \u001b[1;33m[\u001b[0m\u001b[1;36m10\u001b[0m\u001b[1;33m,\u001b[0m \u001b[1;36m20\u001b[0m\u001b[1;33m,\u001b[0m \u001b[1;36m30\u001b[0m\u001b[1;33m]\u001b[0m\u001b[1;33m\u001b[0m\u001b[1;33m\u001b[0m\u001b[0m\n\u001b[0m",
      "\u001b[1;32mC:\\ProgramData\\Anaconda3\\lib\\site-packages\\pandas\\core\\generic.py\u001b[0m in \u001b[0;36m__nonzero__\u001b[1;34m(self)\u001b[0m\n\u001b[0;32m   1535\u001b[0m     \u001b[1;33m@\u001b[0m\u001b[0mfinal\u001b[0m\u001b[1;33m\u001b[0m\u001b[1;33m\u001b[0m\u001b[0m\n\u001b[0;32m   1536\u001b[0m     \u001b[1;32mdef\u001b[0m \u001b[0m__nonzero__\u001b[0m\u001b[1;33m(\u001b[0m\u001b[0mself\u001b[0m\u001b[1;33m)\u001b[0m\u001b[1;33m:\u001b[0m\u001b[1;33m\u001b[0m\u001b[1;33m\u001b[0m\u001b[0m\n\u001b[1;32m-> 1537\u001b[1;33m         raise ValueError(\n\u001b[0m\u001b[0;32m   1538\u001b[0m             \u001b[1;34mf\"The truth value of a {type(self).__name__} is ambiguous. \"\u001b[0m\u001b[1;33m\u001b[0m\u001b[1;33m\u001b[0m\u001b[0m\n\u001b[0;32m   1539\u001b[0m             \u001b[1;34m\"Use a.empty, a.bool(), a.item(), a.any() or a.all().\"\u001b[0m\u001b[1;33m\u001b[0m\u001b[1;33m\u001b[0m\u001b[0m\n",
      "\u001b[1;31mValueError\u001b[0m: The truth value of a Series is ambiguous. Use a.empty, a.bool(), a.item(), a.any() or a.all()."
     ]
    }
   ],
   "source": [
    "sr in [10, 20, 30]"
   ]
  },
  {
   "cell_type": "code",
   "execution_count": 69,
   "metadata": {
    "colab": {
     "base_uri": "https://localhost:8080/"
    },
    "executionInfo": {
     "elapsed": 314,
     "status": "ok",
     "timestamp": 1656488775090,
     "user": {
      "displayName": "김주의(문과대학 문헌정보학)",
      "userId": "12730534296048251803"
     },
     "user_tz": -540
    },
    "id": "Uz8PliZ6bCKE",
    "outputId": "6d2acf28-b881-4068-aa8c-9b9c4ae80af5"
   },
   "outputs": [
    {
     "data": {
      "text/plain": [
       "0    False\n",
       "1     True\n",
       "2    False\n",
       "3     True\n",
       "dtype: bool"
      ]
     },
     "execution_count": 69,
     "metadata": {},
     "output_type": "execute_result"
    }
   ],
   "source": [
    "sr.isin([10, 20, 30])"
   ]
  },
  {
   "cell_type": "code",
   "execution_count": 70,
   "metadata": {
    "colab": {
     "base_uri": "https://localhost:8080/",
     "height": 112
    },
    "executionInfo": {
     "elapsed": 746,
     "status": "ok",
     "timestamp": 1656488511862,
     "user": {
      "displayName": "김주의(문과대학 문헌정보학)",
      "userId": "12730534296048251803"
     },
     "user_tz": -540
    },
    "id": "1DtD7I244EKd",
    "outputId": "83da494e-bfd7-4984-da3d-6922548be98f"
   },
   "outputs": [
    {
     "data": {
      "text/html": [
       "<div>\n",
       "<style scoped>\n",
       "    .dataframe tbody tr th:only-of-type {\n",
       "        vertical-align: middle;\n",
       "    }\n",
       "\n",
       "    .dataframe tbody tr th {\n",
       "        vertical-align: top;\n",
       "    }\n",
       "\n",
       "    .dataframe thead th {\n",
       "        text-align: right;\n",
       "    }\n",
       "</style>\n",
       "<table border=\"1\" class=\"dataframe\">\n",
       "  <thead>\n",
       "    <tr style=\"text-align: right;\">\n",
       "      <th></th>\n",
       "      <th>Class</th>\n",
       "      <th>Year</th>\n",
       "      <th>Price</th>\n",
       "      <th>Location</th>\n",
       "    </tr>\n",
       "  </thead>\n",
       "  <tbody>\n",
       "    <tr>\n",
       "      <th>C01</th>\n",
       "      <td>IoT</td>\n",
       "      <td>2018</td>\n",
       "      <td>100</td>\n",
       "      <td>Korea</td>\n",
       "    </tr>\n",
       "    <tr>\n",
       "      <th>C03</th>\n",
       "      <td>Economy</td>\n",
       "      <td>2018</td>\n",
       "      <td>132</td>\n",
       "      <td>Korea</td>\n",
       "    </tr>\n",
       "  </tbody>\n",
       "</table>\n",
       "</div>"
      ],
      "text/plain": [
       "       Class  Year  Price Location\n",
       "C01      IoT  2018    100    Korea\n",
       "C03  Economy  2018    132    Korea"
      ]
     },
     "execution_count": 70,
     "metadata": {},
     "output_type": "execute_result"
    }
   ],
   "source": [
    "# 실습 7. 2018년도에 한국에서 개설된 강의 조회\n",
    "df4[(df4.Year == 2018) & (df4.Location == 'Korea')]"
   ]
  },
  {
   "cell_type": "code",
   "execution_count": 71,
   "metadata": {
    "colab": {
     "base_uri": "https://localhost:8080/",
     "height": 325
    },
    "executionInfo": {
     "elapsed": 56,
     "status": "error",
     "timestamp": 1656488927526,
     "user": {
      "displayName": "김주의(문과대학 문헌정보학)",
      "userId": "12730534296048251803"
     },
     "user_tz": -540
    },
    "id": "DtJfGlqebhYz",
    "outputId": "5b65e4b1-3a63-411c-def5-c708f51c88ad"
   },
   "outputs": [
    {
     "ename": "ValueError",
     "evalue": "The truth value of a Series is ambiguous. Use a.empty, a.bool(), a.item(), a.any() or a.all().",
     "output_type": "error",
     "traceback": [
      "\u001b[1;31m---------------------------------------------------------------------------\u001b[0m",
      "\u001b[1;31mValueError\u001b[0m                                Traceback (most recent call last)",
      "\u001b[1;32m~\\AppData\\Local\\Temp/ipykernel_8188/1816379460.py\u001b[0m in \u001b[0;36m<module>\u001b[1;34m\u001b[0m\n\u001b[0;32m      1\u001b[0m \u001b[1;31m# and, or 사용하면 오류\u001b[0m\u001b[1;33m\u001b[0m\u001b[1;33m\u001b[0m\u001b[0m\n\u001b[1;32m----> 2\u001b[1;33m \u001b[0mdf4\u001b[0m\u001b[1;33m[\u001b[0m\u001b[1;33m(\u001b[0m\u001b[0mdf4\u001b[0m\u001b[1;33m.\u001b[0m\u001b[0mYear\u001b[0m \u001b[1;33m==\u001b[0m \u001b[1;36m2018\u001b[0m\u001b[1;33m)\u001b[0m \u001b[1;32mand\u001b[0m \u001b[1;33m(\u001b[0m\u001b[0mdf4\u001b[0m\u001b[1;33m.\u001b[0m\u001b[0mLocation\u001b[0m \u001b[1;33m==\u001b[0m \u001b[1;34m'Korea'\u001b[0m\u001b[1;33m)\u001b[0m\u001b[1;33m]\u001b[0m\u001b[1;33m\u001b[0m\u001b[1;33m\u001b[0m\u001b[0m\n\u001b[0m",
      "\u001b[1;32mC:\\ProgramData\\Anaconda3\\lib\\site-packages\\pandas\\core\\generic.py\u001b[0m in \u001b[0;36m__nonzero__\u001b[1;34m(self)\u001b[0m\n\u001b[0;32m   1535\u001b[0m     \u001b[1;33m@\u001b[0m\u001b[0mfinal\u001b[0m\u001b[1;33m\u001b[0m\u001b[1;33m\u001b[0m\u001b[0m\n\u001b[0;32m   1536\u001b[0m     \u001b[1;32mdef\u001b[0m \u001b[0m__nonzero__\u001b[0m\u001b[1;33m(\u001b[0m\u001b[0mself\u001b[0m\u001b[1;33m)\u001b[0m\u001b[1;33m:\u001b[0m\u001b[1;33m\u001b[0m\u001b[1;33m\u001b[0m\u001b[0m\n\u001b[1;32m-> 1537\u001b[1;33m         raise ValueError(\n\u001b[0m\u001b[0;32m   1538\u001b[0m             \u001b[1;34mf\"The truth value of a {type(self).__name__} is ambiguous. \"\u001b[0m\u001b[1;33m\u001b[0m\u001b[1;33m\u001b[0m\u001b[0m\n\u001b[0;32m   1539\u001b[0m             \u001b[1;34m\"Use a.empty, a.bool(), a.item(), a.any() or a.all().\"\u001b[0m\u001b[1;33m\u001b[0m\u001b[1;33m\u001b[0m\u001b[0m\n",
      "\u001b[1;31mValueError\u001b[0m: The truth value of a Series is ambiguous. Use a.empty, a.bool(), a.item(), a.any() or a.all()."
     ]
    }
   ],
   "source": [
    "# and, or 사용하면 오류\n",
    "df4[(df4.Year == 2018) and (df4.Location == 'Korea')]"
   ]
  },
  {
   "cell_type": "code",
   "execution_count": 72,
   "metadata": {
    "colab": {
     "base_uri": "https://localhost:8080/",
     "height": 553
    },
    "executionInfo": {
     "elapsed": 22,
     "status": "error",
     "timestamp": 1656488838578,
     "user": {
      "displayName": "김주의(문과대학 문헌정보학)",
      "userId": "12730534296048251803"
     },
     "user_tz": -540
    },
    "id": "mWTkd4oNaPXG",
    "outputId": "a6f61840-e8b4-45a7-9365-d7350fcc89d8"
   },
   "outputs": [
    {
     "ename": "TypeError",
     "evalue": "Cannot perform 'rand_' with a dtyped [object] array and scalar of type [bool]",
     "output_type": "error",
     "traceback": [
      "\u001b[1;31m---------------------------------------------------------------------------\u001b[0m",
      "\u001b[1;31mTypeError\u001b[0m                                 Traceback (most recent call last)",
      "\u001b[1;32mC:\\ProgramData\\Anaconda3\\lib\\site-packages\\pandas\\core\\ops\\array_ops.py\u001b[0m in \u001b[0;36mna_logical_op\u001b[1;34m(x, y, op)\u001b[0m\n\u001b[0;32m    301\u001b[0m         \u001b[1;31m#  (xint or xbool) and (yint or bool)\u001b[0m\u001b[1;33m\u001b[0m\u001b[1;33m\u001b[0m\u001b[0m\n\u001b[1;32m--> 302\u001b[1;33m         \u001b[0mresult\u001b[0m \u001b[1;33m=\u001b[0m \u001b[0mop\u001b[0m\u001b[1;33m(\u001b[0m\u001b[0mx\u001b[0m\u001b[1;33m,\u001b[0m \u001b[0my\u001b[0m\u001b[1;33m)\u001b[0m\u001b[1;33m\u001b[0m\u001b[1;33m\u001b[0m\u001b[0m\n\u001b[0m\u001b[0;32m    303\u001b[0m     \u001b[1;32mexcept\u001b[0m \u001b[0mTypeError\u001b[0m\u001b[1;33m:\u001b[0m\u001b[1;33m\u001b[0m\u001b[1;33m\u001b[0m\u001b[0m\n",
      "\u001b[1;32mC:\\ProgramData\\Anaconda3\\lib\\site-packages\\pandas\\core\\roperator.py\u001b[0m in \u001b[0;36mrand_\u001b[1;34m(left, right)\u001b[0m\n\u001b[0;32m     51\u001b[0m \u001b[1;32mdef\u001b[0m \u001b[0mrand_\u001b[0m\u001b[1;33m(\u001b[0m\u001b[0mleft\u001b[0m\u001b[1;33m,\u001b[0m \u001b[0mright\u001b[0m\u001b[1;33m)\u001b[0m\u001b[1;33m:\u001b[0m\u001b[1;33m\u001b[0m\u001b[1;33m\u001b[0m\u001b[0m\n\u001b[1;32m---> 52\u001b[1;33m     \u001b[1;32mreturn\u001b[0m \u001b[0moperator\u001b[0m\u001b[1;33m.\u001b[0m\u001b[0mand_\u001b[0m\u001b[1;33m(\u001b[0m\u001b[0mright\u001b[0m\u001b[1;33m,\u001b[0m \u001b[0mleft\u001b[0m\u001b[1;33m)\u001b[0m\u001b[1;33m\u001b[0m\u001b[1;33m\u001b[0m\u001b[0m\n\u001b[0m\u001b[0;32m     53\u001b[0m \u001b[1;33m\u001b[0m\u001b[0m\n",
      "\u001b[1;31mTypeError\u001b[0m: unsupported operand type(s) for &: 'int' and 'str'",
      "\nDuring handling of the above exception, another exception occurred:\n",
      "\u001b[1;31mTypeError\u001b[0m                                 Traceback (most recent call last)",
      "\u001b[1;32mC:\\ProgramData\\Anaconda3\\lib\\site-packages\\pandas\\core\\ops\\array_ops.py\u001b[0m in \u001b[0;36mna_logical_op\u001b[1;34m(x, y, op)\u001b[0m\n\u001b[0;32m    315\u001b[0m             \u001b[1;32mtry\u001b[0m\u001b[1;33m:\u001b[0m\u001b[1;33m\u001b[0m\u001b[1;33m\u001b[0m\u001b[0m\n\u001b[1;32m--> 316\u001b[1;33m                 \u001b[0mresult\u001b[0m \u001b[1;33m=\u001b[0m \u001b[0mlibops\u001b[0m\u001b[1;33m.\u001b[0m\u001b[0mscalar_binop\u001b[0m\u001b[1;33m(\u001b[0m\u001b[0mx\u001b[0m\u001b[1;33m,\u001b[0m \u001b[0my\u001b[0m\u001b[1;33m,\u001b[0m \u001b[0mop\u001b[0m\u001b[1;33m)\u001b[0m\u001b[1;33m\u001b[0m\u001b[1;33m\u001b[0m\u001b[0m\n\u001b[0m\u001b[0;32m    317\u001b[0m             except (\n",
      "\u001b[1;32mC:\\ProgramData\\Anaconda3\\lib\\site-packages\\pandas\\_libs\\ops.pyx\u001b[0m in \u001b[0;36mpandas._libs.ops.scalar_binop\u001b[1;34m()\u001b[0m\n",
      "\u001b[1;32mC:\\ProgramData\\Anaconda3\\lib\\site-packages\\pandas\\core\\roperator.py\u001b[0m in \u001b[0;36mrand_\u001b[1;34m(left, right)\u001b[0m\n\u001b[0;32m     51\u001b[0m \u001b[1;32mdef\u001b[0m \u001b[0mrand_\u001b[0m\u001b[1;33m(\u001b[0m\u001b[0mleft\u001b[0m\u001b[1;33m,\u001b[0m \u001b[0mright\u001b[0m\u001b[1;33m)\u001b[0m\u001b[1;33m:\u001b[0m\u001b[1;33m\u001b[0m\u001b[1;33m\u001b[0m\u001b[0m\n\u001b[1;32m---> 52\u001b[1;33m     \u001b[1;32mreturn\u001b[0m \u001b[0moperator\u001b[0m\u001b[1;33m.\u001b[0m\u001b[0mand_\u001b[0m\u001b[1;33m(\u001b[0m\u001b[0mright\u001b[0m\u001b[1;33m,\u001b[0m \u001b[0mleft\u001b[0m\u001b[1;33m)\u001b[0m\u001b[1;33m\u001b[0m\u001b[1;33m\u001b[0m\u001b[0m\n\u001b[0m\u001b[0;32m     53\u001b[0m \u001b[1;33m\u001b[0m\u001b[0m\n",
      "\u001b[1;31mTypeError\u001b[0m: unsupported operand type(s) for &: 'bool' and 'str'",
      "\nThe above exception was the direct cause of the following exception:\n",
      "\u001b[1;31mTypeError\u001b[0m                                 Traceback (most recent call last)",
      "\u001b[1;32m~\\AppData\\Local\\Temp/ipykernel_8188/1884832166.py\u001b[0m in \u001b[0;36m<module>\u001b[1;34m\u001b[0m\n\u001b[0;32m      1\u001b[0m \u001b[1;31m# () 안 하면 오류\u001b[0m\u001b[1;33m\u001b[0m\u001b[1;33m\u001b[0m\u001b[0m\n\u001b[1;32m----> 2\u001b[1;33m \u001b[0mdf4\u001b[0m\u001b[1;33m[\u001b[0m\u001b[0mdf4\u001b[0m\u001b[1;33m.\u001b[0m\u001b[0mYear\u001b[0m \u001b[1;33m==\u001b[0m \u001b[1;36m2018\u001b[0m \u001b[1;33m&\u001b[0m \u001b[0mdf4\u001b[0m\u001b[1;33m.\u001b[0m\u001b[0mLocation\u001b[0m \u001b[1;33m==\u001b[0m \u001b[1;34m'Korea'\u001b[0m\u001b[1;33m]\u001b[0m\u001b[1;33m\u001b[0m\u001b[1;33m\u001b[0m\u001b[0m\n\u001b[0m",
      "\u001b[1;32mC:\\ProgramData\\Anaconda3\\lib\\site-packages\\pandas\\core\\ops\\common.py\u001b[0m in \u001b[0;36mnew_method\u001b[1;34m(self, other)\u001b[0m\n\u001b[0;32m     67\u001b[0m         \u001b[0mother\u001b[0m \u001b[1;33m=\u001b[0m \u001b[0mitem_from_zerodim\u001b[0m\u001b[1;33m(\u001b[0m\u001b[0mother\u001b[0m\u001b[1;33m)\u001b[0m\u001b[1;33m\u001b[0m\u001b[1;33m\u001b[0m\u001b[0m\n\u001b[0;32m     68\u001b[0m \u001b[1;33m\u001b[0m\u001b[0m\n\u001b[1;32m---> 69\u001b[1;33m         \u001b[1;32mreturn\u001b[0m \u001b[0mmethod\u001b[0m\u001b[1;33m(\u001b[0m\u001b[0mself\u001b[0m\u001b[1;33m,\u001b[0m \u001b[0mother\u001b[0m\u001b[1;33m)\u001b[0m\u001b[1;33m\u001b[0m\u001b[1;33m\u001b[0m\u001b[0m\n\u001b[0m\u001b[0;32m     70\u001b[0m \u001b[1;33m\u001b[0m\u001b[0m\n\u001b[0;32m     71\u001b[0m     \u001b[1;32mreturn\u001b[0m \u001b[0mnew_method\u001b[0m\u001b[1;33m\u001b[0m\u001b[1;33m\u001b[0m\u001b[0m\n",
      "\u001b[1;32mC:\\ProgramData\\Anaconda3\\lib\\site-packages\\pandas\\core\\arraylike.py\u001b[0m in \u001b[0;36m__rand__\u001b[1;34m(self, other)\u001b[0m\n\u001b[0;32m     64\u001b[0m     \u001b[1;33m@\u001b[0m\u001b[0munpack_zerodim_and_defer\u001b[0m\u001b[1;33m(\u001b[0m\u001b[1;34m\"__rand__\"\u001b[0m\u001b[1;33m)\u001b[0m\u001b[1;33m\u001b[0m\u001b[1;33m\u001b[0m\u001b[0m\n\u001b[0;32m     65\u001b[0m     \u001b[1;32mdef\u001b[0m \u001b[0m__rand__\u001b[0m\u001b[1;33m(\u001b[0m\u001b[0mself\u001b[0m\u001b[1;33m,\u001b[0m \u001b[0mother\u001b[0m\u001b[1;33m)\u001b[0m\u001b[1;33m:\u001b[0m\u001b[1;33m\u001b[0m\u001b[1;33m\u001b[0m\u001b[0m\n\u001b[1;32m---> 66\u001b[1;33m         \u001b[1;32mreturn\u001b[0m \u001b[0mself\u001b[0m\u001b[1;33m.\u001b[0m\u001b[0m_logical_method\u001b[0m\u001b[1;33m(\u001b[0m\u001b[0mother\u001b[0m\u001b[1;33m,\u001b[0m \u001b[0mroperator\u001b[0m\u001b[1;33m.\u001b[0m\u001b[0mrand_\u001b[0m\u001b[1;33m)\u001b[0m\u001b[1;33m\u001b[0m\u001b[1;33m\u001b[0m\u001b[0m\n\u001b[0m\u001b[0;32m     67\u001b[0m \u001b[1;33m\u001b[0m\u001b[0m\n\u001b[0;32m     68\u001b[0m     \u001b[1;33m@\u001b[0m\u001b[0munpack_zerodim_and_defer\u001b[0m\u001b[1;33m(\u001b[0m\u001b[1;34m\"__or__\"\u001b[0m\u001b[1;33m)\u001b[0m\u001b[1;33m\u001b[0m\u001b[1;33m\u001b[0m\u001b[0m\n",
      "\u001b[1;32mC:\\ProgramData\\Anaconda3\\lib\\site-packages\\pandas\\core\\series.py\u001b[0m in \u001b[0;36m_logical_method\u001b[1;34m(self, other, op)\u001b[0m\n\u001b[0;32m   5511\u001b[0m         \u001b[0mrvalues\u001b[0m \u001b[1;33m=\u001b[0m \u001b[0mextract_array\u001b[0m\u001b[1;33m(\u001b[0m\u001b[0mother\u001b[0m\u001b[1;33m,\u001b[0m \u001b[0mextract_numpy\u001b[0m\u001b[1;33m=\u001b[0m\u001b[1;32mTrue\u001b[0m\u001b[1;33m,\u001b[0m \u001b[0mextract_range\u001b[0m\u001b[1;33m=\u001b[0m\u001b[1;32mTrue\u001b[0m\u001b[1;33m)\u001b[0m\u001b[1;33m\u001b[0m\u001b[1;33m\u001b[0m\u001b[0m\n\u001b[0;32m   5512\u001b[0m \u001b[1;33m\u001b[0m\u001b[0m\n\u001b[1;32m-> 5513\u001b[1;33m         \u001b[0mres_values\u001b[0m \u001b[1;33m=\u001b[0m \u001b[0mops\u001b[0m\u001b[1;33m.\u001b[0m\u001b[0mlogical_op\u001b[0m\u001b[1;33m(\u001b[0m\u001b[0mlvalues\u001b[0m\u001b[1;33m,\u001b[0m \u001b[0mrvalues\u001b[0m\u001b[1;33m,\u001b[0m \u001b[0mop\u001b[0m\u001b[1;33m)\u001b[0m\u001b[1;33m\u001b[0m\u001b[1;33m\u001b[0m\u001b[0m\n\u001b[0m\u001b[0;32m   5514\u001b[0m         \u001b[1;32mreturn\u001b[0m \u001b[0mself\u001b[0m\u001b[1;33m.\u001b[0m\u001b[0m_construct_result\u001b[0m\u001b[1;33m(\u001b[0m\u001b[0mres_values\u001b[0m\u001b[1;33m,\u001b[0m \u001b[0mname\u001b[0m\u001b[1;33m=\u001b[0m\u001b[0mres_name\u001b[0m\u001b[1;33m)\u001b[0m\u001b[1;33m\u001b[0m\u001b[1;33m\u001b[0m\u001b[0m\n\u001b[0;32m   5515\u001b[0m \u001b[1;33m\u001b[0m\u001b[0m\n",
      "\u001b[1;32mC:\\ProgramData\\Anaconda3\\lib\\site-packages\\pandas\\core\\ops\\array_ops.py\u001b[0m in \u001b[0;36mlogical_op\u001b[1;34m(left, right, op)\u001b[0m\n\u001b[0;32m    390\u001b[0m         \u001b[0mfiller\u001b[0m \u001b[1;33m=\u001b[0m \u001b[0mfill_int\u001b[0m \u001b[1;32mif\u001b[0m \u001b[0mis_self_int_dtype\u001b[0m \u001b[1;32mand\u001b[0m \u001b[0mis_other_int_dtype\u001b[0m \u001b[1;32melse\u001b[0m \u001b[0mfill_bool\u001b[0m\u001b[1;33m\u001b[0m\u001b[1;33m\u001b[0m\u001b[0m\n\u001b[0;32m    391\u001b[0m \u001b[1;33m\u001b[0m\u001b[0m\n\u001b[1;32m--> 392\u001b[1;33m         \u001b[0mres_values\u001b[0m \u001b[1;33m=\u001b[0m \u001b[0mna_logical_op\u001b[0m\u001b[1;33m(\u001b[0m\u001b[0mlvalues\u001b[0m\u001b[1;33m,\u001b[0m \u001b[0mrvalues\u001b[0m\u001b[1;33m,\u001b[0m \u001b[0mop\u001b[0m\u001b[1;33m)\u001b[0m\u001b[1;33m\u001b[0m\u001b[1;33m\u001b[0m\u001b[0m\n\u001b[0m\u001b[0;32m    393\u001b[0m         \u001b[1;31m# error: Cannot call function of unknown type\u001b[0m\u001b[1;33m\u001b[0m\u001b[1;33m\u001b[0m\u001b[0m\n\u001b[0;32m    394\u001b[0m         \u001b[0mres_values\u001b[0m \u001b[1;33m=\u001b[0m \u001b[0mfiller\u001b[0m\u001b[1;33m(\u001b[0m\u001b[0mres_values\u001b[0m\u001b[1;33m)\u001b[0m  \u001b[1;31m# type: ignore[operator]\u001b[0m\u001b[1;33m\u001b[0m\u001b[1;33m\u001b[0m\u001b[0m\n",
      "\u001b[1;32mC:\\ProgramData\\Anaconda3\\lib\\site-packages\\pandas\\core\\ops\\array_ops.py\u001b[0m in \u001b[0;36mna_logical_op\u001b[1;34m(x, y, op)\u001b[0m\n\u001b[0;32m    323\u001b[0m             ) as err:\n\u001b[0;32m    324\u001b[0m                 \u001b[0mtyp\u001b[0m \u001b[1;33m=\u001b[0m \u001b[0mtype\u001b[0m\u001b[1;33m(\u001b[0m\u001b[0my\u001b[0m\u001b[1;33m)\u001b[0m\u001b[1;33m.\u001b[0m\u001b[0m__name__\u001b[0m\u001b[1;33m\u001b[0m\u001b[1;33m\u001b[0m\u001b[0m\n\u001b[1;32m--> 325\u001b[1;33m                 raise TypeError(\n\u001b[0m\u001b[0;32m    326\u001b[0m                     \u001b[1;34mf\"Cannot perform '{op.__name__}' with a dtyped [{x.dtype}] array \"\u001b[0m\u001b[1;33m\u001b[0m\u001b[1;33m\u001b[0m\u001b[0m\n\u001b[0;32m    327\u001b[0m                     \u001b[1;34mf\"and scalar of type [{typ}]\"\u001b[0m\u001b[1;33m\u001b[0m\u001b[1;33m\u001b[0m\u001b[0m\n",
      "\u001b[1;31mTypeError\u001b[0m: Cannot perform 'rand_' with a dtyped [object] array and scalar of type [bool]"
     ]
    }
   ],
   "source": [
    "# () 안 하면 오류\n",
    "df4[df4.Year == 2018 & df4.Location == 'Korea']"
   ]
  },
  {
   "cell_type": "markdown",
   "metadata": {
    "id": "F6pygfl84EKs"
   },
   "source": [
    "# 4-1차시"
   ]
  },
  {
   "cell_type": "markdown",
   "metadata": {
    "id": "rUmi74Z74EKv"
   },
   "source": [
    "### 1. 데이터프레임에 새로운 컬럼 추가하기"
   ]
  },
  {
   "cell_type": "code",
   "execution_count": 73,
   "metadata": {
    "colab": {
     "base_uri": "https://localhost:8080/",
     "height": 206
    },
    "executionInfo": {
     "elapsed": 65,
     "status": "ok",
     "timestamp": 1656488991139,
     "user": {
      "displayName": "김주의(문과대학 문헌정보학)",
      "userId": "12730534296048251803"
     },
     "user_tz": -540
    },
    "id": "IocpF3X_4EK1",
    "outputId": "5ec6faf2-512a-4905-f3d2-14e71b155249"
   },
   "outputs": [
    {
     "data": {
      "text/html": [
       "<div>\n",
       "<style scoped>\n",
       "    .dataframe tbody tr th:only-of-type {\n",
       "        vertical-align: middle;\n",
       "    }\n",
       "\n",
       "    .dataframe tbody tr th {\n",
       "        vertical-align: top;\n",
       "    }\n",
       "\n",
       "    .dataframe thead th {\n",
       "        text-align: right;\n",
       "    }\n",
       "</style>\n",
       "<table border=\"1\" class=\"dataframe\">\n",
       "  <thead>\n",
       "    <tr style=\"text-align: right;\">\n",
       "      <th></th>\n",
       "      <th>Class</th>\n",
       "      <th>Year</th>\n",
       "      <th>Price</th>\n",
       "      <th>Location</th>\n",
       "      <th>limitStudent</th>\n",
       "    </tr>\n",
       "  </thead>\n",
       "  <tbody>\n",
       "    <tr>\n",
       "      <th>C01</th>\n",
       "      <td>IoT</td>\n",
       "      <td>2018</td>\n",
       "      <td>100</td>\n",
       "      <td>Korea</td>\n",
       "      <td>30</td>\n",
       "    </tr>\n",
       "    <tr>\n",
       "      <th>C02</th>\n",
       "      <td>Network</td>\n",
       "      <td>2017</td>\n",
       "      <td>125</td>\n",
       "      <td>Korea</td>\n",
       "      <td>30</td>\n",
       "    </tr>\n",
       "    <tr>\n",
       "      <th>C03</th>\n",
       "      <td>Economy</td>\n",
       "      <td>2018</td>\n",
       "      <td>132</td>\n",
       "      <td>Korea</td>\n",
       "      <td>30</td>\n",
       "    </tr>\n",
       "    <tr>\n",
       "      <th>C04</th>\n",
       "      <td>Big Data</td>\n",
       "      <td>2018</td>\n",
       "      <td>312</td>\n",
       "      <td>US</td>\n",
       "      <td>30</td>\n",
       "    </tr>\n",
       "    <tr>\n",
       "      <th>C05</th>\n",
       "      <td>Cloud</td>\n",
       "      <td>2019</td>\n",
       "      <td>250</td>\n",
       "      <td>Korea</td>\n",
       "      <td>30</td>\n",
       "    </tr>\n",
       "  </tbody>\n",
       "</table>\n",
       "</div>"
      ],
      "text/plain": [
       "        Class  Year  Price Location  limitStudent\n",
       "C01       IoT  2018    100    Korea            30\n",
       "C02   Network  2017    125    Korea            30\n",
       "C03   Economy  2018    132    Korea            30\n",
       "C04  Big Data  2018    312       US            30\n",
       "C05     Cloud  2019    250    Korea            30"
      ]
     },
     "execution_count": 73,
     "metadata": {},
     "output_type": "execute_result"
    }
   ],
   "source": [
    "# column 추가하기 1\n",
    "# limitStudent column(정원)을 추가하고, 값을 모두 30으로 저장\n",
    "df4['limitStudent'] = 30\n",
    "df4"
   ]
  },
  {
   "cell_type": "markdown",
   "metadata": {},
   "source": [
    "### upsert (update & insert)"
   ]
  },
  {
   "cell_type": "code",
   "execution_count": 74,
   "metadata": {
    "colab": {
     "base_uri": "https://localhost:8080/",
     "height": 206
    },
    "executionInfo": {
     "elapsed": 487,
     "status": "ok",
     "timestamp": 1656489021430,
     "user": {
      "displayName": "김주의(문과대학 문헌정보학)",
      "userId": "12730534296048251803"
     },
     "user_tz": -540
    },
    "id": "4Rok40iQb7_K",
    "outputId": "e9feaa1f-90aa-41fb-f2aa-8914456be4a2"
   },
   "outputs": [
    {
     "data": {
      "text/html": [
       "<div>\n",
       "<style scoped>\n",
       "    .dataframe tbody tr th:only-of-type {\n",
       "        vertical-align: middle;\n",
       "    }\n",
       "\n",
       "    .dataframe tbody tr th {\n",
       "        vertical-align: top;\n",
       "    }\n",
       "\n",
       "    .dataframe thead th {\n",
       "        text-align: right;\n",
       "    }\n",
       "</style>\n",
       "<table border=\"1\" class=\"dataframe\">\n",
       "  <thead>\n",
       "    <tr style=\"text-align: right;\">\n",
       "      <th></th>\n",
       "      <th>Class</th>\n",
       "      <th>Year</th>\n",
       "      <th>Price</th>\n",
       "      <th>Location</th>\n",
       "      <th>limitStudent</th>\n",
       "    </tr>\n",
       "  </thead>\n",
       "  <tbody>\n",
       "    <tr>\n",
       "      <th>C01</th>\n",
       "      <td>IoT</td>\n",
       "      <td>2018</td>\n",
       "      <td>100</td>\n",
       "      <td>Korea</td>\n",
       "      <td>40</td>\n",
       "    </tr>\n",
       "    <tr>\n",
       "      <th>C02</th>\n",
       "      <td>Network</td>\n",
       "      <td>2017</td>\n",
       "      <td>125</td>\n",
       "      <td>Korea</td>\n",
       "      <td>40</td>\n",
       "    </tr>\n",
       "    <tr>\n",
       "      <th>C03</th>\n",
       "      <td>Economy</td>\n",
       "      <td>2018</td>\n",
       "      <td>132</td>\n",
       "      <td>Korea</td>\n",
       "      <td>40</td>\n",
       "    </tr>\n",
       "    <tr>\n",
       "      <th>C04</th>\n",
       "      <td>Big Data</td>\n",
       "      <td>2018</td>\n",
       "      <td>312</td>\n",
       "      <td>US</td>\n",
       "      <td>40</td>\n",
       "    </tr>\n",
       "    <tr>\n",
       "      <th>C05</th>\n",
       "      <td>Cloud</td>\n",
       "      <td>2019</td>\n",
       "      <td>250</td>\n",
       "      <td>Korea</td>\n",
       "      <td>40</td>\n",
       "    </tr>\n",
       "  </tbody>\n",
       "</table>\n",
       "</div>"
      ],
      "text/plain": [
       "        Class  Year  Price Location  limitStudent\n",
       "C01       IoT  2018    100    Korea            40\n",
       "C02   Network  2017    125    Korea            40\n",
       "C03   Economy  2018    132    Korea            40\n",
       "C04  Big Data  2018    312       US            40\n",
       "C05     Cloud  2019    250    Korea            40"
      ]
     },
     "execution_count": 74,
     "metadata": {},
     "output_type": "execute_result"
    }
   ],
   "source": [
    "df4['limitStudent'] = 40 \n",
    "#broadcasting으로 모두 같은 값 할당\n",
    "df4"
   ]
  },
  {
   "cell_type": "code",
   "execution_count": 76,
   "metadata": {
    "colab": {
     "base_uri": "https://localhost:8080/",
     "height": 206
    },
    "executionInfo": {
     "elapsed": 49,
     "status": "ok",
     "timestamp": 1656489141317,
     "user": {
      "displayName": "김주의(문과대학 문헌정보학)",
      "userId": "12730534296048251803"
     },
     "user_tz": -540
    },
    "id": "AVql6kml4EK5",
    "outputId": "cccf85d0-395c-46f9-a8f9-6efb9f5fe648",
    "scrolled": true
   },
   "outputs": [
    {
     "data": {
      "text/html": [
       "<div>\n",
       "<style scoped>\n",
       "    .dataframe tbody tr th:only-of-type {\n",
       "        vertical-align: middle;\n",
       "    }\n",
       "\n",
       "    .dataframe tbody tr th {\n",
       "        vertical-align: top;\n",
       "    }\n",
       "\n",
       "    .dataframe thead th {\n",
       "        text-align: right;\n",
       "    }\n",
       "</style>\n",
       "<table border=\"1\" class=\"dataframe\">\n",
       "  <thead>\n",
       "    <tr style=\"text-align: right;\">\n",
       "      <th></th>\n",
       "      <th>Class</th>\n",
       "      <th>Year</th>\n",
       "      <th>Price</th>\n",
       "      <th>Location</th>\n",
       "      <th>limitStudent</th>\n",
       "      <th>numStudent</th>\n",
       "    </tr>\n",
       "  </thead>\n",
       "  <tbody>\n",
       "    <tr>\n",
       "      <th>C01</th>\n",
       "      <td>IoT</td>\n",
       "      <td>2018</td>\n",
       "      <td>100</td>\n",
       "      <td>Korea</td>\n",
       "      <td>40</td>\n",
       "      <td>25</td>\n",
       "    </tr>\n",
       "    <tr>\n",
       "      <th>C02</th>\n",
       "      <td>Network</td>\n",
       "      <td>2017</td>\n",
       "      <td>125</td>\n",
       "      <td>Korea</td>\n",
       "      <td>40</td>\n",
       "      <td>30</td>\n",
       "    </tr>\n",
       "    <tr>\n",
       "      <th>C03</th>\n",
       "      <td>Economy</td>\n",
       "      <td>2018</td>\n",
       "      <td>132</td>\n",
       "      <td>Korea</td>\n",
       "      <td>40</td>\n",
       "      <td>10</td>\n",
       "    </tr>\n",
       "    <tr>\n",
       "      <th>C04</th>\n",
       "      <td>Big Data</td>\n",
       "      <td>2018</td>\n",
       "      <td>312</td>\n",
       "      <td>US</td>\n",
       "      <td>40</td>\n",
       "      <td>23</td>\n",
       "    </tr>\n",
       "    <tr>\n",
       "      <th>C05</th>\n",
       "      <td>Cloud</td>\n",
       "      <td>2019</td>\n",
       "      <td>250</td>\n",
       "      <td>Korea</td>\n",
       "      <td>40</td>\n",
       "      <td>17</td>\n",
       "    </tr>\n",
       "  </tbody>\n",
       "</table>\n",
       "</div>"
      ],
      "text/plain": [
       "        Class  Year  Price Location  limitStudent  numStudent\n",
       "C01       IoT  2018    100    Korea            40          25\n",
       "C02   Network  2017    125    Korea            40          30\n",
       "C03   Economy  2018    132    Korea            40          10\n",
       "C04  Big Data  2018    312       US            40          23\n",
       "C05     Cloud  2019    250    Korea            40          17"
      ]
     },
     "execution_count": 76,
     "metadata": {},
     "output_type": "execute_result"
    }
   ],
   "source": [
    "# column 추가하기 2\n",
    "# numStudent 컬럼(수강학생수)을 추가하고, 값을 25,30,10,23,17로 저장 \n",
    "#개수 안 맞춰주면 에러 발생\n",
    "df4['numStudent'] = [25, 30, 10, 23, 17]\n",
    "df4"
   ]
  },
  {
   "cell_type": "code",
   "execution_count": 77,
   "metadata": {
    "colab": {
     "base_uri": "https://localhost:8080/",
     "height": 206
    },
    "executionInfo": {
     "elapsed": 379,
     "status": "ok",
     "timestamp": 1656489242886,
     "user": {
      "displayName": "김주의(문과대학 문헌정보학)",
      "userId": "12730534296048251803"
     },
     "user_tz": -540
    },
    "id": "JHW-fqLocvNn",
    "outputId": "bcd0c5c8-7de6-4e92-9ba6-5292634af598"
   },
   "outputs": [
    {
     "data": {
      "text/html": [
       "<div>\n",
       "<style scoped>\n",
       "    .dataframe tbody tr th:only-of-type {\n",
       "        vertical-align: middle;\n",
       "    }\n",
       "\n",
       "    .dataframe tbody tr th {\n",
       "        vertical-align: top;\n",
       "    }\n",
       "\n",
       "    .dataframe thead th {\n",
       "        text-align: right;\n",
       "    }\n",
       "</style>\n",
       "<table border=\"1\" class=\"dataframe\">\n",
       "  <thead>\n",
       "    <tr style=\"text-align: right;\">\n",
       "      <th></th>\n",
       "      <th>Class</th>\n",
       "      <th>Year</th>\n",
       "      <th>Price</th>\n",
       "      <th>Location</th>\n",
       "      <th>limitStudent</th>\n",
       "      <th>numStudent</th>\n",
       "    </tr>\n",
       "  </thead>\n",
       "  <tbody>\n",
       "    <tr>\n",
       "      <th>C01</th>\n",
       "      <td>IoT</td>\n",
       "      <td>2018</td>\n",
       "      <td>100</td>\n",
       "      <td>Korea</td>\n",
       "      <td>40</td>\n",
       "      <td>25.0</td>\n",
       "    </tr>\n",
       "    <tr>\n",
       "      <th>C02</th>\n",
       "      <td>Network</td>\n",
       "      <td>2017</td>\n",
       "      <td>125</td>\n",
       "      <td>Korea</td>\n",
       "      <td>40</td>\n",
       "      <td>30.0</td>\n",
       "    </tr>\n",
       "    <tr>\n",
       "      <th>C03</th>\n",
       "      <td>Economy</td>\n",
       "      <td>2018</td>\n",
       "      <td>132</td>\n",
       "      <td>Korea</td>\n",
       "      <td>40</td>\n",
       "      <td>10.0</td>\n",
       "    </tr>\n",
       "    <tr>\n",
       "      <th>C04</th>\n",
       "      <td>Big Data</td>\n",
       "      <td>2018</td>\n",
       "      <td>312</td>\n",
       "      <td>US</td>\n",
       "      <td>40</td>\n",
       "      <td>NaN</td>\n",
       "    </tr>\n",
       "    <tr>\n",
       "      <th>C05</th>\n",
       "      <td>Cloud</td>\n",
       "      <td>2019</td>\n",
       "      <td>250</td>\n",
       "      <td>Korea</td>\n",
       "      <td>40</td>\n",
       "      <td>17.0</td>\n",
       "    </tr>\n",
       "  </tbody>\n",
       "</table>\n",
       "</div>"
      ],
      "text/plain": [
       "        Class  Year  Price Location  limitStudent  numStudent\n",
       "C01       IoT  2018    100    Korea            40        25.0\n",
       "C02   Network  2017    125    Korea            40        30.0\n",
       "C03   Economy  2018    132    Korea            40        10.0\n",
       "C04  Big Data  2018    312       US            40         NaN\n",
       "C05     Cloud  2019    250    Korea            40        17.0"
      ]
     },
     "execution_count": 77,
     "metadata": {},
     "output_type": "execute_result"
    }
   ],
   "source": [
    "#비어 있는 값을 넣어주고 싶으면 numpy.NaN\n",
    "import numpy as np\n",
    "df4['numStudent'] = [25, 30, 10, np.NaN, 17]\n",
    "df4"
   ]
  },
  {
   "cell_type": "code",
   "execution_count": 78,
   "metadata": {
    "colab": {
     "base_uri": "https://localhost:8080/"
    },
    "executionInfo": {
     "elapsed": 33,
     "status": "ok",
     "timestamp": 1656489264455,
     "user": {
      "displayName": "김주의(문과대학 문헌정보학)",
      "userId": "12730534296048251803"
     },
     "user_tz": -540
    },
    "id": "tTUIv2GbdCjN",
    "outputId": "0f036a6a-e411-47fd-9900-2d445a9b375b"
   },
   "outputs": [
    {
     "name": "stdout",
     "output_type": "stream",
     "text": [
      "<class 'pandas.core.frame.DataFrame'>\n",
      "Index: 5 entries, C01 to C05\n",
      "Data columns (total 6 columns):\n",
      " #   Column        Non-Null Count  Dtype  \n",
      "---  ------        --------------  -----  \n",
      " 0   Class         5 non-null      object \n",
      " 1   Year          5 non-null      int64  \n",
      " 2   Price         5 non-null      int64  \n",
      " 3   Location      5 non-null      object \n",
      " 4   limitStudent  5 non-null      int64  \n",
      " 5   numStudent    4 non-null      float64\n",
      "dtypes: float64(1), int64(3), object(2)\n",
      "memory usage: 452.0+ bytes\n"
     ]
    }
   ],
   "source": [
    "df4.info()"
   ]
  },
  {
   "cell_type": "code",
   "execution_count": 79,
   "metadata": {
    "colab": {
     "base_uri": "https://localhost:8080/",
     "height": 206
    },
    "executionInfo": {
     "elapsed": 64,
     "status": "ok",
     "timestamp": 1656489881457,
     "user": {
      "displayName": "김주의(문과대학 문헌정보학)",
      "userId": "12730534296048251803"
     },
     "user_tz": -540
    },
    "id": "KvSI6yqL4EK6",
    "outputId": "34691c15-42c1-4752-edfc-ccd404c099b7"
   },
   "outputs": [
    {
     "data": {
      "text/html": [
       "<div>\n",
       "<style scoped>\n",
       "    .dataframe tbody tr th:only-of-type {\n",
       "        vertical-align: middle;\n",
       "    }\n",
       "\n",
       "    .dataframe tbody tr th {\n",
       "        vertical-align: top;\n",
       "    }\n",
       "\n",
       "    .dataframe thead th {\n",
       "        text-align: right;\n",
       "    }\n",
       "</style>\n",
       "<table border=\"1\" class=\"dataframe\">\n",
       "  <thead>\n",
       "    <tr style=\"text-align: right;\">\n",
       "      <th></th>\n",
       "      <th>Class</th>\n",
       "      <th>Year</th>\n",
       "      <th>Price</th>\n",
       "      <th>Location</th>\n",
       "      <th>limitStudent</th>\n",
       "      <th>numStudent</th>\n",
       "      <th>priceLevel</th>\n",
       "    </tr>\n",
       "  </thead>\n",
       "  <tbody>\n",
       "    <tr>\n",
       "      <th>C01</th>\n",
       "      <td>IoT</td>\n",
       "      <td>2018</td>\n",
       "      <td>100</td>\n",
       "      <td>Korea</td>\n",
       "      <td>40</td>\n",
       "      <td>25.0</td>\n",
       "      <td>Low</td>\n",
       "    </tr>\n",
       "    <tr>\n",
       "      <th>C02</th>\n",
       "      <td>Network</td>\n",
       "      <td>2017</td>\n",
       "      <td>125</td>\n",
       "      <td>Korea</td>\n",
       "      <td>40</td>\n",
       "      <td>30.0</td>\n",
       "      <td>Low</td>\n",
       "    </tr>\n",
       "    <tr>\n",
       "      <th>C03</th>\n",
       "      <td>Economy</td>\n",
       "      <td>2018</td>\n",
       "      <td>132</td>\n",
       "      <td>Korea</td>\n",
       "      <td>40</td>\n",
       "      <td>10.0</td>\n",
       "      <td>Low</td>\n",
       "    </tr>\n",
       "    <tr>\n",
       "      <th>C04</th>\n",
       "      <td>Big Data</td>\n",
       "      <td>2018</td>\n",
       "      <td>312</td>\n",
       "      <td>US</td>\n",
       "      <td>40</td>\n",
       "      <td>NaN</td>\n",
       "      <td>High</td>\n",
       "    </tr>\n",
       "    <tr>\n",
       "      <th>C05</th>\n",
       "      <td>Cloud</td>\n",
       "      <td>2019</td>\n",
       "      <td>250</td>\n",
       "      <td>Korea</td>\n",
       "      <td>40</td>\n",
       "      <td>17.0</td>\n",
       "      <td>High</td>\n",
       "    </tr>\n",
       "  </tbody>\n",
       "</table>\n",
       "</div>"
      ],
      "text/plain": [
       "        Class  Year  Price Location  limitStudent  numStudent priceLevel\n",
       "C01       IoT  2018    100    Korea            40        25.0        Low\n",
       "C02   Network  2017    125    Korea            40        30.0        Low\n",
       "C03   Economy  2018    132    Korea            40        10.0        Low\n",
       "C04  Big Data  2018    312       US            40         NaN       High\n",
       "C05     Cloud  2019    250    Korea            40        17.0       High"
      ]
     },
     "execution_count": 79,
     "metadata": {},
     "output_type": "execute_result"
    }
   ],
   "source": [
    "# column 추가하기 3 (기존 컬럼에 함수를 적용한 결과로 값을 할당하기)\n",
    "# priceLevel 컬럼을 추가하고, \n",
    "# Price가 200과 같거나 크면, High, 200보다 작으면 Low\n",
    "def get_priceLevel(value):\n",
    "  if (value >= 200):\n",
    "    return 'High'\n",
    "  else:\n",
    "    return 'Low'\n",
    "\n",
    "#get_priceLevle(df4.Price) (X)\n",
    "df4['priceLevel'] = df4.Price.apply(get_priceLevel)\n",
    "df4"
   ]
  },
  {
   "cell_type": "code",
   "execution_count": 80,
   "metadata": {
    "colab": {
     "base_uri": "https://localhost:8080/",
     "height": 206
    },
    "executionInfo": {
     "elapsed": 326,
     "status": "ok",
     "timestamp": 1656489961623,
     "user": {
      "displayName": "김주의(문과대학 문헌정보학)",
      "userId": "12730534296048251803"
     },
     "user_tz": -540
    },
    "id": "qx4ypOC54ELF",
    "outputId": "6aea651e-266b-4a85-fd24-6c329bb1da9d",
    "scrolled": false
   },
   "outputs": [
    {
     "data": {
      "text/html": [
       "<div>\n",
       "<style scoped>\n",
       "    .dataframe tbody tr th:only-of-type {\n",
       "        vertical-align: middle;\n",
       "    }\n",
       "\n",
       "    .dataframe tbody tr th {\n",
       "        vertical-align: top;\n",
       "    }\n",
       "\n",
       "    .dataframe thead th {\n",
       "        text-align: right;\n",
       "    }\n",
       "</style>\n",
       "<table border=\"1\" class=\"dataframe\">\n",
       "  <thead>\n",
       "    <tr style=\"text-align: right;\">\n",
       "      <th></th>\n",
       "      <th>Class</th>\n",
       "      <th>Year</th>\n",
       "      <th>Price</th>\n",
       "      <th>Location</th>\n",
       "      <th>limitStudent</th>\n",
       "      <th>numStudent</th>\n",
       "      <th>priceLevel</th>\n",
       "      <th>income</th>\n",
       "    </tr>\n",
       "  </thead>\n",
       "  <tbody>\n",
       "    <tr>\n",
       "      <th>C01</th>\n",
       "      <td>IoT</td>\n",
       "      <td>2018</td>\n",
       "      <td>100</td>\n",
       "      <td>Korea</td>\n",
       "      <td>40</td>\n",
       "      <td>25.0</td>\n",
       "      <td>Low</td>\n",
       "      <td>2500.0</td>\n",
       "    </tr>\n",
       "    <tr>\n",
       "      <th>C02</th>\n",
       "      <td>Network</td>\n",
       "      <td>2017</td>\n",
       "      <td>125</td>\n",
       "      <td>Korea</td>\n",
       "      <td>40</td>\n",
       "      <td>30.0</td>\n",
       "      <td>Low</td>\n",
       "      <td>3750.0</td>\n",
       "    </tr>\n",
       "    <tr>\n",
       "      <th>C03</th>\n",
       "      <td>Economy</td>\n",
       "      <td>2018</td>\n",
       "      <td>132</td>\n",
       "      <td>Korea</td>\n",
       "      <td>40</td>\n",
       "      <td>10.0</td>\n",
       "      <td>Low</td>\n",
       "      <td>1320.0</td>\n",
       "    </tr>\n",
       "    <tr>\n",
       "      <th>C04</th>\n",
       "      <td>Big Data</td>\n",
       "      <td>2018</td>\n",
       "      <td>312</td>\n",
       "      <td>US</td>\n",
       "      <td>40</td>\n",
       "      <td>NaN</td>\n",
       "      <td>High</td>\n",
       "      <td>NaN</td>\n",
       "    </tr>\n",
       "    <tr>\n",
       "      <th>C05</th>\n",
       "      <td>Cloud</td>\n",
       "      <td>2019</td>\n",
       "      <td>250</td>\n",
       "      <td>Korea</td>\n",
       "      <td>40</td>\n",
       "      <td>17.0</td>\n",
       "      <td>High</td>\n",
       "      <td>4250.0</td>\n",
       "    </tr>\n",
       "  </tbody>\n",
       "</table>\n",
       "</div>"
      ],
      "text/plain": [
       "        Class  Year  Price Location  limitStudent  numStudent priceLevel  \\\n",
       "C01       IoT  2018    100    Korea            40        25.0        Low   \n",
       "C02   Network  2017    125    Korea            40        30.0        Low   \n",
       "C03   Economy  2018    132    Korea            40        10.0        Low   \n",
       "C04  Big Data  2018    312       US            40         NaN       High   \n",
       "C05     Cloud  2019    250    Korea            40        17.0       High   \n",
       "\n",
       "     income  \n",
       "C01  2500.0  \n",
       "C02  3750.0  \n",
       "C03  1320.0  \n",
       "C04     NaN  \n",
       "C05  4250.0  "
      ]
     },
     "execution_count": 80,
     "metadata": {},
     "output_type": "execute_result"
    }
   ],
   "source": [
    "# column 추가하기 4 (기존 컬럼을 이용하여 새 컬럼 추가하기)\n",
    "# income 컬럼을 추가하고, Price와 numStudent의 값을 곱한 값으로 할당\n",
    "df4['income'] = df4.Price * df4.numStudent\n",
    "df4\n",
    "#index 라벨이 같은 것끼리 연산"
   ]
  },
  {
   "cell_type": "code",
   "execution_count": 81,
   "metadata": {
    "colab": {
     "base_uri": "https://localhost:8080/"
    },
    "executionInfo": {
     "elapsed": 47,
     "status": "ok",
     "timestamp": 1656490035026,
     "user": {
      "displayName": "김주의(문과대학 문헌정보학)",
      "userId": "12730534296048251803"
     },
     "user_tz": -540
    },
    "id": "V8XFSYME4ELJ",
    "outputId": "bbef39d7-d931-441a-fa10-f9b7786d3dda"
   },
   "outputs": [
    {
     "data": {
      "text/plain": [
       "0    10\n",
       "1    20\n",
       "2    30\n",
       "dtype: int64"
      ]
     },
     "execution_count": 81,
     "metadata": {},
     "output_type": "execute_result"
    }
   ],
   "source": [
    "sr = Series([1, 2, 3])\n",
    "sr * 10"
   ]
  },
  {
   "cell_type": "code",
   "execution_count": 82,
   "metadata": {
    "colab": {
     "base_uri": "https://localhost:8080/"
    },
    "executionInfo": {
     "elapsed": 1048,
     "status": "ok",
     "timestamp": 1656490088489,
     "user": {
      "displayName": "김주의(문과대학 문헌정보학)",
      "userId": "12730534296048251803"
     },
     "user_tz": -540
    },
    "id": "YckEMbCA4ELJ",
    "outputId": "5448b72e-46b8-45c3-9d40-5c6c822cf5e3"
   },
   "outputs": [
    {
     "data": {
      "text/plain": [
       "A    1\n",
       "B    2\n",
       "C    3\n",
       "dtype: int64"
      ]
     },
     "execution_count": 82,
     "metadata": {},
     "output_type": "execute_result"
    }
   ],
   "source": [
    "sr1 = Series([1,2,3], index=['A', 'B','C'])\n",
    "sr1"
   ]
  },
  {
   "cell_type": "code",
   "execution_count": 83,
   "metadata": {
    "colab": {
     "base_uri": "https://localhost:8080/"
    },
    "executionInfo": {
     "elapsed": 120,
     "status": "ok",
     "timestamp": 1656490117622,
     "user": {
      "displayName": "김주의(문과대학 문헌정보학)",
      "userId": "12730534296048251803"
     },
     "user_tz": -540
    },
    "id": "3FHJdz-p4ELr",
    "outputId": "13fb5a50-fcd1-41f6-ac31-4b5ef975b763"
   },
   "outputs": [
    {
     "data": {
      "text/plain": [
       "A    1\n",
       "B    2\n",
       "D    3\n",
       "dtype: int64"
      ]
     },
     "execution_count": 83,
     "metadata": {},
     "output_type": "execute_result"
    }
   ],
   "source": [
    "sr2 = Series([1,2,3], index=['A', 'B','D'])\n",
    "sr2"
   ]
  },
  {
   "cell_type": "code",
   "execution_count": 84,
   "metadata": {
    "colab": {
     "base_uri": "https://localhost:8080/"
    },
    "executionInfo": {
     "elapsed": 110,
     "status": "ok",
     "timestamp": 1656490117627,
     "user": {
      "displayName": "김주의(문과대학 문헌정보학)",
      "userId": "12730534296048251803"
     },
     "user_tz": -540
    },
    "id": "31Zo_TSY4ELs",
    "outputId": "93be29d2-64fa-4ce0-cbe2-3608e3a6c4e3"
   },
   "outputs": [
    {
     "data": {
      "text/plain": [
       "A    1.0\n",
       "B    4.0\n",
       "C    NaN\n",
       "D    NaN\n",
       "dtype: float64"
      ]
     },
     "execution_count": 84,
     "metadata": {},
     "output_type": "execute_result"
    }
   ],
   "source": [
    "sr1 * sr2\n",
    "#index label이 같은 것끼리 연산됨"
   ]
  },
  {
   "cell_type": "code",
   "execution_count": 85,
   "metadata": {
    "colab": {
     "base_uri": "https://localhost:8080/"
    },
    "executionInfo": {
     "elapsed": 40,
     "status": "ok",
     "timestamp": 1656490278101,
     "user": {
      "displayName": "김주의(문과대학 문헌정보학)",
      "userId": "12730534296048251803"
     },
     "user_tz": -540
    },
    "id": "dbNRHDdMg3g2",
    "outputId": "912bf296-9145-4d6f-afce-26d62472ac64"
   },
   "outputs": [
    {
     "data": {
      "text/plain": [
       "A    1.0\n",
       "B    4.0\n",
       "C    NaN\n",
       "D    NaN\n",
       "dtype: float64"
      ]
     },
     "execution_count": 85,
     "metadata": {},
     "output_type": "execute_result"
    }
   ],
   "source": [
    "sr1.multiply(sr2)"
   ]
  },
  {
   "cell_type": "code",
   "execution_count": 89,
   "metadata": {
    "colab": {
     "base_uri": "https://localhost:8080/"
    },
    "executionInfo": {
     "elapsed": 15,
     "status": "ok",
     "timestamp": 1656490337738,
     "user": {
      "displayName": "김주의(문과대학 문헌정보학)",
      "userId": "12730534296048251803"
     },
     "user_tz": -540
    },
    "id": "Y1xWbk3KhB0U",
    "outputId": "e57dca17-d237-4e40-b068-072ba39b46f1"
   },
   "outputs": [
    {
     "data": {
      "text/plain": [
       "A    1.0\n",
       "B    4.0\n",
       "C    3.0\n",
       "D    3.0\n",
       "dtype: float64"
      ]
     },
     "execution_count": 89,
     "metadata": {},
     "output_type": "execute_result"
    }
   ],
   "source": [
    "sr1.multiply(sr2, fill_value=1) #fill_value : null값을 채워넣는 것"
   ]
  },
  {
   "cell_type": "code",
   "execution_count": 91,
   "metadata": {
    "colab": {
     "base_uri": "https://localhost:8080/",
     "height": 206
    },
    "executionInfo": {
     "elapsed": 376,
     "status": "ok",
     "timestamp": 1656490486119,
     "user": {
      "displayName": "김주의(문과대학 문헌정보학)",
      "userId": "12730534296048251803"
     },
     "user_tz": -540
    },
    "id": "I3KGN7Nh4ELt",
    "outputId": "a1d1ddc2-5790-4812-ed1d-c2fb76e2697e",
    "scrolled": true
   },
   "outputs": [
    {
     "data": {
      "text/html": [
       "<div>\n",
       "<style scoped>\n",
       "    .dataframe tbody tr th:only-of-type {\n",
       "        vertical-align: middle;\n",
       "    }\n",
       "\n",
       "    .dataframe tbody tr th {\n",
       "        vertical-align: top;\n",
       "    }\n",
       "\n",
       "    .dataframe thead th {\n",
       "        text-align: right;\n",
       "    }\n",
       "</style>\n",
       "<table border=\"1\" class=\"dataframe\">\n",
       "  <thead>\n",
       "    <tr style=\"text-align: right;\">\n",
       "      <th></th>\n",
       "      <th>Class</th>\n",
       "      <th>Year</th>\n",
       "      <th>Price</th>\n",
       "      <th>Location</th>\n",
       "      <th>limitStudent</th>\n",
       "      <th>numStudent</th>\n",
       "      <th>priceLevel</th>\n",
       "      <th>income</th>\n",
       "      <th>rate</th>\n",
       "    </tr>\n",
       "  </thead>\n",
       "  <tbody>\n",
       "    <tr>\n",
       "      <th>C01</th>\n",
       "      <td>IoT</td>\n",
       "      <td>2018</td>\n",
       "      <td>100</td>\n",
       "      <td>Korea</td>\n",
       "      <td>40</td>\n",
       "      <td>25.0</td>\n",
       "      <td>Low</td>\n",
       "      <td>2500.0</td>\n",
       "      <td>0.625</td>\n",
       "    </tr>\n",
       "    <tr>\n",
       "      <th>C02</th>\n",
       "      <td>Network</td>\n",
       "      <td>2017</td>\n",
       "      <td>125</td>\n",
       "      <td>Korea</td>\n",
       "      <td>40</td>\n",
       "      <td>30.0</td>\n",
       "      <td>Low</td>\n",
       "      <td>3750.0</td>\n",
       "      <td>0.750</td>\n",
       "    </tr>\n",
       "    <tr>\n",
       "      <th>C03</th>\n",
       "      <td>Economy</td>\n",
       "      <td>2018</td>\n",
       "      <td>132</td>\n",
       "      <td>Korea</td>\n",
       "      <td>40</td>\n",
       "      <td>10.0</td>\n",
       "      <td>Low</td>\n",
       "      <td>1320.0</td>\n",
       "      <td>0.250</td>\n",
       "    </tr>\n",
       "    <tr>\n",
       "      <th>C04</th>\n",
       "      <td>Big Data</td>\n",
       "      <td>2018</td>\n",
       "      <td>312</td>\n",
       "      <td>US</td>\n",
       "      <td>40</td>\n",
       "      <td>NaN</td>\n",
       "      <td>High</td>\n",
       "      <td>NaN</td>\n",
       "      <td>NaN</td>\n",
       "    </tr>\n",
       "    <tr>\n",
       "      <th>C05</th>\n",
       "      <td>Cloud</td>\n",
       "      <td>2019</td>\n",
       "      <td>250</td>\n",
       "      <td>Korea</td>\n",
       "      <td>40</td>\n",
       "      <td>17.0</td>\n",
       "      <td>High</td>\n",
       "      <td>4250.0</td>\n",
       "      <td>0.425</td>\n",
       "    </tr>\n",
       "  </tbody>\n",
       "</table>\n",
       "</div>"
      ],
      "text/plain": [
       "        Class  Year  Price Location  limitStudent  numStudent priceLevel  \\\n",
       "C01       IoT  2018    100    Korea            40        25.0        Low   \n",
       "C02   Network  2017    125    Korea            40        30.0        Low   \n",
       "C03   Economy  2018    132    Korea            40        10.0        Low   \n",
       "C04  Big Data  2018    312       US            40         NaN       High   \n",
       "C05     Cloud  2019    250    Korea            40        17.0       High   \n",
       "\n",
       "     income   rate  \n",
       "C01  2500.0  0.625  \n",
       "C02  3750.0  0.750  \n",
       "C03  1320.0  0.250  \n",
       "C04     NaN    NaN  \n",
       "C05  4250.0  0.425  "
      ]
     },
     "execution_count": 91,
     "metadata": {},
     "output_type": "execute_result"
    }
   ],
   "source": [
    "# 실습. rate 컬럼을 추가하고, 충원율을 계산하여 할당. \n",
    "# 충원율은 정원(limitStudent) 대비 수강학생수(numStudent) 비율\n",
    "df4['rate'] = df4.numStudent / df4.limitStudent\n",
    "df4"
   ]
  },
  {
   "cell_type": "markdown",
   "metadata": {
    "id": "Op8zpS7C4EMJ"
   },
   "source": [
    "### 2. 불필요한 컬럼이나 데이터 삭제하기"
   ]
  },
  {
   "cell_type": "code",
   "execution_count": 92,
   "metadata": {
    "colab": {
     "base_uri": "https://localhost:8080/",
     "height": 206
    },
    "executionInfo": {
     "elapsed": 494,
     "status": "ok",
     "timestamp": 1656490526692,
     "user": {
      "displayName": "김주의(문과대학 문헌정보학)",
      "userId": "12730534296048251803"
     },
     "user_tz": -540
    },
    "id": "pDWbja_t4EML",
    "outputId": "5b1398a7-019b-4cf4-fec6-ce99efaa3223"
   },
   "outputs": [
    {
     "data": {
      "text/html": [
       "<div>\n",
       "<style scoped>\n",
       "    .dataframe tbody tr th:only-of-type {\n",
       "        vertical-align: middle;\n",
       "    }\n",
       "\n",
       "    .dataframe tbody tr th {\n",
       "        vertical-align: top;\n",
       "    }\n",
       "\n",
       "    .dataframe thead th {\n",
       "        text-align: right;\n",
       "    }\n",
       "</style>\n",
       "<table border=\"1\" class=\"dataframe\">\n",
       "  <thead>\n",
       "    <tr style=\"text-align: right;\">\n",
       "      <th></th>\n",
       "      <th>Class</th>\n",
       "      <th>Year</th>\n",
       "      <th>Price</th>\n",
       "      <th>Location</th>\n",
       "      <th>limitStudent</th>\n",
       "      <th>numStudent</th>\n",
       "      <th>priceLevel</th>\n",
       "      <th>income</th>\n",
       "    </tr>\n",
       "  </thead>\n",
       "  <tbody>\n",
       "    <tr>\n",
       "      <th>C01</th>\n",
       "      <td>IoT</td>\n",
       "      <td>2018</td>\n",
       "      <td>100</td>\n",
       "      <td>Korea</td>\n",
       "      <td>40</td>\n",
       "      <td>25.0</td>\n",
       "      <td>Low</td>\n",
       "      <td>2500.0</td>\n",
       "    </tr>\n",
       "    <tr>\n",
       "      <th>C02</th>\n",
       "      <td>Network</td>\n",
       "      <td>2017</td>\n",
       "      <td>125</td>\n",
       "      <td>Korea</td>\n",
       "      <td>40</td>\n",
       "      <td>30.0</td>\n",
       "      <td>Low</td>\n",
       "      <td>3750.0</td>\n",
       "    </tr>\n",
       "    <tr>\n",
       "      <th>C03</th>\n",
       "      <td>Economy</td>\n",
       "      <td>2018</td>\n",
       "      <td>132</td>\n",
       "      <td>Korea</td>\n",
       "      <td>40</td>\n",
       "      <td>10.0</td>\n",
       "      <td>Low</td>\n",
       "      <td>1320.0</td>\n",
       "    </tr>\n",
       "    <tr>\n",
       "      <th>C04</th>\n",
       "      <td>Big Data</td>\n",
       "      <td>2018</td>\n",
       "      <td>312</td>\n",
       "      <td>US</td>\n",
       "      <td>40</td>\n",
       "      <td>NaN</td>\n",
       "      <td>High</td>\n",
       "      <td>NaN</td>\n",
       "    </tr>\n",
       "    <tr>\n",
       "      <th>C05</th>\n",
       "      <td>Cloud</td>\n",
       "      <td>2019</td>\n",
       "      <td>250</td>\n",
       "      <td>Korea</td>\n",
       "      <td>40</td>\n",
       "      <td>17.0</td>\n",
       "      <td>High</td>\n",
       "      <td>4250.0</td>\n",
       "    </tr>\n",
       "  </tbody>\n",
       "</table>\n",
       "</div>"
      ],
      "text/plain": [
       "        Class  Year  Price Location  limitStudent  numStudent priceLevel  \\\n",
       "C01       IoT  2018    100    Korea            40        25.0        Low   \n",
       "C02   Network  2017    125    Korea            40        30.0        Low   \n",
       "C03   Economy  2018    132    Korea            40        10.0        Low   \n",
       "C04  Big Data  2018    312       US            40         NaN       High   \n",
       "C05     Cloud  2019    250    Korea            40        17.0       High   \n",
       "\n",
       "     income  \n",
       "C01  2500.0  \n",
       "C02  3750.0  \n",
       "C03  1320.0  \n",
       "C04     NaN  \n",
       "C05  4250.0  "
      ]
     },
     "execution_count": 92,
     "metadata": {},
     "output_type": "execute_result"
    }
   ],
   "source": [
    "#rate column 삭제\n",
    "df4.drop('rate', axis=1) #default가 axis=1"
   ]
  },
  {
   "cell_type": "code",
   "execution_count": 93,
   "metadata": {
    "id": "GD6TaRn44EMM"
   },
   "outputs": [],
   "source": [
    "#drop한 결과 원본에 반영하려면, 다시 할당\n",
    "df4 = df4.drop('rate', axis=1)"
   ]
  },
  {
   "cell_type": "code",
   "execution_count": 94,
   "metadata": {
    "colab": {
     "base_uri": "https://localhost:8080/",
     "height": 175
    },
    "executionInfo": {
     "elapsed": 22,
     "status": "ok",
     "timestamp": 1656490621306,
     "user": {
      "displayName": "김주의(문과대학 문헌정보학)",
      "userId": "12730534296048251803"
     },
     "user_tz": -540
    },
    "id": "Vkxdu80CiE1z",
    "outputId": "3e49d537-94fe-45f2-970d-89f741f1ef7a"
   },
   "outputs": [
    {
     "data": {
      "text/html": [
       "<div>\n",
       "<style scoped>\n",
       "    .dataframe tbody tr th:only-of-type {\n",
       "        vertical-align: middle;\n",
       "    }\n",
       "\n",
       "    .dataframe tbody tr th {\n",
       "        vertical-align: top;\n",
       "    }\n",
       "\n",
       "    .dataframe thead th {\n",
       "        text-align: right;\n",
       "    }\n",
       "</style>\n",
       "<table border=\"1\" class=\"dataframe\">\n",
       "  <thead>\n",
       "    <tr style=\"text-align: right;\">\n",
       "      <th></th>\n",
       "      <th>Class</th>\n",
       "      <th>Year</th>\n",
       "      <th>Price</th>\n",
       "      <th>Location</th>\n",
       "      <th>limitStudent</th>\n",
       "      <th>numStudent</th>\n",
       "      <th>priceLevel</th>\n",
       "      <th>income</th>\n",
       "    </tr>\n",
       "  </thead>\n",
       "  <tbody>\n",
       "    <tr>\n",
       "      <th>C01</th>\n",
       "      <td>IoT</td>\n",
       "      <td>2018</td>\n",
       "      <td>100</td>\n",
       "      <td>Korea</td>\n",
       "      <td>40</td>\n",
       "      <td>25.0</td>\n",
       "      <td>Low</td>\n",
       "      <td>2500.0</td>\n",
       "    </tr>\n",
       "    <tr>\n",
       "      <th>C02</th>\n",
       "      <td>Network</td>\n",
       "      <td>2017</td>\n",
       "      <td>125</td>\n",
       "      <td>Korea</td>\n",
       "      <td>40</td>\n",
       "      <td>30.0</td>\n",
       "      <td>Low</td>\n",
       "      <td>3750.0</td>\n",
       "    </tr>\n",
       "    <tr>\n",
       "      <th>C03</th>\n",
       "      <td>Economy</td>\n",
       "      <td>2018</td>\n",
       "      <td>132</td>\n",
       "      <td>Korea</td>\n",
       "      <td>40</td>\n",
       "      <td>10.0</td>\n",
       "      <td>Low</td>\n",
       "      <td>1320.0</td>\n",
       "    </tr>\n",
       "    <tr>\n",
       "      <th>C04</th>\n",
       "      <td>Big Data</td>\n",
       "      <td>2018</td>\n",
       "      <td>312</td>\n",
       "      <td>US</td>\n",
       "      <td>40</td>\n",
       "      <td>NaN</td>\n",
       "      <td>High</td>\n",
       "      <td>NaN</td>\n",
       "    </tr>\n",
       "  </tbody>\n",
       "</table>\n",
       "</div>"
      ],
      "text/plain": [
       "        Class  Year  Price Location  limitStudent  numStudent priceLevel  \\\n",
       "C01       IoT  2018    100    Korea            40        25.0        Low   \n",
       "C02   Network  2017    125    Korea            40        30.0        Low   \n",
       "C03   Economy  2018    132    Korea            40        10.0        Low   \n",
       "C04  Big Data  2018    312       US            40         NaN       High   \n",
       "\n",
       "     income  \n",
       "C01  2500.0  \n",
       "C02  3750.0  \n",
       "C03  1320.0  \n",
       "C04     NaN  "
      ]
     },
     "execution_count": 94,
     "metadata": {},
     "output_type": "execute_result"
    }
   ],
   "source": [
    "#C05 클래스 삭제\n",
    "df4.drop('C05', inplace=True)\n",
    "df4"
   ]
  },
  {
   "cell_type": "code",
   "execution_count": 96,
   "metadata": {
    "colab": {
     "base_uri": "https://localhost:8080/"
    },
    "executionInfo": {
     "elapsed": 38,
     "status": "ok",
     "timestamp": 1656490765484,
     "user": {
      "displayName": "김주의(문과대학 문헌정보학)",
      "userId": "12730534296048251803"
     },
     "user_tz": -540
    },
    "id": "iLYILkAziO_p",
    "outputId": "200ce397-5095-4402-c523-c50ecaf1628d"
   },
   "outputs": [
    {
     "data": {
      "text/plain": [
       "Index(['C03'], dtype='object')"
      ]
     },
     "execution_count": 96,
     "metadata": {},
     "output_type": "execute_result"
    }
   ],
   "source": [
    "# 수강생이 가장 적은 클래스 삭제\n",
    "del_index = df4[df4.numStudent == df4.numStudent.min()].index\n",
    "del_index"
   ]
  },
  {
   "cell_type": "code",
   "execution_count": 102,
   "metadata": {
    "colab": {
     "base_uri": "https://localhost:8080/",
     "height": 306
    },
    "executionInfo": {
     "elapsed": 12,
     "status": "error",
     "timestamp": 1656490808739,
     "user": {
      "displayName": "김주의(문과대학 문헌정보학)",
      "userId": "12730534296048251803"
     },
     "user_tz": -540
    },
    "id": "jcIC6TWEi5pS",
    "outputId": "3e6f469d-a69c-4749-f3d6-95065aad7693"
   },
   "outputs": [
    {
     "data": {
      "text/html": [
       "<div>\n",
       "<style scoped>\n",
       "    .dataframe tbody tr th:only-of-type {\n",
       "        vertical-align: middle;\n",
       "    }\n",
       "\n",
       "    .dataframe tbody tr th {\n",
       "        vertical-align: top;\n",
       "    }\n",
       "\n",
       "    .dataframe thead th {\n",
       "        text-align: right;\n",
       "    }\n",
       "</style>\n",
       "<table border=\"1\" class=\"dataframe\">\n",
       "  <thead>\n",
       "    <tr style=\"text-align: right;\">\n",
       "      <th></th>\n",
       "      <th>Class</th>\n",
       "      <th>Year</th>\n",
       "      <th>Price</th>\n",
       "      <th>Location</th>\n",
       "      <th>limitStudent</th>\n",
       "      <th>numStudent</th>\n",
       "      <th>priceLevel</th>\n",
       "      <th>income</th>\n",
       "    </tr>\n",
       "  </thead>\n",
       "  <tbody>\n",
       "    <tr>\n",
       "      <th>C03</th>\n",
       "      <td>Economy</td>\n",
       "      <td>2018</td>\n",
       "      <td>132</td>\n",
       "      <td>Korea</td>\n",
       "      <td>40</td>\n",
       "      <td>10.0</td>\n",
       "      <td>Low</td>\n",
       "      <td>1320.0</td>\n",
       "    </tr>\n",
       "  </tbody>\n",
       "</table>\n",
       "</div>"
      ],
      "text/plain": [
       "       Class  Year  Price Location  limitStudent  numStudent priceLevel  \\\n",
       "C03  Economy  2018    132    Korea            40        10.0        Low   \n",
       "\n",
       "     income  \n",
       "C03  1320.0  "
      ]
     },
     "execution_count": 102,
     "metadata": {},
     "output_type": "execute_result"
    }
   ],
   "source": [
    "df4.nsmallest(1, 'numStudent')"
   ]
  },
  {
   "cell_type": "code",
   "execution_count": 103,
   "metadata": {},
   "outputs": [
    {
     "data": {
      "text/plain": [
       "Index(['C03'], dtype='object')"
      ]
     },
     "execution_count": 103,
     "metadata": {},
     "output_type": "execute_result"
    }
   ],
   "source": [
    "df4.nsmallest(1, 'numStudent').index"
   ]
  },
  {
   "cell_type": "code",
   "execution_count": 105,
   "metadata": {
    "id": "tRBgasV0iwzQ"
   },
   "outputs": [
    {
     "data": {
      "text/html": [
       "<div>\n",
       "<style scoped>\n",
       "    .dataframe tbody tr th:only-of-type {\n",
       "        vertical-align: middle;\n",
       "    }\n",
       "\n",
       "    .dataframe tbody tr th {\n",
       "        vertical-align: top;\n",
       "    }\n",
       "\n",
       "    .dataframe thead th {\n",
       "        text-align: right;\n",
       "    }\n",
       "</style>\n",
       "<table border=\"1\" class=\"dataframe\">\n",
       "  <thead>\n",
       "    <tr style=\"text-align: right;\">\n",
       "      <th></th>\n",
       "      <th>Class</th>\n",
       "      <th>Year</th>\n",
       "      <th>Price</th>\n",
       "      <th>Location</th>\n",
       "      <th>limitStudent</th>\n",
       "      <th>numStudent</th>\n",
       "      <th>priceLevel</th>\n",
       "      <th>income</th>\n",
       "    </tr>\n",
       "  </thead>\n",
       "  <tbody>\n",
       "    <tr>\n",
       "      <th>C01</th>\n",
       "      <td>IoT</td>\n",
       "      <td>2018</td>\n",
       "      <td>100</td>\n",
       "      <td>Korea</td>\n",
       "      <td>40</td>\n",
       "      <td>25.0</td>\n",
       "      <td>Low</td>\n",
       "      <td>2500.0</td>\n",
       "    </tr>\n",
       "    <tr>\n",
       "      <th>C02</th>\n",
       "      <td>Network</td>\n",
       "      <td>2017</td>\n",
       "      <td>125</td>\n",
       "      <td>Korea</td>\n",
       "      <td>40</td>\n",
       "      <td>30.0</td>\n",
       "      <td>Low</td>\n",
       "      <td>3750.0</td>\n",
       "    </tr>\n",
       "    <tr>\n",
       "      <th>C04</th>\n",
       "      <td>Big Data</td>\n",
       "      <td>2018</td>\n",
       "      <td>312</td>\n",
       "      <td>US</td>\n",
       "      <td>40</td>\n",
       "      <td>NaN</td>\n",
       "      <td>High</td>\n",
       "      <td>NaN</td>\n",
       "    </tr>\n",
       "  </tbody>\n",
       "</table>\n",
       "</div>"
      ],
      "text/plain": [
       "        Class  Year  Price Location  limitStudent  numStudent priceLevel  \\\n",
       "C01       IoT  2018    100    Korea            40        25.0        Low   \n",
       "C02   Network  2017    125    Korea            40        30.0        Low   \n",
       "C04  Big Data  2018    312       US            40         NaN       High   \n",
       "\n",
       "     income  \n",
       "C01  2500.0  \n",
       "C02  3750.0  \n",
       "C04     NaN  "
      ]
     },
     "execution_count": 105,
     "metadata": {},
     "output_type": "execute_result"
    }
   ],
   "source": [
    "df4.drop(del_index)"
   ]
  },
  {
   "cell_type": "code",
   "execution_count": null,
   "metadata": {},
   "outputs": [],
   "source": []
  }
 ],
 "metadata": {
  "colab": {
   "collapsed_sections": [],
   "name": "1-2. Pandas 개요 및 데이터 타입 소개 2(DataFrame).ipynb",
   "provenance": []
  },
  "kernelspec": {
   "display_name": "Python 3",
   "language": "python",
   "name": "python3"
  },
  "language_info": {
   "codemirror_mode": {
    "name": "ipython",
    "version": 3
   },
   "file_extension": ".py",
   "mimetype": "text/x-python",
   "name": "python",
   "nbconvert_exporter": "python",
   "pygments_lexer": "ipython3",
   "version": "3.8.5"
  },
  "toc": {
   "base_numbering": 1,
   "nav_menu": {},
   "number_sections": true,
   "sideBar": true,
   "skip_h1_title": false,
   "title_cell": "Table of Contents",
   "title_sidebar": "Contents",
   "toc_cell": false,
   "toc_position": {},
   "toc_section_display": true,
   "toc_window_display": false
  }
 },
 "nbformat": 4,
 "nbformat_minor": 1
}
