{
 "cells": [
  {
   "cell_type": "markdown",
   "metadata": {
    "id": "jeLj4DyJsaeo"
   },
   "source": [
    "# Series (시리즈)의 개념\n",
    "<img src= \"content/drive/MyDrive/DYC/판다스시각화/img/1강/Series개념.jpg\" alt=\"datetime\" style=\"width: 1200px;\"/>"
   ]
  },
  {
   "cell_type": "markdown",
   "metadata": {
    "id": "Pb3Bcj4Asae2"
   },
   "source": [
    "# pandas 라이브러리 import 하기"
   ]
  },
  {
   "cell_type": "code",
   "execution_count": 1,
   "metadata": {
    "id": "YEw8gMmjsae4"
   },
   "outputs": [],
   "source": [
    "\n",
    "# Python의 리스트(List) 타입의 데이터 생성하기\n",
    "arr1 = [3, 5, 1, 2]"
   ]
  },
  {
   "cell_type": "code",
   "execution_count": 2,
   "metadata": {
    "colab": {
     "base_uri": "https://localhost:8080/",
     "height": 194
    },
    "executionInfo": {
     "elapsed": 20,
     "status": "error",
     "timestamp": 1656503635589,
     "user": {
      "displayName": "김주의(문과대학 문헌정보학)",
      "userId": "12730534296048251803"
     },
     "user_tz": -540
    },
    "id": "D5-b3zOasae8",
    "outputId": "623e56e6-79a6-45e3-fb48-6653f5ab5917",
    "scrolled": false
   },
   "outputs": [
    {
     "ename": "NameError",
     "evalue": "name 'Series' is not defined",
     "output_type": "error",
     "traceback": [
      "\u001b[1;31m---------------------------------------------------------------------------\u001b[0m",
      "\u001b[1;31mNameError\u001b[0m                                 Traceback (most recent call last)",
      "\u001b[1;32m<ipython-input-2-789240a6ea1a>\u001b[0m in \u001b[0;36m<module>\u001b[1;34m\u001b[0m\n\u001b[0;32m      1\u001b[0m \u001b[1;31m# Pandas의 Series 타입의 데이터 생성하기\u001b[0m\u001b[1;33m\u001b[0m\u001b[1;33m\u001b[0m\u001b[1;33m\u001b[0m\u001b[0m\n\u001b[1;32m----> 2\u001b[1;33m \u001b[0mSeries\u001b[0m\u001b[1;33m(\u001b[0m\u001b[1;33m[\u001b[0m\u001b[1;36m3\u001b[0m\u001b[1;33m,\u001b[0m \u001b[1;36m5\u001b[0m\u001b[1;33m,\u001b[0m \u001b[1;36m1\u001b[0m\u001b[1;33m,\u001b[0m \u001b[1;36m2\u001b[0m\u001b[1;33m]\u001b[0m\u001b[1;33m)\u001b[0m\u001b[1;33m\u001b[0m\u001b[1;33m\u001b[0m\u001b[0m\n\u001b[0m\u001b[0;32m      3\u001b[0m \u001b[1;31m#import 안해주면 오류 발생\u001b[0m\u001b[1;33m\u001b[0m\u001b[1;33m\u001b[0m\u001b[1;33m\u001b[0m\u001b[0m\n",
      "\u001b[1;31mNameError\u001b[0m: name 'Series' is not defined"
     ]
    }
   ],
   "source": [
    "# Pandas의 Series 타입의 데이터 생성하기\n",
    "Series([3, 5, 1, 2])\n",
    "#import 안해주면 오류 발생"
   ]
  },
  {
   "cell_type": "code",
   "execution_count": 3,
   "metadata": {
    "colab": {
     "base_uri": "https://localhost:8080/"
    },
    "executionInfo": {
     "elapsed": 339,
     "status": "ok",
     "timestamp": 1656503680964,
     "user": {
      "displayName": "김주의(문과대학 문헌정보학)",
      "userId": "12730534296048251803"
     },
     "user_tz": -540
    },
    "id": "-Zm6F4t1sae_",
    "outputId": "f8415896-80fd-4dc5-c959-684c8b483746"
   },
   "outputs": [
    {
     "data": {
      "text/plain": [
       "0    3\n",
       "1    5\n",
       "2    1\n",
       "3    2\n",
       "dtype: int64"
      ]
     },
     "execution_count": 3,
     "metadata": {},
     "output_type": "execute_result"
    }
   ],
   "source": [
    "# pandas 라이브러리 임포트하기 (1)\n",
    "#vanilla python(바닐라 아이스크림이 기본 아이스크림 맛이라서 이러한 명칭으로 부름)이 아니므로 import해주기\n",
    "import pandas as pd\n",
    "data1 = pd.Series(arr1)\n",
    "data1"
   ]
  },
  {
   "cell_type": "code",
   "execution_count": 5,
   "metadata": {
    "colab": {
     "base_uri": "https://localhost:8080/"
    },
    "executionInfo": {
     "elapsed": 5,
     "status": "ok",
     "timestamp": 1656503680964,
     "user": {
      "displayName": "김주의(문과대학 문헌정보학)",
      "userId": "12730534296048251803"
     },
     "user_tz": -540
    },
    "id": "8fjzElq1safB",
    "outputId": "872611dd-a3b5-47e6-8141-acde13f29d57"
   },
   "outputs": [
    {
     "data": {
      "text/plain": [
       "0    3\n",
       "1    5\n",
       "2    1\n",
       "3    2\n",
       "dtype: int64"
      ]
     },
     "execution_count": 5,
     "metadata": {},
     "output_type": "execute_result"
    }
   ],
   "source": [
    "# pandas 라이브러리 임포트하기 (2)\n",
    "from pandas import Series\n",
    "data1 = Series(arr1)\n",
    "data1"
   ]
  },
  {
   "cell_type": "markdown",
   "metadata": {
    "id": "f9HEJfMosafF"
   },
   "source": [
    "#  Series 생성\n",
    " - 1차원 데이터를 저장하는 파이썬의 데이터타입인 리스트, 튜플, 사전 타입 등을 이용해서 Series 객체를 생성해 보고, Series 객체의 특징들을 살펴보도록 하겠습니다. "
   ]
  },
  {
   "cell_type": "markdown",
   "metadata": {
    "id": "YEFGvIXpsafG"
   },
   "source": [
    "### 1) List를 사용하여 Series 생성하기"
   ]
  },
  {
   "cell_type": "code",
   "execution_count": 7,
   "metadata": {
    "colab": {
     "base_uri": "https://localhost:8080/"
    },
    "executionInfo": {
     "elapsed": 221,
     "status": "ok",
     "timestamp": 1656503683647,
     "user": {
      "displayName": "김주의(문과대학 문헌정보학)",
      "userId": "12730534296048251803"
     },
     "user_tz": -540
    },
    "id": "BcypkwEBsafD",
    "outputId": "a568120d-ef72-44f8-a159-074204978e9b"
   },
   "outputs": [
    {
     "data": {
      "text/plain": [
       "a    3\n",
       "b    5\n",
       "c    1\n",
       "d    2\n",
       "dtype: int64"
      ]
     },
     "execution_count": 7,
     "metadata": {},
     "output_type": "execute_result"
    }
   ],
   "source": [
    "# 문자 인덱스로 변경\n",
    "data1.index = ['a', 'b', 'c', 'd']\n",
    "data1"
   ]
  },
  {
   "cell_type": "code",
   "execution_count": null,
   "metadata": {
    "colab": {
     "base_uri": "https://localhost:8080/"
    },
    "executionInfo": {
     "elapsed": 260,
     "status": "ok",
     "timestamp": 1656503687039,
     "user": {
      "displayName": "김주의(문과대학 문헌정보학)",
      "userId": "12730534296048251803"
     },
     "user_tz": -540
    },
    "id": "u4qDbQJBvM3A",
    "outputId": "709bf7a2-6b6c-4751-de46-5941c2f8c6f1"
   },
   "outputs": [],
   "source": [
    "data1['c']"
   ]
  },
  {
   "cell_type": "code",
   "execution_count": 6,
   "metadata": {
    "colab": {
     "base_uri": "https://localhost:8080/"
    },
    "executionInfo": {
     "elapsed": 237,
     "status": "ok",
     "timestamp": 1656503689726,
     "user": {
      "displayName": "김주의(문과대학 문헌정보학)",
      "userId": "12730534296048251803"
     },
     "user_tz": -540
    },
    "id": "thPV3k7vsafH",
    "outputId": "d164c281-f6a8-4700-d1ee-84c865e635e1",
    "scrolled": false
   },
   "outputs": [
    {
     "data": {
      "text/plain": [
       "a    3\n",
       "b    5\n",
       "c    1\n",
       "d    2\n",
       "dtype: int64"
      ]
     },
     "execution_count": 6,
     "metadata": {},
     "output_type": "execute_result"
    }
   ],
   "source": [
    "data1 = Series(arr1, index=['a', 'b', 'c', 'd'])\n",
    "data1"
   ]
  },
  {
   "cell_type": "markdown",
   "metadata": {
    "id": "vzPG-_zusafJ"
   },
   "source": [
    "### 2) Tuple을 사용하여 Series 생성하기"
   ]
  },
  {
   "cell_type": "code",
   "execution_count": 8,
   "metadata": {
    "colab": {
     "base_uri": "https://localhost:8080/"
    },
    "executionInfo": {
     "elapsed": 223,
     "status": "ok",
     "timestamp": 1656503801129,
     "user": {
      "displayName": "김주의(문과대학 문헌정보학)",
      "userId": "12730534296048251803"
     },
     "user_tz": -540
    },
    "id": "5_fseWDrsafL",
    "outputId": "da5ce6f7-5479-41c9-e64f-e7f9c44c2290"
   },
   "outputs": [
    {
     "data": {
      "text/plain": [
       "0    2\n",
       "1    4\n",
       "2    6\n",
       "3    8\n",
       "dtype: int64"
      ]
     },
     "execution_count": 8,
     "metadata": {},
     "output_type": "execute_result"
    }
   ],
   "source": [
    "arr2 = (2, 4, 6, 8)\n",
    "#tuple은 list 타입(mutable)과 달리 immutable 타입이기 때문에 삭제하거나 변경 X\n",
    "data2 = Series(arr2)\n",
    "data2"
   ]
  },
  {
   "cell_type": "markdown",
   "metadata": {
    "id": "iJt3VeJisafM"
   },
   "source": [
    "### 3) Dict 타입의 변수를 사용하여 Series 생성하기"
   ]
  },
  {
   "cell_type": "code",
   "execution_count": 9,
   "metadata": {
    "colab": {
     "base_uri": "https://localhost:8080/"
    },
    "executionInfo": {
     "elapsed": 235,
     "status": "ok",
     "timestamp": 1656503803194,
     "user": {
      "displayName": "김주의(문과대학 문헌정보학)",
      "userId": "12730534296048251803"
     },
     "user_tz": -540
    },
    "id": "sPrR8UC7safO",
    "outputId": "c14c71d0-a1a4-400e-e36e-210a4b8f328d"
   },
   "outputs": [
    {
     "data": {
      "text/plain": [
       "a    3\n",
       "b    5\n",
       "c    1\n",
       "d    2\n",
       "dtype: int64"
      ]
     },
     "execution_count": 9,
     "metadata": {},
     "output_type": "execute_result"
    }
   ],
   "source": [
    "arr3 = {\n",
    "    'a':3,\n",
    "    'b':5,\n",
    "    'c':1,\n",
    "    'd':2\n",
    "}\n",
    "data3 = Series(arr3)\n",
    "data3"
   ]
  },
  {
   "cell_type": "markdown",
   "metadata": {
    "id": "3QqSpIKSsafO"
   },
   "source": [
    "### ** 몇 가지 Series 특징들 **"
   ]
  },
  {
   "cell_type": "markdown",
   "metadata": {
    "id": "sQVZLK-HsafP"
   },
   "source": [
    "- Series.values는 numpy의 ndarray객체입니다. "
   ]
  },
  {
   "cell_type": "code",
   "execution_count": 11,
   "metadata": {
    "colab": {
     "base_uri": "https://localhost:8080/"
    },
    "executionInfo": {
     "elapsed": 213,
     "status": "ok",
     "timestamp": 1656503811164,
     "user": {
      "displayName": "김주의(문과대학 문헌정보학)",
      "userId": "12730534296048251803"
     },
     "user_tz": -540
    },
    "id": "yY4TbKEtsafP",
    "outputId": "59d71ac9-8aa9-4f48-af4c-9636e192ed95"
   },
   "outputs": [
    {
     "data": {
      "text/plain": [
       "numpy.ndarray"
      ]
     },
     "execution_count": 11,
     "metadata": {},
     "output_type": "execute_result"
    }
   ],
   "source": [
    "type(data3.values)"
   ]
  },
  {
   "cell_type": "markdown",
   "metadata": {
    "id": "gjEB8J5bsafQ"
   },
   "source": [
    "- 값에는 모든 데이터 타입 사용이 가능합니다. "
   ]
  },
  {
   "cell_type": "code",
   "execution_count": 10,
   "metadata": {
    "colab": {
     "base_uri": "https://localhost:8080/"
    },
    "executionInfo": {
     "elapsed": 213,
     "status": "ok",
     "timestamp": 1656503819936,
     "user": {
      "displayName": "김주의(문과대학 문헌정보학)",
      "userId": "12730534296048251803"
     },
     "user_tz": -540
    },
    "id": "6Gsdz6Lgwq_8",
    "outputId": "459c5fb2-336c-412a-bd93-eee9709f45ed"
   },
   "outputs": [
    {
     "data": {
      "text/plain": [
       "0          2.5\n",
       "1            1\n",
       "2            2\n",
       "3     big data\n",
       "4    [1, 2, 3]\n",
       "dtype: object"
      ]
     },
     "execution_count": 10,
     "metadata": {},
     "output_type": "execute_result"
    }
   ],
   "source": [
    "data4 = Series([2.5, 1,2, 'big data', [1,2,3]])\n",
    "data4"
   ]
  },
  {
   "cell_type": "markdown",
   "metadata": {
    "id": "U6LOJq0wsafQ"
   },
   "source": [
    "# Series의 속성(Attributes)와 함수(Method)들"
   ]
  },
  {
   "cell_type": "markdown",
   "metadata": {
    "id": "AUhPWbs-safR"
   },
   "source": [
    "#### 샘플 데이터 생성\n",
    " 값과 Index 인자를 사용하여, Series 생성"
   ]
  },
  {
   "cell_type": "code",
   "execution_count": 13,
   "metadata": {
    "colab": {
     "base_uri": "https://localhost:8080/"
    },
    "executionInfo": {
     "elapsed": 222,
     "status": "ok",
     "timestamp": 1656503824727,
     "user": {
      "displayName": "김주의(문과대학 문헌정보학)",
      "userId": "12730534296048251803"
     },
     "user_tz": -540
    },
    "id": "Kv_3r_WEsafR",
    "outputId": "69e8875b-3126-464a-b2d2-c8cb0d85c606",
    "scrolled": true
   },
   "outputs": [
    {
     "data": {
      "text/plain": [
       "a     85\n",
       "b     90\n",
       "c     75\n",
       "d     55\n",
       "e     45\n",
       "f     90\n",
       "g     95\n",
       "h     85\n",
       "i     90\n",
       "j    100\n",
       "dtype: int64"
      ]
     },
     "execution_count": 13,
     "metadata": {},
     "output_type": "execute_result"
    }
   ],
   "source": [
    "sample = Series([85, 90, 75, 55, 45, 90, 95, 85, 90, 100], \n",
    "               index = ['a','b','c','d','e','f','g','h','i','j'])\n",
    "sample"
   ]
  },
  {
   "cell_type": "markdown",
   "metadata": {
    "id": "Ws5bMGsGsafS"
   },
   "source": [
    "### 속성(Attribute) = Series가 가지고 있는 객체, 속성(특징) 혹은 간단한 기능을 제공"
   ]
  },
  {
   "cell_type": "markdown",
   "metadata": {
    "id": "nIdy0svnUti4"
   },
   "source": [
    "A variable stored in an instance or class is called an **`attribute`.**\n",
    "\n",
    "A function stored in an instance or class is called a **`method`.**\n",
    "\n",
    "\n",
    "According to Python's glossary:\n",
    "\n",
    "> **`attribute`**: A value associated with an object which is referenced by name using dotted expressions. For example, if an object o has an attribute a it would be referenced as o.a\n",
    "\n",
    "> **`method`**: A function which is defined inside a class body. If called as an attribute of an instance of that class, the method will get the instance object as its first argument (which is usually called self). See function and nested scope.\n",
    "\n",
    "[참고링크](https://stackoverflow.com/questions/46312470/difference-between-methods-and-attributes-in-python)"
   ]
  },
  {
   "cell_type": "markdown",
   "metadata": {
    "id": "Jm3T2IBnsafS"
   },
   "source": [
    "1) index - Series의 인덱스 (혹은 인덱스 라벨)"
   ]
  },
  {
   "cell_type": "code",
   "execution_count": 14,
   "metadata": {
    "colab": {
     "base_uri": "https://localhost:8080/"
    },
    "executionInfo": {
     "elapsed": 222,
     "status": "ok",
     "timestamp": 1656504468056,
     "user": {
      "displayName": "김주의(문과대학 문헌정보학)",
      "userId": "12730534296048251803"
     },
     "user_tz": -540
    },
    "id": "FkHF8CR-safT",
    "outputId": "ed10654e-6e76-40bb-9409-4e578a28d48d"
   },
   "outputs": [
    {
     "data": {
      "text/plain": [
       "Index(['a', 'b', 'c', 'd', 'e', 'f', 'g', 'h', 'i', 'j'], dtype='object')"
      ]
     },
     "execution_count": 14,
     "metadata": {},
     "output_type": "execute_result"
    }
   ],
   "source": [
    "sample.index"
   ]
  },
  {
   "cell_type": "markdown",
   "metadata": {
    "id": "pHsfErQBsafT"
   },
   "source": [
    "2) values - Series의 데이터"
   ]
  },
  {
   "cell_type": "code",
   "execution_count": 15,
   "metadata": {
    "colab": {
     "base_uri": "https://localhost:8080/"
    },
    "executionInfo": {
     "elapsed": 235,
     "status": "ok",
     "timestamp": 1656504469973,
     "user": {
      "displayName": "김주의(문과대학 문헌정보학)",
      "userId": "12730534296048251803"
     },
     "user_tz": -540
    },
    "id": "5yZD4Cu1safT",
    "outputId": "72864fd2-1d5c-4a43-9749-91ac08616d94"
   },
   "outputs": [
    {
     "data": {
      "text/plain": [
       "array([ 85,  90,  75,  55,  45,  90,  95,  85,  90, 100], dtype=int64)"
      ]
     },
     "execution_count": 15,
     "metadata": {},
     "output_type": "execute_result"
    }
   ],
   "source": [
    "sample.values"
   ]
  },
  {
   "cell_type": "markdown",
   "metadata": {
    "id": "iUbXxTQssafU"
   },
   "source": [
    "3) size - Series의 크기 (데이터의 길이)"
   ]
  },
  {
   "cell_type": "code",
   "execution_count": 16,
   "metadata": {
    "colab": {
     "base_uri": "https://localhost:8080/"
    },
    "executionInfo": {
     "elapsed": 280,
     "status": "ok",
     "timestamp": 1656504471470,
     "user": {
      "displayName": "김주의(문과대학 문헌정보학)",
      "userId": "12730534296048251803"
     },
     "user_tz": -540
    },
    "id": "TfUikjsesafU",
    "outputId": "26a0b7cf-30cd-4fe8-de8a-dd178c82a93c"
   },
   "outputs": [
    {
     "data": {
      "text/plain": [
       "10"
      ]
     },
     "execution_count": 16,
     "metadata": {},
     "output_type": "execute_result"
    }
   ],
   "source": [
    "sample.size"
   ]
  },
  {
   "cell_type": "markdown",
   "metadata": {
    "id": "wIC4nSG0safU"
   },
   "source": [
    "4) dtype - Series의 데이터(Series.values)의 데이터 타입\n",
    "* 정수형 숫자: int64\n",
    "* 실수형 숫자: float64\n",
    "* 문자열이거나 2개 이상의 데이터 타입으로 이루어진 경우: 'O' (Object)"
   ]
  },
  {
   "cell_type": "code",
   "execution_count": 17,
   "metadata": {
    "colab": {
     "base_uri": "https://localhost:8080/"
    },
    "executionInfo": {
     "elapsed": 232,
     "status": "ok",
     "timestamp": 1656504516878,
     "user": {
      "displayName": "김주의(문과대학 문헌정보학)",
      "userId": "12730534296048251803"
     },
     "user_tz": -540
    },
    "id": "f-wFCaGEsafV",
    "outputId": "2d3c6a5b-ec29-40c7-a64a-f5972c9dd56a"
   },
   "outputs": [
    {
     "data": {
      "text/plain": [
       "dtype('int64')"
      ]
     },
     "execution_count": 17,
     "metadata": {},
     "output_type": "execute_result"
    }
   ],
   "source": [
    "sample.dtype"
   ]
  },
  {
   "cell_type": "markdown",
   "metadata": {
    "id": "a1XtL47ZsafV"
   },
   "source": [
    "### 함수(Methods) - Series가 제공하는 다양한 기능 활용\n",
    "* 함수 호출 시 전달되는 자료들을 인자(argument, parameter)라고 합니다.\n",
    "* 각 함수들은 정해진 인자들이 있으며, 인자값들을 토대로 함수가 실행됩니다. \n",
    "* 동일한 함수라고 하더라도 인자값을 어떻게 설정하느냐에 따라 동작방식은 달라질 수 있습니다. \n",
    "\n"
   ]
  },
  {
   "cell_type": "markdown",
   "metadata": {
    "id": "iOoqw-L7safV"
   },
   "source": [
    "1) describe() - 통계 정보를 한 눈에 제공해주는 함수"
   ]
  },
  {
   "cell_type": "code",
   "execution_count": 18,
   "metadata": {
    "colab": {
     "base_uri": "https://localhost:8080/"
    },
    "executionInfo": {
     "elapsed": 239,
     "status": "ok",
     "timestamp": 1656504520315,
     "user": {
      "displayName": "김주의(문과대학 문헌정보학)",
      "userId": "12730534296048251803"
     },
     "user_tz": -540
    },
    "id": "_Mh-v499safW",
    "outputId": "676bc5fc-a1f4-45ab-b9f8-f48c5818b853"
   },
   "outputs": [
    {
     "data": {
      "text/plain": [
       "count     10.000000\n",
       "mean      81.000000\n",
       "std       17.763883\n",
       "min       45.000000\n",
       "25%       77.500000\n",
       "50%       87.500000\n",
       "75%       90.000000\n",
       "max      100.000000\n",
       "dtype: float64"
      ]
     },
     "execution_count": 18,
     "metadata": {},
     "output_type": "execute_result"
    }
   ],
   "source": [
    "sample.describe()"
   ]
  },
  {
   "cell_type": "markdown",
   "metadata": {
    "id": "73apUKynsafW"
   },
   "source": [
    "2) 통계함수들 - max(), min(), mean(), ... "
   ]
  },
  {
   "cell_type": "code",
   "execution_count": 19,
   "metadata": {
    "colab": {
     "base_uri": "https://localhost:8080/"
    },
    "executionInfo": {
     "elapsed": 329,
     "status": "ok",
     "timestamp": 1656504522605,
     "user": {
      "displayName": "김주의(문과대학 문헌정보학)",
      "userId": "12730534296048251803"
     },
     "user_tz": -540
    },
    "id": "d40zHWShsafW",
    "outputId": "83411ef7-75bd-43ea-b7f4-7b903458c8af"
   },
   "outputs": [
    {
     "data": {
      "text/plain": [
       "100"
      ]
     },
     "execution_count": 19,
     "metadata": {},
     "output_type": "execute_result"
    }
   ],
   "source": [
    "sample.max()"
   ]
  },
  {
   "cell_type": "code",
   "execution_count": 20,
   "metadata": {
    "colab": {
     "base_uri": "https://localhost:8080/"
    },
    "executionInfo": {
     "elapsed": 268,
     "status": "ok",
     "timestamp": 1656504523896,
     "user": {
      "displayName": "김주의(문과대학 문헌정보학)",
      "userId": "12730534296048251803"
     },
     "user_tz": -540
    },
    "id": "G5v_33qRxD1K",
    "outputId": "22893de9-d913-4fcd-81d4-26fc6984d1b6"
   },
   "outputs": [
    {
     "data": {
      "text/plain": [
       "45"
      ]
     },
     "execution_count": 20,
     "metadata": {},
     "output_type": "execute_result"
    }
   ],
   "source": [
    "sample.min()"
   ]
  },
  {
   "cell_type": "code",
   "execution_count": 21,
   "metadata": {
    "colab": {
     "base_uri": "https://localhost:8080/"
    },
    "executionInfo": {
     "elapsed": 2,
     "status": "ok",
     "timestamp": 1656504524235,
     "user": {
      "displayName": "김주의(문과대학 문헌정보학)",
      "userId": "12730534296048251803"
     },
     "user_tz": -540
    },
    "id": "Uo5oUX_LxFAH",
    "outputId": "98dcf43f-adb9-49b5-8762-a4e2be379671"
   },
   "outputs": [
    {
     "data": {
      "text/plain": [
       "81.0"
      ]
     },
     "execution_count": 21,
     "metadata": {},
     "output_type": "execute_result"
    }
   ],
   "source": [
    "sample.mean()"
   ]
  },
  {
   "cell_type": "markdown",
   "metadata": {
    "id": "tyRoX9eJsafW"
   },
   "source": [
    "3) add_prefix(prefix) - 인덱스 라벨 앞에 prefix 문자열을 추가"
   ]
  },
  {
   "cell_type": "markdown",
   "metadata": {
    "id": "MNUfss_4XkpW"
   },
   "source": [
    "+) **`add_suffix`** - 인덱스 라벨 뒤에 suffix 문자열 추가\n",
    "\n",
    "**`Series.add_suffix`**\n",
    "\n",
    "Suffix row labels with string suffix.\n",
    "\n",
    "\n",
    "**`DataFrame.add_suffix`**\n",
    "\n",
    "Suffix column labels with string suffix."
   ]
  },
  {
   "cell_type": "code",
   "execution_count": 22,
   "metadata": {
    "colab": {
     "base_uri": "https://localhost:8080/"
    },
    "executionInfo": {
     "elapsed": 344,
     "status": "ok",
     "timestamp": 1656504836521,
     "user": {
      "displayName": "김주의(문과대학 문헌정보학)",
      "userId": "12730534296048251803"
     },
     "user_tz": -540
    },
    "id": "orP_0znbsafX",
    "outputId": "e911fd55-33d8-423e-c054-fe1ec1fa92ac"
   },
   "outputs": [
    {
     "data": {
      "text/plain": [
       "index: a     85\n",
       "index: b     90\n",
       "index: c     75\n",
       "index: d     55\n",
       "index: e     45\n",
       "index: f     90\n",
       "index: g     95\n",
       "index: h     85\n",
       "index: i     90\n",
       "index: j    100\n",
       "dtype: int64"
      ]
     },
     "execution_count": 22,
     "metadata": {},
     "output_type": "execute_result"
    }
   ],
   "source": [
    "sample.add_prefix('index: ')"
   ]
  },
  {
   "cell_type": "markdown",
   "metadata": {
    "id": "8EGCagPtsafX"
   },
   "source": [
    "4) value_counts() - Series에 있는 데이터 값들의 개수"
   ]
  },
  {
   "cell_type": "code",
   "execution_count": 23,
   "metadata": {
    "colab": {
     "base_uri": "https://localhost:8080/"
    },
    "executionInfo": {
     "elapsed": 2,
     "status": "ok",
     "timestamp": 1656504837021,
     "user": {
      "displayName": "김주의(문과대학 문헌정보학)",
      "userId": "12730534296048251803"
     },
     "user_tz": -540
    },
    "id": "1vBIXMz6safZ",
    "outputId": "7da55746-9884-4a53-f7c7-5bf98d904fd7"
   },
   "outputs": [
    {
     "data": {
      "text/plain": [
       "90     3\n",
       "85     2\n",
       "95     1\n",
       "45     1\n",
       "75     1\n",
       "55     1\n",
       "100    1\n",
       "dtype: int64"
      ]
     },
     "execution_count": 23,
     "metadata": {},
     "output_type": "execute_result"
    }
   ],
   "source": [
    "sample.value_counts()"
   ]
  },
  {
   "cell_type": "markdown",
   "metadata": {
    "id": "-tWWdWK5safa"
   },
   "source": [
    "5) add(값) - Series의 데이터 각각에 값을 더하기"
   ]
  },
  {
   "cell_type": "code",
   "execution_count": 24,
   "metadata": {
    "colab": {
     "base_uri": "https://localhost:8080/"
    },
    "executionInfo": {
     "elapsed": 218,
     "status": "ok",
     "timestamp": 1656504838806,
     "user": {
      "displayName": "김주의(문과대학 문헌정보학)",
      "userId": "12730534296048251803"
     },
     "user_tz": -540
    },
    "id": "bfgw0fBlsafa",
    "outputId": "5cdc336b-9023-4cb8-bd25-c8356f531189"
   },
   "outputs": [
    {
     "data": {
      "text/plain": [
       "a    185\n",
       "b    190\n",
       "c    175\n",
       "d    155\n",
       "e    145\n",
       "f    190\n",
       "g    195\n",
       "h    185\n",
       "i    190\n",
       "j    200\n",
       "dtype: int64"
      ]
     },
     "execution_count": 24,
     "metadata": {},
     "output_type": "execute_result"
    }
   ],
   "source": [
    "sample.add(other=100)"
   ]
  },
  {
   "cell_type": "code",
   "execution_count": 25,
   "metadata": {
    "colab": {
     "base_uri": "https://localhost:8080/"
    },
    "executionInfo": {
     "elapsed": 335,
     "status": "ok",
     "timestamp": 1656504842732,
     "user": {
      "displayName": "김주의(문과대학 문헌정보학)",
      "userId": "12730534296048251803"
     },
     "user_tz": -540
    },
    "id": "h4GK6Owix2ZU",
    "outputId": "ef680e5d-db41-4227-a9b1-341787dcadc7"
   },
   "outputs": [
    {
     "data": {
      "text/plain": [
       "a    185\n",
       "b    190\n",
       "c    175\n",
       "d    155\n",
       "e    145\n",
       "f    190\n",
       "g    195\n",
       "h    185\n",
       "i    190\n",
       "j    200\n",
       "dtype: int64"
      ]
     },
     "execution_count": 25,
     "metadata": {},
     "output_type": "execute_result"
    }
   ],
   "source": [
    "sample + 100"
   ]
  },
  {
   "cell_type": "markdown",
   "metadata": {
    "id": "uNz5_JbCsafa"
   },
   "source": [
    "\n",
    "<b>[Mini Quiz #1]</b> 앞에 5개의 데이터에는 5를 더하고, 나머지 5개의 데이터에는 10을 더하시오.\n"
   ]
  },
  {
   "cell_type": "code",
   "execution_count": null,
   "metadata": {
    "colab": {
     "base_uri": "https://localhost:8080/"
    },
    "executionInfo": {
     "elapsed": 251,
     "status": "ok",
     "timestamp": 1656504847150,
     "user": {
      "displayName": "김주의(문과대학 문헌정보학)",
      "userId": "12730534296048251803"
     },
     "user_tz": -540
    },
    "id": "xQ0IGQT6safb",
    "outputId": "74919113-ecdd-44d4-d445-528f071351bc"
   },
   "outputs": [],
   "source": [
    "sample = sample.add([5, 5, 5, 5, 5, 10, 10, 10, 10, 10])\n",
    "sample"
   ]
  },
  {
   "cell_type": "markdown",
   "metadata": {
    "id": "y2LbnVZ1safb"
   },
   "source": [
    "6) append(series) - 인자로 받은 series를 기존 series 뒤에 이어붙여서 하나의 series로 만든다."
   ]
  },
  {
   "cell_type": "code",
   "execution_count": 26,
   "metadata": {
    "colab": {
     "base_uri": "https://localhost:8080/"
    },
    "executionInfo": {
     "elapsed": 251,
     "status": "ok",
     "timestamp": 1656504862111,
     "user": {
      "displayName": "김주의(문과대학 문헌정보학)",
      "userId": "12730534296048251803"
     },
     "user_tz": -540
    },
    "id": "7qLweeGPsafb",
    "outputId": "bfc7ef5e-2272-4120-b47e-e9d7b3f56822"
   },
   "outputs": [
    {
     "data": {
      "text/plain": [
       "a     85\n",
       "b     90\n",
       "c     75\n",
       "d     55\n",
       "e     45\n",
       "f     90\n",
       "g     95\n",
       "h     85\n",
       "i     90\n",
       "j    100\n",
       "e     80\n",
       "dtype: int64"
      ]
     },
     "execution_count": 26,
     "metadata": {},
     "output_type": "execute_result"
    }
   ],
   "source": [
    "sr = Series(80, index=['e'])\n",
    "sample.append(sr)"
   ]
  },
  {
   "cell_type": "markdown",
   "metadata": {
    "id": "Cx1o1pICsafb"
   },
   "source": [
    "7) isin(val_list) - Series에 있는 각각의 데이터들이 val_list에 포함되어 있는지 여부를 확인"
   ]
  },
  {
   "cell_type": "code",
   "execution_count": 27,
   "metadata": {
    "colab": {
     "base_uri": "https://localhost:8080/"
    },
    "executionInfo": {
     "elapsed": 244,
     "status": "ok",
     "timestamp": 1656504872227,
     "user": {
      "displayName": "김주의(문과대학 문헌정보학)",
      "userId": "12730534296048251803"
     },
     "user_tz": -540
    },
    "id": "7oGegqLzsafc",
    "outputId": "5fc8fd74-7242-4f4a-ddd0-8171b5f4eac8"
   },
   "outputs": [
    {
     "data": {
      "text/plain": [
       "a    False\n",
       "b     True\n",
       "c    False\n",
       "d    False\n",
       "e    False\n",
       "f     True\n",
       "g    False\n",
       "h    False\n",
       "i     True\n",
       "j    False\n",
       "dtype: bool"
      ]
     },
     "execution_count": 27,
     "metadata": {},
     "output_type": "execute_result"
    }
   ],
   "source": [
    "sample.isin([90])"
   ]
  },
  {
   "cell_type": "markdown",
   "metadata": {
    "id": "tTUAdXaXsafc"
   },
   "source": [
    "<b>[Mini Quiz #2]</b> sample 데이터 내에 80이 있는지 확인하여 있으면 True, 없으면 False를 출력"
   ]
  },
  {
   "cell_type": "code",
   "execution_count": null,
   "metadata": {
    "colab": {
     "base_uri": "https://localhost:8080/"
    },
    "executionInfo": {
     "elapsed": 9,
     "status": "ok",
     "timestamp": 1656477828305,
     "user": {
      "displayName": "김주의(문과대학 문헌정보학)",
      "userId": "12730534296048251803"
     },
     "user_tz": -540
    },
    "id": "tCzXU38Osafc",
    "outputId": "26e13963-8dbb-4d06-b849-d2ea877ecbb8"
   },
   "outputs": [],
   "source": [
    "80 in sample.values"
   ]
  },
  {
   "cell_type": "markdown",
   "metadata": {
    "id": "M6fUt3pxsafd"
   },
   "source": [
    "<b>[Mini Quiz #3]</b> sample의 인덱스 내에 'h'가 있는지 확인하여 있으면 True, 없으면 False를 출력"
   ]
  },
  {
   "cell_type": "code",
   "execution_count": null,
   "metadata": {
    "colab": {
     "base_uri": "https://localhost:8080/"
    },
    "executionInfo": {
     "elapsed": 272,
     "status": "ok",
     "timestamp": 1656477830087,
     "user": {
      "displayName": "김주의(문과대학 문헌정보학)",
      "userId": "12730534296048251803"
     },
     "user_tz": -540
    },
    "id": "gybLxh82safd",
    "outputId": "0c3a7c20-a3dd-44eb-bd51-f84eebb22bdf"
   },
   "outputs": [],
   "source": [
    "'h' in sample.index"
   ]
  },
  {
   "cell_type": "markdown",
   "metadata": {
    "id": "HQG35kn0safd"
   },
   "source": [
    "8) apply(<i>func</i>) - Series의 값에 <i>func</i> 함수를 적용"
   ]
  },
  {
   "cell_type": "code",
   "execution_count": 28,
   "metadata": {
    "id": "9z9Zk-9Csafe"
   },
   "outputs": [],
   "source": [
    "def get_grade(score):\n",
    "  if(score >= 90):\n",
    "    return 'A'\n",
    "  elif(score >= 80):\n",
    "    return 'B'\n",
    "  else:\n",
    "    return 'C'"
   ]
  },
  {
   "cell_type": "code",
   "execution_count": 30,
   "metadata": {
    "colab": {
     "base_uri": "https://localhost:8080/",
     "height": 36
    },
    "executionInfo": {
     "elapsed": 10,
     "status": "ok",
     "timestamp": 1656477834429,
     "user": {
      "displayName": "김주의(문과대학 문헌정보학)",
      "userId": "12730534296048251803"
     },
     "user_tz": -540
    },
    "id": "GbtOWcT2ybTe",
    "outputId": "240ef6fb-34e2-4e56-bfc1-ac5481675a47"
   },
   "outputs": [
    {
     "data": {
      "text/plain": [
       "'A'"
      ]
     },
     "execution_count": 30,
     "metadata": {},
     "output_type": "execute_result"
    }
   ],
   "source": [
    "get_grade(90)"
   ]
  },
  {
   "cell_type": "code",
   "execution_count": 29,
   "metadata": {
    "colab": {
     "base_uri": "https://localhost:8080/"
    },
    "executionInfo": {
     "elapsed": 17,
     "status": "ok",
     "timestamp": 1656477834866,
     "user": {
      "displayName": "김주의(문과대학 문헌정보학)",
      "userId": "12730534296048251803"
     },
     "user_tz": -540
    },
    "id": "R3NQ0PQnydzG",
    "outputId": "e361516d-994f-4ae5-caff-e004402d14b8"
   },
   "outputs": [
    {
     "data": {
      "text/plain": [
       "a    B\n",
       "b    A\n",
       "c    C\n",
       "d    C\n",
       "e    C\n",
       "f    A\n",
       "g    A\n",
       "h    B\n",
       "i    A\n",
       "j    A\n",
       "dtype: object"
      ]
     },
     "execution_count": 29,
     "metadata": {},
     "output_type": "execute_result"
    }
   ],
   "source": [
    "sample.apply(get_grade)"
   ]
  },
  {
   "cell_type": "markdown",
   "metadata": {
    "id": "wwctaXm3safe"
   },
   "source": [
    "## Series 인덱싱 - 원하는 데이터만 선택하기"
   ]
  },
  {
   "cell_type": "markdown",
   "metadata": {
    "id": "f915e1rNsaff"
   },
   "source": [
    "1) 특정 인덱스 선택하기\n",
    "- 숫자 인덱스와 인덱스 라벨 모두 가능"
   ]
  },
  {
   "cell_type": "code",
   "execution_count": 31,
   "metadata": {
    "colab": {
     "base_uri": "https://localhost:8080/"
    },
    "executionInfo": {
     "elapsed": 309,
     "status": "ok",
     "timestamp": 1656477837953,
     "user": {
      "displayName": "김주의(문과대학 문헌정보학)",
      "userId": "12730534296048251803"
     },
     "user_tz": -540
    },
    "id": "L5reRmmOsaff",
    "outputId": "eb7c9bc3-d06a-4f92-cd20-5b5b0b467d8a"
   },
   "outputs": [
    {
     "data": {
      "text/plain": [
       "85"
      ]
     },
     "execution_count": 31,
     "metadata": {},
     "output_type": "execute_result"
    }
   ],
   "source": [
    "sample['a']"
   ]
  },
  {
   "cell_type": "code",
   "execution_count": 32,
   "metadata": {
    "colab": {
     "base_uri": "https://localhost:8080/"
    },
    "executionInfo": {
     "elapsed": 16,
     "status": "ok",
     "timestamp": 1656477839283,
     "user": {
      "displayName": "김주의(문과대학 문헌정보학)",
      "userId": "12730534296048251803"
     },
     "user_tz": -540
    },
    "id": "Qg9iu1psyqOJ",
    "outputId": "e8695d4f-41d5-4b44-a5b7-3e56e3bfffbb"
   },
   "outputs": [
    {
     "data": {
      "text/plain": [
       "85"
      ]
     },
     "execution_count": 32,
     "metadata": {},
     "output_type": "execute_result"
    }
   ],
   "source": [
    "sample[0]"
   ]
  },
  {
   "cell_type": "markdown",
   "metadata": {
    "id": "yfiapMvSsafg"
   },
   "source": [
    "2) 여러 인덱스를 동시에 선택하기\n",
    "- 선택하고자 하는 인덱스 목록을 리스트(List, [])로 전달"
   ]
  },
  {
   "cell_type": "code",
   "execution_count": 33,
   "metadata": {
    "colab": {
     "base_uri": "https://localhost:8080/"
    },
    "executionInfo": {
     "elapsed": 14,
     "status": "ok",
     "timestamp": 1656477840129,
     "user": {
      "displayName": "김주의(문과대학 문헌정보학)",
      "userId": "12730534296048251803"
     },
     "user_tz": -540
    },
    "id": "xM6N9yOfsafg",
    "outputId": "963daca8-edd8-4d27-d50e-e046fc9cc20b"
   },
   "outputs": [
    {
     "data": {
      "text/plain": [
       "a    85\n",
       "b    90\n",
       "dtype: int64"
      ]
     },
     "execution_count": 33,
     "metadata": {},
     "output_type": "execute_result"
    }
   ],
   "source": [
    "sample[['a', 'b']]"
   ]
  },
  {
   "cell_type": "markdown",
   "metadata": {
    "id": "sc8ApfzXsafh"
   },
   "source": [
    "3)인덱스 슬라이싱 - 주어진 범위에 해당하는 데이터 선택\n",
    "<img src=\"img/1강/Series-슬라이싱.jpg\" alt=\"datetime\" style=\"width: 500px;\"/>"
   ]
  },
  {
   "cell_type": "markdown",
   "metadata": {
    "id": "fZ3x3jngsafi"
   },
   "source": [
    "- start idx와 end idx는 생략이 가능\n",
    "- start idx를 생략 -> 맨 첫 데이터부터 선택\n",
    "- end idx를 생략 -> 데이터 끝까지 선택"
   ]
  },
  {
   "cell_type": "code",
   "execution_count": 34,
   "metadata": {
    "colab": {
     "base_uri": "https://localhost:8080/"
    },
    "executionInfo": {
     "elapsed": 253,
     "status": "ok",
     "timestamp": 1656477841917,
     "user": {
      "displayName": "김주의(문과대학 문헌정보학)",
      "userId": "12730534296048251803"
     },
     "user_tz": -540
    },
    "id": "UlH8xW2dsafi",
    "outputId": "cc52b743-0941-4d93-b15f-1daad2a281de"
   },
   "outputs": [
    {
     "data": {
      "text/plain": [
       "a    85\n",
       "b    90\n",
       "c    75\n",
       "dtype: int64"
      ]
     },
     "execution_count": 34,
     "metadata": {},
     "output_type": "execute_result"
    }
   ],
   "source": [
    "sample['a':'c'] #문자 인덱스면 end idx 포함"
   ]
  },
  {
   "cell_type": "code",
   "execution_count": 35,
   "metadata": {
    "colab": {
     "base_uri": "https://localhost:8080/"
    },
    "executionInfo": {
     "elapsed": 245,
     "status": "ok",
     "timestamp": 1656477843806,
     "user": {
      "displayName": "김주의(문과대학 문헌정보학)",
      "userId": "12730534296048251803"
     },
     "user_tz": -540
    },
    "id": "8Tp6c8iAy2yw",
    "outputId": "f850cb14-2803-4d54-aabc-8775fab90954"
   },
   "outputs": [
    {
     "data": {
      "text/plain": [
       "a    85\n",
       "b    90\n",
       "c    75\n",
       "dtype: int64"
      ]
     },
     "execution_count": 35,
     "metadata": {},
     "output_type": "execute_result"
    }
   ],
   "source": [
    "sample[0:3] #숫자 인덱스면 end idx 미포함"
   ]
  },
  {
   "cell_type": "markdown",
   "metadata": {
    "id": "Ccx1vmqfsafi"
   },
   "source": [
    "4) 조건 색인(불리언 색인) : 조건을 활용한 인덱스 선택\n",
    "- 조건에 충족하는 데이터만 선택하는 방법\n",
    "- 매우 많이 활용되므로, 꼭 알고 있어야 함!\n",
    "<img src=\"img/1강/조건색인1.jpg\" alt=\"datetime\" style=\"width: 1200px;\"/>"
   ]
  },
  {
   "cell_type": "code",
   "execution_count": 36,
   "metadata": {
    "id": "cKEiV-wRsafj"
   },
   "outputs": [],
   "source": [
    "boolean_idx = [False, False, False, False, False, \n",
    "               True, True, True, True, True]"
   ]
  },
  {
   "cell_type": "code",
   "execution_count": 37,
   "metadata": {
    "colab": {
     "base_uri": "https://localhost:8080/"
    },
    "executionInfo": {
     "elapsed": 16,
     "status": "ok",
     "timestamp": 1656477845889,
     "user": {
      "displayName": "김주의(문과대학 문헌정보학)",
      "userId": "12730534296048251803"
     },
     "user_tz": -540
    },
    "id": "cEPH9HP1safj",
    "outputId": "2e63fb19-59dd-462b-e866-6eb839f13134"
   },
   "outputs": [
    {
     "data": {
      "text/plain": [
       "f     90\n",
       "g     95\n",
       "h     85\n",
       "i     90\n",
       "j    100\n",
       "dtype: int64"
      ]
     },
     "execution_count": 37,
     "metadata": {},
     "output_type": "execute_result"
    }
   ],
   "source": [
    "sample[boolean_idx]"
   ]
  },
  {
   "cell_type": "markdown",
   "metadata": {
    "id": "JPFDY3dBsafk"
   },
   "source": [
    "- boolean index를 조건을 통해 생성할 수 있다. \n",
    "<img src=\"img/1강/조건색인2.jpg\" alt=\"datetime\" style=\"width: 1200px;\"/>"
   ]
  },
  {
   "cell_type": "code",
   "execution_count": 38,
   "metadata": {
    "colab": {
     "base_uri": "https://localhost:8080/"
    },
    "executionInfo": {
     "elapsed": 272,
     "status": "ok",
     "timestamp": 1656478126812,
     "user": {
      "displayName": "김주의(문과대학 문헌정보학)",
      "userId": "12730534296048251803"
     },
     "user_tz": -540
    },
    "id": "Lz2CUNWjsafk",
    "outputId": "05c66cb1-d4f0-42ee-9e35-fe2f389d3e22"
   },
   "outputs": [
    {
     "data": {
      "text/plain": [
       "a     85\n",
       "b     90\n",
       "c     75\n",
       "f     90\n",
       "g     95\n",
       "h     85\n",
       "i     90\n",
       "j    100\n",
       "dtype: int64"
      ]
     },
     "execution_count": 38,
     "metadata": {},
     "output_type": "execute_result"
    }
   ],
   "source": [
    "sample[sample >= 70]"
   ]
  },
  {
   "cell_type": "markdown",
   "metadata": {
    "id": "tDlVYMv0safk"
   },
   "source": [
    "<b>[Mini Quiz #4]</b> sample 데이터의 평균값보다 큰 데이터만 선택"
   ]
  },
  {
   "cell_type": "code",
   "execution_count": 39,
   "metadata": {
    "colab": {
     "base_uri": "https://localhost:8080/"
    },
    "executionInfo": {
     "elapsed": 251,
     "status": "ok",
     "timestamp": 1656478282396,
     "user": {
      "displayName": "김주의(문과대학 문헌정보학)",
      "userId": "12730534296048251803"
     },
     "user_tz": -540
    },
    "id": "2pGRl26jy-Hz",
    "outputId": "ae41bcef-58fc-4d0e-cd76-6aea571bde5f"
   },
   "outputs": [
    {
     "data": {
      "text/plain": [
       "81.0"
      ]
     },
     "execution_count": 39,
     "metadata": {},
     "output_type": "execute_result"
    }
   ],
   "source": [
    "sample.mean()"
   ]
  },
  {
   "cell_type": "code",
   "execution_count": 40,
   "metadata": {
    "colab": {
     "base_uri": "https://localhost:8080/"
    },
    "executionInfo": {
     "elapsed": 273,
     "status": "ok",
     "timestamp": 1656478128342,
     "user": {
      "displayName": "김주의(문과대학 문헌정보학)",
      "userId": "12730534296048251803"
     },
     "user_tz": -540
    },
    "id": "ob24Wslxsafl",
    "outputId": "927dcca4-ea47-4260-cf55-3b8b21834029"
   },
   "outputs": [
    {
     "data": {
      "text/plain": [
       "a     85\n",
       "b     90\n",
       "f     90\n",
       "g     95\n",
       "h     85\n",
       "i     90\n",
       "j    100\n",
       "dtype: int64"
      ]
     },
     "execution_count": 40,
     "metadata": {},
     "output_type": "execute_result"
    }
   ],
   "source": [
    "sample[sample >= sample.mean()]"
   ]
  },
  {
   "cell_type": "markdown",
   "metadata": {
    "id": "VzpOnDNxsafm"
   },
   "source": [
    "<b>[Mini Quiz #5]</b> sample의 값이 50과 80 사이의 데이터만 선택"
   ]
  },
  {
   "cell_type": "code",
   "execution_count": 41,
   "metadata": {
    "colab": {
     "base_uri": "https://localhost:8080/"
    },
    "executionInfo": {
     "elapsed": 9,
     "status": "ok",
     "timestamp": 1656478426860,
     "user": {
      "displayName": "김주의(문과대학 문헌정보학)",
      "userId": "12730534296048251803"
     },
     "user_tz": -540
    },
    "id": "g2IVLwVfsafm",
    "outputId": "c52b1308-940c-43dd-9ebe-872eb1de9bf0"
   },
   "outputs": [
    {
     "data": {
      "text/plain": [
       "c    75\n",
       "d    55\n",
       "dtype: int64"
      ]
     },
     "execution_count": 41,
     "metadata": {},
     "output_type": "execute_result"
    }
   ],
   "source": [
    "sample[(sample >= 50) & (sample <= 80)]\n",
    "#sample[sample >= 50][sample <= 80]"
   ]
  },
  {
   "cell_type": "markdown",
   "metadata": {
    "id": "KL4HFPPmsafr"
   },
   "source": [
    "=============================================================\n",
    "# 실습 문제 "
   ]
  },
  {
   "cell_type": "code",
   "execution_count": 42,
   "metadata": {
    "id": "zm4jFREYsafs"
   },
   "outputs": [],
   "source": [
    "import random"
   ]
  },
  {
   "cell_type": "code",
   "execution_count": 43,
   "metadata": {
    "colab": {
     "base_uri": "https://localhost:8080/"
    },
    "executionInfo": {
     "elapsed": 257,
     "status": "ok",
     "timestamp": 1656479142541,
     "user": {
      "displayName": "김주의(문과대학 문헌정보학)",
      "userId": "12730534296048251803"
     },
     "user_tz": -540
    },
    "id": "FSyBX4Fssaft",
    "outputId": "27f3162d-53f6-4087-dca7-41a68fd74c3c"
   },
   "outputs": [
    {
     "data": {
      "text/plain": [
       "A    77\n",
       "B    97\n",
       "C    83\n",
       "D    36\n",
       "E    41\n",
       "F    71\n",
       "G    64\n",
       "H    73\n",
       "I    42\n",
       "J    69\n",
       "K    45\n",
       "L    35\n",
       "M    23\n",
       "N     7\n",
       "O    11\n",
       "P    50\n",
       "Q    78\n",
       "R    24\n",
       "S    26\n",
       "T    92\n",
       "U    46\n",
       "V    25\n",
       "W    49\n",
       "X    34\n",
       "Y    81\n",
       "Z    32\n",
       "dtype: int64"
      ]
     },
     "execution_count": 43,
     "metadata": {},
     "output_type": "execute_result"
    }
   ],
   "source": [
    "# 실습 데이터 생성\n",
    "sample = random.sample(range(1,100),26) # 1~100사이의 값을 26개 생성하여 list로 반환\n",
    "data = Series(sample, index = list('ABCDEFGHIJKLMNOPQRSTUVWXYZ'))\n",
    "data"
   ]
  },
  {
   "cell_type": "code",
   "execution_count": 44,
   "metadata": {
    "colab": {
     "base_uri": "https://localhost:8080/"
    },
    "executionInfo": {
     "elapsed": 372,
     "status": "ok",
     "timestamp": 1656479148784,
     "user": {
      "displayName": "김주의(문과대학 문헌정보학)",
      "userId": "12730534296048251803"
     },
     "user_tz": -540
    },
    "id": "iJTpl4C2safu",
    "outputId": "f81a141c-054b-4536-90f6-76c8a7d6addd"
   },
   "outputs": [
    {
     "data": {
      "text/plain": [
       "K    45\n",
       "dtype: int64"
      ]
     },
     "execution_count": 44,
     "metadata": {},
     "output_type": "execute_result"
    }
   ],
   "source": [
    "# 1) 인덱스 라벨이 'K' 항목의 값 출력\n",
    "data[data.index == 'K']"
   ]
  },
  {
   "cell_type": "code",
   "execution_count": 45,
   "metadata": {
    "colab": {
     "base_uri": "https://localhost:8080/"
    },
    "executionInfo": {
     "elapsed": 16,
     "status": "ok",
     "timestamp": 1656479156611,
     "user": {
      "displayName": "김주의(문과대학 문헌정보학)",
      "userId": "12730534296048251803"
     },
     "user_tz": -540
    },
    "id": "cqlgkfpU2fXo",
    "outputId": "c749f848-6183-43ee-f01b-7643eeeac476"
   },
   "outputs": [
    {
     "data": {
      "text/plain": [
       "45"
      ]
     },
     "execution_count": 45,
     "metadata": {},
     "output_type": "execute_result"
    }
   ],
   "source": [
    "data['K']"
   ]
  },
  {
   "cell_type": "code",
   "execution_count": 46,
   "metadata": {
    "colab": {
     "base_uri": "https://localhost:8080/"
    },
    "executionInfo": {
     "elapsed": 245,
     "status": "ok",
     "timestamp": 1656478543802,
     "user": {
      "displayName": "김주의(문과대학 문헌정보학)",
      "userId": "12730534296048251803"
     },
     "user_tz": -540
    },
    "id": "koteCg9Hsafv",
    "outputId": "a8eef3d8-41b4-4df3-e11d-9aeb2ff6988a"
   },
   "outputs": [
    {
     "data": {
      "text/plain": [
       "A    77\n",
       "C    83\n",
       "F    71\n",
       "dtype: int64"
      ]
     },
     "execution_count": 46,
     "metadata": {},
     "output_type": "execute_result"
    }
   ],
   "source": [
    "# 2) 인덱스 라벨이 'A','F','C' 항목의 값 출력\n",
    "data[(data.index == 'A') | (data.index == 'F') | (data.index == 'C')]"
   ]
  },
  {
   "cell_type": "code",
   "execution_count": 48,
   "metadata": {
    "colab": {
     "base_uri": "https://localhost:8080/"
    },
    "executionInfo": {
     "elapsed": 346,
     "status": "ok",
     "timestamp": 1656479182022,
     "user": {
      "displayName": "김주의(문과대학 문헌정보학)",
      "userId": "12730534296048251803"
     },
     "user_tz": -540
    },
    "id": "wZWi6nwq2UiO",
    "outputId": "81c97a11-c9e9-413c-806d-a3b99a7e83b8"
   },
   "outputs": [
    {
     "data": {
      "text/plain": [
       "A    77\n",
       "F    71\n",
       "C    83\n",
       "dtype: int64"
      ]
     },
     "execution_count": 48,
     "metadata": {},
     "output_type": "execute_result"
    }
   ],
   "source": [
    "data[['A', 'F', 'C']]"
   ]
  },
  {
   "cell_type": "code",
   "execution_count": 49,
   "metadata": {
    "colab": {
     "base_uri": "https://localhost:8080/"
    },
    "executionInfo": {
     "elapsed": 74,
     "status": "ok",
     "timestamp": 1656479225717,
     "user": {
      "displayName": "김주의(문과대학 문헌정보학)",
      "userId": "12730534296048251803"
     },
     "user_tz": -540
    },
    "id": "E9UAvc5rsafw",
    "outputId": "1e110947-47db-4cb3-c03a-43232e7683d0"
   },
   "outputs": [
    {
     "data": {
      "text/plain": [
       "F    71\n",
       "G    64\n",
       "H    73\n",
       "I    42\n",
       "J    69\n",
       "K    45\n",
       "L    35\n",
       "M    23\n",
       "N     7\n",
       "O    11\n",
       "P    50\n",
       "dtype: int64"
      ]
     },
     "execution_count": 49,
     "metadata": {},
     "output_type": "execute_result"
    }
   ],
   "source": [
    "# 3) 5번 인덱스부터 15번 인덱스까지의 항목 출력\n",
    "data[5:16]\n",
    "#data['F':'P]"
   ]
  },
  {
   "cell_type": "code",
   "execution_count": null,
   "metadata": {
    "colab": {
     "base_uri": "https://localhost:8080/"
    },
    "executionInfo": {
     "elapsed": 292,
     "status": "ok",
     "timestamp": 1656478565271,
     "user": {
      "displayName": "김주의(문과대학 문헌정보학)",
      "userId": "12730534296048251803"
     },
     "user_tz": -540
    },
    "id": "Mt2bYCixsafw",
    "outputId": "c69ad03e-8600-43b7-d37c-e65d7e9c4a74"
   },
   "outputs": [],
   "source": [
    "# 4) 뒤에서 5개 항목 출력\n",
    "data[-5:]"
   ]
  },
  {
   "cell_type": "code",
   "execution_count": null,
   "metadata": {
    "colab": {
     "base_uri": "https://localhost:8080/"
    },
    "executionInfo": {
     "elapsed": 12,
     "status": "ok",
     "timestamp": 1656478571539,
     "user": {
      "displayName": "김주의(문과대학 문헌정보학)",
      "userId": "12730534296048251803"
     },
     "user_tz": -540
    },
    "id": "LlFC86hYsafx",
    "outputId": "8eaf5243-5f82-49d7-a622-7192b39e58e2"
   },
   "outputs": [],
   "source": [
    "# 5) data의 항목의 개수를 출력\n",
    "len(data)"
   ]
  },
  {
   "cell_type": "code",
   "execution_count": null,
   "metadata": {
    "colab": {
     "base_uri": "https://localhost:8080/"
    },
    "executionInfo": {
     "elapsed": 277,
     "status": "ok",
     "timestamp": 1656479298773,
     "user": {
      "displayName": "김주의(문과대학 문헌정보학)",
      "userId": "12730534296048251803"
     },
     "user_tz": -540
    },
    "id": "uBkntXj93BBJ",
    "outputId": "f711d9fd-3aaf-4111-af5e-cdd4047431b2"
   },
   "outputs": [],
   "source": [
    "data.size"
   ]
  },
  {
   "cell_type": "code",
   "execution_count": null,
   "metadata": {
    "colab": {
     "base_uri": "https://localhost:8080/"
    },
    "executionInfo": {
     "elapsed": 9,
     "status": "ok",
     "timestamp": 1656478590065,
     "user": {
      "displayName": "김주의(문과대학 문헌정보학)",
      "userId": "12730534296048251803"
     },
     "user_tz": -540
    },
    "id": "B9asgvljsafx",
    "outputId": "70a9690d-50f0-459b-922d-811bdae4cc7c"
   },
   "outputs": [],
   "source": [
    "# 6) data 항목 값들의 평균보다 큰 항목만 출력 \n",
    "## Hint. data 항목 값들의 평균은 data.mean()으로 구할 수 있다.\n",
    "data[data > data.mean()]\n",
    "#data[data>data.mean()].size"
   ]
  },
  {
   "cell_type": "code",
   "execution_count": null,
   "metadata": {
    "colab": {
     "base_uri": "https://localhost:8080/"
    },
    "executionInfo": {
     "elapsed": 253,
     "status": "ok",
     "timestamp": 1656478599510,
     "user": {
      "displayName": "김주의(문과대학 문헌정보학)",
      "userId": "12730534296048251803"
     },
     "user_tz": -540
    },
    "id": "YWnRljpxsafx",
    "outputId": "c9222312-284e-49dc-8d98-0d41e64e20be"
   },
   "outputs": [],
   "source": [
    "# 7) data의 항목 값 중에 50이 있는지 확인하여, 있으면 True, 없으면 False를 출력\n",
    "50 in data.values"
   ]
  },
  {
   "cell_type": "code",
   "execution_count": null,
   "metadata": {
    "colab": {
     "base_uri": "https://localhost:8080/"
    },
    "executionInfo": {
     "elapsed": 23,
     "status": "ok",
     "timestamp": 1656479392911,
     "user": {
      "displayName": "김주의(문과대학 문헌정보학)",
      "userId": "12730534296048251803"
     },
     "user_tz": -540
    },
    "id": "QWeqRaJBsafz",
    "outputId": "ae4781cd-f91f-4980-9f6b-def77358c001"
   },
   "outputs": [],
   "source": [
    "# 8) data의 인덱스 라벨과 각 항목 값을 아래와 같이 출력\n",
    "# index: A, value: XX\n",
    "# index: B, value: XX\n",
    "# index: C, value: XX\n",
    "data.add_prefix('index: ')\n",
    "for i in data.index:\n",
    "  for v in data.values:\n",
    "    print('index: '+ str(i) + ', value: ' + str(v))"
   ]
  },
  {
   "cell_type": "code",
   "execution_count": null,
   "metadata": {
    "colab": {
     "base_uri": "https://localhost:8080/"
    },
    "executionInfo": {
     "elapsed": 9,
     "status": "ok",
     "timestamp": 1656479680984,
     "user": {
      "displayName": "김주의(문과대학 문헌정보학)",
      "userId": "12730534296048251803"
     },
     "user_tz": -540
    },
    "id": "vf1CNucv0hHR",
    "outputId": "f2e9d15d-8f9c-4416-afb2-70df89d6ea8e"
   },
   "outputs": [],
   "source": [
    "for val in data.items():\n",
    "  print(val)"
   ]
  },
  {
   "cell_type": "code",
   "execution_count": null,
   "metadata": {
    "colab": {
     "base_uri": "https://localhost:8080/"
    },
    "executionInfo": {
     "elapsed": 338,
     "status": "ok",
     "timestamp": 1656479753293,
     "user": {
      "displayName": "김주의(문과대학 문헌정보학)",
      "userId": "12730534296048251803"
     },
     "user_tz": -540
    },
    "id": "W1GD40bd4cKR",
    "outputId": "f2d2f2c7-0fb9-4681-ce5b-8e1f6ad1b8f7"
   },
   "outputs": [],
   "source": [
    "for val in data.items():\n",
    "  print('index: ', val[0], ', value: ', val[1])"
   ]
  },
  {
   "cell_type": "code",
   "execution_count": null,
   "metadata": {
    "colab": {
     "base_uri": "https://localhost:8080/"
    },
    "executionInfo": {
     "elapsed": 262,
     "status": "ok",
     "timestamp": 1656479792726,
     "user": {
      "displayName": "김주의(문과대학 문헌정보학)",
      "userId": "12730534296048251803"
     },
     "user_tz": -540
    },
    "id": "WRLkNYks4tt6",
    "outputId": "cdd9ef40-ac24-4bd2-86a2-583f3dbdd63e"
   },
   "outputs": [],
   "source": [
    "for idx, val in data.items():\n",
    "  print('index: ', idx, ', values: ', val)"
   ]
  },
  {
   "cell_type": "code",
   "execution_count": null,
   "metadata": {
    "id": "q4u9cLxR47jR"
   },
   "outputs": [],
   "source": [
    "# 68 in data 기본적으로 data.index임"
   ]
  }
 ],
 "metadata": {
  "accelerator": "GPU",
  "colab": {
   "collapsed_sections": [],
   "name": "1-1. Pandas 개요 및 데이터 타입 소개 1(Series).ipynb",
   "provenance": []
  },
  "gpuClass": "standard",
  "kernelspec": {
   "display_name": "Python 3",
   "language": "python",
   "name": "python3"
  },
  "language_info": {
   "codemirror_mode": {
    "name": "ipython",
    "version": 3
   },
   "file_extension": ".py",
   "mimetype": "text/x-python",
   "name": "python",
   "nbconvert_exporter": "python",
   "pygments_lexer": "ipython3",
   "version": "3.8.5"
  },
  "toc": {
   "base_numbering": 1,
   "nav_menu": {},
   "number_sections": true,
   "sideBar": true,
   "skip_h1_title": false,
   "title_cell": "Table of Contents",
   "title_sidebar": "Contents",
   "toc_cell": false,
   "toc_position": {},
   "toc_section_display": true,
   "toc_window_display": false
  }
 },
 "nbformat": 4,
 "nbformat_minor": 1
}
